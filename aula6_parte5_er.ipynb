{
  "nbformat": 4,
  "nbformat_minor": 0,
  "metadata": {
    "kernelspec": {
      "display_name": "Python 3",
      "language": "python",
      "name": "python3"
    },
    "language_info": {
      "codemirror_mode": {
        "name": "ipython",
        "version": 3
      },
      "file_extension": ".py",
      "mimetype": "text/x-python",
      "name": "python",
      "nbconvert_exporter": "python",
      "pygments_lexer": "ipython3",
      "version": "3.6.5"
    },
    "colab": {
      "name": "aula6-parte5-er.ipynb",
      "provenance": [],
      "include_colab_link": true
    }
  },
  "cells": [
    {
      "cell_type": "markdown",
      "metadata": {
        "id": "view-in-github",
        "colab_type": "text"
      },
      "source": [
        "<a href=\"https://colab.research.google.com/github/nadjapereira/python-applications/blob/master/aula6_parte5_er.ipynb\" target=\"_parent\"><img src=\"https://colab.research.google.com/assets/colab-badge.svg\" alt=\"Open In Colab\"/></a>"
      ]
    },
    {
      "cell_type": "markdown",
      "metadata": {
        "id": "9aMGc_FXilxw",
        "colab_type": "text"
      },
      "source": [
        "# Expressão Regular"
      ]
    },
    {
      "cell_type": "markdown",
      "metadata": {
        "id": "4HITN5jNilxz",
        "colab_type": "text"
      },
      "source": [
        "## Pesquisando"
      ]
    },
    {
      "cell_type": "code",
      "metadata": {
        "id": "d2e3i_vvilx1",
        "colab_type": "code",
        "colab": {}
      },
      "source": [
        "import re"
      ],
      "execution_count": 0,
      "outputs": []
    },
    {
      "cell_type": "code",
      "metadata": {
        "id": "27dM81Kxilx-",
        "colab_type": "code",
        "colab": {}
      },
      "source": [
        "texto = 'um exemplo palavra:python!!'"
      ],
      "execution_count": 0,
      "outputs": []
    },
    {
      "cell_type": "code",
      "metadata": {
        "id": "T1w_rIFRilyK",
        "colab_type": "code",
        "colab": {}
      },
      "source": [
        "match = re.search('python', texto)"
      ],
      "execution_count": 0,
      "outputs": []
    },
    {
      "cell_type": "code",
      "metadata": {
        "id": "clCUskyvilyR",
        "colab_type": "code",
        "colab": {}
      },
      "source": [
        "print(match)"
      ],
      "execution_count": 0,
      "outputs": []
    },
    {
      "cell_type": "code",
      "metadata": {
        "id": "CQTbTWzAilyV",
        "colab_type": "code",
        "colab": {}
      },
      "source": [
        "if match:\n",
        "    print('encontrou: ' + match.group())\n",
        "else:\n",
        "    print('não encontrou')"
      ],
      "execution_count": 0,
      "outputs": []
    },
    {
      "cell_type": "markdown",
      "metadata": {
        "id": "JCAEJDFHilye",
        "colab_type": "text"
      },
      "source": [
        "## Também podemos utilizar a flag IGNORECASE"
      ]
    },
    {
      "cell_type": "code",
      "metadata": {
        "id": "9X_gv7PZilyi",
        "colab_type": "code",
        "colab": {}
      },
      "source": [
        "texto = \"GGATCGGAGCGGATGCC\""
      ],
      "execution_count": 0,
      "outputs": []
    },
    {
      "cell_type": "code",
      "metadata": {
        "id": "AVHNomYcilyq",
        "colab_type": "code",
        "colab": {}
      },
      "source": [
        "match = re.search(r'a[tg]c', texto, re.IGNORECASE)"
      ],
      "execution_count": 0,
      "outputs": []
    },
    {
      "cell_type": "code",
      "metadata": {
        "id": "kYVWMZeailyw",
        "colab_type": "code",
        "colab": {}
      },
      "source": [
        "if match:\n",
        "    print('encontrou: ' + match.group())\n",
        "else:\n",
        "    print('não encontrou')"
      ],
      "execution_count": 0,
      "outputs": []
    },
    {
      "cell_type": "code",
      "metadata": {
        "id": "G0SQeupJily0",
        "colab_type": "code",
        "colab": {}
      },
      "source": [
        "match"
      ],
      "execution_count": 0,
      "outputs": []
    },
    {
      "cell_type": "markdown",
      "metadata": {
        "id": "gwvfI9-8ily6",
        "colab_type": "text"
      },
      "source": [
        "## Extraindo partes de um ER"
      ]
    },
    {
      "cell_type": "code",
      "metadata": {
        "id": "5r6uPMZHily8",
        "colab_type": "code",
        "colab": {}
      },
      "source": [
        "texto = 'teste-teste@gmail-teste.com'"
      ],
      "execution_count": 0,
      "outputs": []
    },
    {
      "cell_type": "code",
      "metadata": {
        "id": "X65ceU9oilzD",
        "colab_type": "code",
        "colab": {}
      },
      "source": [
        "match = re.search(r'([\\w.-]+)@([\\w.-]+)', texto)"
      ],
      "execution_count": 0,
      "outputs": []
    },
    {
      "cell_type": "code",
      "metadata": {
        "id": "XT0I-yCbilzL",
        "colab_type": "code",
        "colab": {}
      },
      "source": [
        "if match:\n",
        "    print('email:', match.group())\n",
        "    print('login:', match.group(1))\n",
        "    print('dominio:', match.group(2))\n",
        "else:\n",
        "    print('não encontrou')"
      ],
      "execution_count": 0,
      "outputs": []
    },
    {
      "cell_type": "markdown",
      "metadata": {
        "id": "DaAfcsxFilzR",
        "colab_type": "text"
      },
      "source": [
        "### Encontrando todas as ocorrências\n",
        "\n",
        "Para encontrar todas as ocorrências podemos utilizar o método ```re.findall()```, que irá salvar todas as ocorrências em uma lista, onde cada posição representa uma ocorrência."
      ]
    },
    {
      "cell_type": "code",
      "metadata": {
        "id": "YPN0hmIQilzT",
        "colab_type": "code",
        "colab": {}
      },
      "source": [
        "texto = 'teste teste@gmail.com teste123 teste-123@gmail.com, python 123@123.com'"
      ],
      "execution_count": 0,
      "outputs": []
    },
    {
      "cell_type": "code",
      "metadata": {
        "id": "PxT-sskjilzX",
        "colab_type": "code",
        "colab": {}
      },
      "source": [
        "emails = re.findall(r'[\\w.-]+@[\\w.-]+', texto)"
      ],
      "execution_count": 0,
      "outputs": []
    },
    {
      "cell_type": "code",
      "metadata": {
        "id": "7ZLaHyGsilzi",
        "colab_type": "code",
        "colab": {}
      },
      "source": [
        "for email in emails:\n",
        "    print(email)"
      ],
      "execution_count": 0,
      "outputs": []
    }
  ]
}