{
  "nbformat": 4,
  "nbformat_minor": 0,
  "metadata": {
    "kernelspec": {
      "display_name": "Python 3",
      "language": "python",
      "name": "python3"
    },
    "language_info": {
      "codemirror_mode": {
        "name": "ipython",
        "version": 3
      },
      "file_extension": ".py",
      "mimetype": "text/x-python",
      "name": "python",
      "nbconvert_exporter": "python",
      "pygments_lexer": "ipython3",
      "version": "3.6.2"
    },
    "colab": {
      "name": "aula3-parte3-scikit-learn.ipynb",
      "provenance": [],
      "include_colab_link": true
    }
  },
  "cells": [
    {
      "cell_type": "markdown",
      "metadata": {
        "id": "view-in-github",
        "colab_type": "text"
      },
      "source": [
        "<a href=\"https://colab.research.google.com/github/nadjapereira/python-applications/blob/master/aula3_parte3_scikit_learn.ipynb\" target=\"_parent\"><img src=\"https://colab.research.google.com/assets/colab-badge.svg\" alt=\"Open In Colab\"/></a>"
      ]
    },
    {
      "cell_type": "markdown",
      "metadata": {
        "id": "qHKT3pkLKbTN",
        "colab_type": "text"
      },
      "source": [
        "# Python para Big Data - <span style=\"color:green\">scikit-learn</span>\n",
        "\n",
        "- É uma biblioteca para aprendizado de máquina em Python, como principal foco:\n",
        "    - Fornecer ferramentas eficientes e simples para Data Mining e Data Analysis.\n",
        "    - Acessível para todos e reutilizável em vários contextos\n",
        "    - Sua construção faz uso do NumPy, SciPy e matplotlib\n",
        "- Provavelmente um dos melhores frameworks de propósito geral de aprendizado de máquina\n",
        "- Iniciou como sendo um projeto do Google Summer of Code em 2007 por David Cournapeau, e foi utilizado na tese de Matthieu Brucher.\n",
        "- Em 2010, INRIA disponibilizou a primeira versão, e financiou o projeto junto com o Google, Tinyclues e a Python Software Foundation.\n",
        "- Muitas empresas utilizam o scikit-lean, alguns exemplos:\n",
        "    - Spotify, Evernote, Google, Data Publica, Data Robot\n",
        "- As principais características:\n",
        "    - Modelos lineares generalizados\n",
        "    - SVMs, kNN, Bayes, Decision Trees, Ensembles\n",
        "    - Algoritmos de Clustering e Density\n",
        "    - Validação cruzada, Pipelining, Avaliação dos modelos\n",
        "    - Transformações dos conjuntos de dados\n",
        "    - Entre outras\n",
        "    \n",
        "## O algoritmo kNN\n",
        "\n",
        "Esse notebook apresenta como utilizar o algoritmo kNN.\n",
        "\n",
        "- k-Nearest Neighbor (KNN)\n",
        "    - É um dos algoritmos de classificação clássicos e bem simples.\n",
        "    - Aprendizado baseado em instâncias:\n",
        "        - Aprendizado: armazenar todas as instâncias de treinamento;\n",
        "        - Classificação: descobrir a qual classe uma nova instância pertence baseado na medida de similaridade (e.g., funções de distância).\n",
        "        - kNN vem sendo utilizado para estimativa estatística e reconhecimento de padrões desde o começo dos anos 70!\n",
        "   \n",
        "   \n",
        "- Para utilizar o kNN é necessário:\n",
        "    - Um conjunto de exemplos de treinamento.\n",
        "    - Definir uma métrica para calcular a distância entre os exemplos de treinamento. \n",
        "    - Definir o valor de k (o número de vizinhos mais próximos que serão considerados pelo algoritmo).\n",
        "    \n",
        "\n",
        "- Portanto, classificar um elemento desconhecido com o algoritmo kNN consiste em:\n",
        "    - Calcular a distância entre o elemento desconhecido e os outros elementos do conjunto de treinamento.\n",
        "    - Identificar os k-vizinhos mais próximos.\n",
        "    - Utilizar o rótulo da classe dos vizinhos mais próximos para determinar o rótulo de classe do elemento desconhecido (votação majoritária).\n",
        "    \n",
        "\n",
        "- Para calcular a distância entre dois pontos, pode-se utilizar a distância euclidiana, manhattan e minkowsi.\n",
        "\n",
        "- A precisão da classificação utilizando o algoritmo KNN depende fortemente do modelo de dados.\n",
        "\n",
        "\n",
        "- Na maioria das vezes os atributos precisam ser normalizados para evitar que as medidas de distância sejam dominado por um único atributo. Exemplos:\n",
        "    - Altura de uma pessoa pode variar de 1,20 a 2,10.\n",
        "    - Peso de uma pessoa pode variar de 40 kg a 150 kg.\n",
        "    - O salário de uma pessoa pode variar de R\\$ 800 a R\\$ 20.000.\n",
        "    \n",
        "Para ilustrar o uso do kNN com a biblioteca scikit-learn utilizaremos um conjunto de segmentação de pele. Foi criado por Rajen Bhatt, Abhinav Dhall e doado para a Universidade da Califórnia, Irvine em 2012.\n",
        "\n",
        "- Conjunto de dados de peles coletados randomicamente (das bases FERET e PAL) através de exemplos de R, G, B de imagens com rostos de diversas pessoas, considerando os seguintes atributos:\n",
        "    - Idade (jovem, adulto ou idoso), Grupo Racial (branco, preto, asiático) e Sexo\n",
        "    - Total da amostra é de 245.057\n",
        "        - 50.859 são exemplos de peles\n",
        "        - 194.198 são exemplos de não-peles.\n",
        "    - Dimensão 245057 * 4, onde as primeiras 3 colunas são os atributos B(x1), G(x2), e R(x3) e a última coluna é o alvo (y).\n",
        "    \n",
        "```\n",
        "Atributos:\n",
        "B(x1), G(x2), e R(x3)\n",
        "\n",
        "Alvo: \n",
        "1 (pele) e 2 (Não pele)\n",
        "```\n",
        "\n",
        "Mais informações: https://archive.ics.uci.edu/ml/datasets/Skin+Segmentation"
      ]
    },
    {
      "cell_type": "markdown",
      "metadata": {
        "id": "_C4LX135KbTP",
        "colab_type": "text"
      },
      "source": [
        "### Conjunto de dados"
      ]
    },
    {
      "cell_type": "code",
      "metadata": {
        "id": "BSNkH_stKbTR",
        "colab_type": "code",
        "colab": {}
      },
      "source": [
        "import pandas as pd"
      ],
      "execution_count": 0,
      "outputs": []
    },
    {
      "cell_type": "code",
      "metadata": {
        "id": "uUnhY9PvKbTX",
        "colab_type": "code",
        "colab": {}
      },
      "source": [
        "arquivo = open('Skin_NonSkin.txt', 'r')"
      ],
      "execution_count": 0,
      "outputs": []
    },
    {
      "cell_type": "code",
      "metadata": {
        "id": "iW5x_-MeKbTb",
        "colab_type": "code",
        "colab": {}
      },
      "source": [
        "dados = pd.read_table(arquivo)"
      ],
      "execution_count": 0,
      "outputs": []
    },
    {
      "cell_type": "code",
      "metadata": {
        "id": "bm3faPc4KbTg",
        "colab_type": "code",
        "colab": {}
      },
      "source": [
        "print(type(dados))"
      ],
      "execution_count": 0,
      "outputs": []
    },
    {
      "cell_type": "code",
      "metadata": {
        "id": "ctcAHY4sKbTl",
        "colab_type": "code",
        "colab": {}
      },
      "source": [
        "print(dados)"
      ],
      "execution_count": 0,
      "outputs": []
    },
    {
      "cell_type": "markdown",
      "metadata": {
        "id": "17MbY_B8KbTp",
        "colab_type": "text"
      },
      "source": [
        "Como podemos visualizar, tanto os atributos (x), quanto o alvo (y) estão em uma mesma estrutura. Precisamos separar para facilitar a aplicação desses dados no aprendizado."
      ]
    },
    {
      "cell_type": "code",
      "metadata": {
        "id": "9S7AI_e3KbTs",
        "colab_type": "code",
        "colab": {}
      },
      "source": [
        "y = dados['y']\n",
        "x = dados.drop('y', axis=1)\n",
        "print(x[:5])"
      ],
      "execution_count": 0,
      "outputs": []
    },
    {
      "cell_type": "markdown",
      "metadata": {
        "id": "U42RirrQKbTx",
        "colab_type": "text"
      },
      "source": [
        "Conforme vimos na descrição do problema, os atributos estão no formato Blue, Green, Red. Para facilitar o entendimento iremos trocar as colunas R e B."
      ]
    },
    {
      "cell_type": "code",
      "metadata": {
        "id": "NgrTgytxKbTz",
        "colab_type": "code",
        "colab": {}
      },
      "source": [
        "x = x.values[:, [2,1,0]]\n",
        "print(len(x))"
      ],
      "execution_count": 0,
      "outputs": []
    },
    {
      "cell_type": "code",
      "metadata": {
        "id": "ErKJ3MtnKbT3",
        "colab_type": "code",
        "colab": {}
      },
      "source": [
        "print(\"Primeiros 5 classificados como 1 (Sim)\")\n",
        "print(x[:5])"
      ],
      "execution_count": 0,
      "outputs": []
    },
    {
      "cell_type": "code",
      "metadata": {
        "id": "pT6Zhzh-KbT-",
        "colab_type": "code",
        "colab": {}
      },
      "source": [
        "print(\"Últimos 5 classificados como 2 (Não)\")\n",
        "print(x[:-5])"
      ],
      "execution_count": 0,
      "outputs": []
    },
    {
      "cell_type": "markdown",
      "metadata": {
        "id": "zhIp2qB7KbUD",
        "colab_type": "text"
      },
      "source": [
        "Agora com os dados estruturados, podemos utilizar o algoritmo disponível no scikit-learn para criar o nosso modelo. Primeiro vamos importar o módulo:\n"
      ]
    },
    {
      "cell_type": "code",
      "metadata": {
        "id": "ZD13q1DtKbUE",
        "colab_type": "code",
        "colab": {}
      },
      "source": [
        "from sklearn import neighbors"
      ],
      "execution_count": 0,
      "outputs": []
    },
    {
      "cell_type": "markdown",
      "metadata": {
        "id": "6gI63_fWKbUI",
        "colab_type": "text"
      },
      "source": [
        "Criando o classificador knn com k=1"
      ]
    },
    {
      "cell_type": "code",
      "metadata": {
        "id": "ORQYr2Q1KbUJ",
        "colab_type": "code",
        "colab": {}
      },
      "source": [
        "knn = neighbors.KNeighborsClassifier(n_neighbors=1)\n",
        "print(knn)"
      ],
      "execution_count": 0,
      "outputs": []
    },
    {
      "cell_type": "markdown",
      "metadata": {
        "id": "hzrwQJ_zKbUN",
        "colab_type": "text"
      },
      "source": [
        "Vamos alimentar nosso modelo com os atributos e o alvo que foram estruturados anteriormente"
      ]
    },
    {
      "cell_type": "code",
      "metadata": {
        "id": "fC90F_0FKbUO",
        "colab_type": "code",
        "colab": {}
      },
      "source": [
        "knn.fit(x, y)"
      ],
      "execution_count": 0,
      "outputs": []
    },
    {
      "cell_type": "markdown",
      "metadata": {
        "id": "IoL7piNuKbUS",
        "colab_type": "text"
      },
      "source": [
        "Com o nosso modelo treinado, podemos prever se um determinado valor R,G,B irá ser classificado como pele ou não. Por exemplo:\n",
        "\n",
        "![](pele.png)\n",
        "\n",
        "Qual será a classificação?"
      ]
    },
    {
      "cell_type": "code",
      "metadata": {
        "id": "tcWafdgNKbUU",
        "colab_type": "code",
        "colab": {}
      },
      "source": [
        "prever = knn.predict([[151, 135, 122]])"
      ],
      "execution_count": 0,
      "outputs": []
    },
    {
      "cell_type": "code",
      "metadata": {
        "id": "Mb2fgBsFKbUY",
        "colab_type": "code",
        "colab": {}
      },
      "source": [
        "print(prever)"
      ],
      "execution_count": 0,
      "outputs": []
    },
    {
      "cell_type": "markdown",
      "metadata": {
        "id": "mBYJw9viKbUc",
        "colab_type": "text"
      },
      "source": [
        "Note que com 1 vizinho a classificação foi gerada errada, pois a cor gerada é referente a uma parte do olho. O correto seria classificar como 2, ou seja não sendo um pigmento de pele. No exemplo abaixo, iremos alterar a quantidade de vizinhos para melhorar a precisão do modelo."
      ]
    },
    {
      "cell_type": "markdown",
      "metadata": {
        "id": "lgH7BTGiKbUd",
        "colab_type": "text"
      },
      "source": [
        "### Separar o conjunto em teste e treino."
      ]
    },
    {
      "cell_type": "code",
      "metadata": {
        "id": "41pCBhx0KbUf",
        "colab_type": "code",
        "colab": {}
      },
      "source": [
        "from sklearn.model_selection import train_test_split"
      ],
      "execution_count": 0,
      "outputs": []
    },
    {
      "cell_type": "code",
      "metadata": {
        "id": "_ggETNPiKbUj",
        "colab_type": "code",
        "colab": {}
      },
      "source": [
        "x_treino, x_teste, y_treino, y_teste = train_test_split(x, y, test_size=0.4, random_state=0)"
      ],
      "execution_count": 0,
      "outputs": []
    },
    {
      "cell_type": "code",
      "metadata": {
        "id": "Y8NkOafJKbUm",
        "colab_type": "code",
        "colab": {}
      },
      "source": [
        "print(x_treino.shape)\n",
        "print(y_treino.shape)\n",
        "print(x_teste.shape)\n",
        "print(y_teste.shape)"
      ],
      "execution_count": 0,
      "outputs": []
    },
    {
      "cell_type": "markdown",
      "metadata": {
        "id": "7O8KnhQvKbUq",
        "colab_type": "text"
      },
      "source": [
        "Recriando o classificador e alimentando-o com os conjuntos de treino."
      ]
    },
    {
      "cell_type": "code",
      "metadata": {
        "id": "pkKAl5w-KbUr",
        "colab_type": "code",
        "colab": {}
      },
      "source": [
        "knn = neighbors.KNeighborsClassifier(n_neighbors=3)\n",
        "knn.fit(x_treino, y_treino)"
      ],
      "execution_count": 0,
      "outputs": []
    },
    {
      "cell_type": "markdown",
      "metadata": {
        "id": "PMtcFyZxKbUv",
        "colab_type": "text"
      },
      "source": [
        "Realizando a previsão/classificação dos dados de teste com base no treinamento realizado"
      ]
    },
    {
      "cell_type": "code",
      "metadata": {
        "id": "am42lyYZKbUw",
        "colab_type": "code",
        "colab": {}
      },
      "source": [
        "prever_treino = knn.predict(x_teste)\n",
        "print(prever_treino)\n",
        "print(prever_treino.shape)"
      ],
      "execution_count": 0,
      "outputs": []
    },
    {
      "cell_type": "markdown",
      "metadata": {
        "id": "LcYqOL9DKbU1",
        "colab_type": "text"
      },
      "source": [
        "Com o modelo treinado e validado, podemos classificar novamente um valor RGB."
      ]
    },
    {
      "cell_type": "code",
      "metadata": {
        "id": "ycCQ0yn3KbU2",
        "colab_type": "code",
        "colab": {}
      },
      "source": [
        "print(knn.predict([[151, 135, 122]]))"
      ],
      "execution_count": 0,
      "outputs": []
    },
    {
      "cell_type": "markdown",
      "metadata": {
        "id": "-tFYmRTTKbU5",
        "colab_type": "text"
      },
      "source": [
        "### Precisão do modelo\n",
        "Como podemos verificar a precisão do nosso algoritmo? Como utilizar o módulo scikit-learn para auxiliar nessa tarefa? O que podemos considerar?\n",
        "\n",
        "Vamos utilizar a técnica de validação cruzada para identificar a precisão do modelo através dos dados de treino e teste."
      ]
    },
    {
      "cell_type": "code",
      "metadata": {
        "id": "31W858k6KbU6",
        "colab_type": "code",
        "colab": {}
      },
      "source": [
        "from sklearn.model_selection import cross_val_score\n",
        "from sklearn import metrics"
      ],
      "execution_count": 0,
      "outputs": []
    },
    {
      "cell_type": "markdown",
      "metadata": {
        "id": "hCgqA_WLKbVK",
        "colab_type": "text"
      },
      "source": [
        "Agora basta, imprimir a variação da precisão do conjunto de treino, utilizado o comando:"
      ]
    },
    {
      "cell_type": "code",
      "metadata": {
        "id": "6j9kshYyKbVM",
        "colab_type": "code",
        "colab": {}
      },
      "source": [
        "print(metrics.accuracy_score(y_teste, prever_treino))"
      ],
      "execution_count": 0,
      "outputs": []
    },
    {
      "cell_type": "markdown",
      "metadata": {
        "id": "69Xl2HraKbVS",
        "colab_type": "text"
      },
      "source": [
        "Para utilizar a validação cruzada em todo o conjunto de dados, utilize o comando abaixo:"
      ]
    },
    {
      "cell_type": "code",
      "metadata": {
        "id": "WLn9x1gjKbVT",
        "colab_type": "code",
        "colab": {}
      },
      "source": [
        "print(cross_val_score(knn, x, y, cv=3))"
      ],
      "execution_count": 0,
      "outputs": []
    },
    {
      "cell_type": "markdown",
      "metadata": {
        "id": "8W7IWgE9KbVX",
        "colab_type": "text"
      },
      "source": [
        "Note que a precisão ficou em torno de 95% mínimo."
      ]
    }
  ]
}