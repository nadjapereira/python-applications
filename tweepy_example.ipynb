{
  "nbformat": 4,
  "nbformat_minor": 0,
  "metadata": {
    "kernelspec": {
      "display_name": "Python 3",
      "language": "python",
      "name": "python3"
    },
    "language_info": {
      "codemirror_mode": {
        "name": "ipython",
        "version": 3
      },
      "file_extension": ".py",
      "mimetype": "text/x-python",
      "name": "python",
      "nbconvert_exporter": "python",
      "pygments_lexer": "ipython3",
      "version": "3.6.3"
    },
    "colab": {
      "name": "tweepy_example.ipynb",
      "provenance": [],
      "include_colab_link": true
    }
  },
  "cells": [
    {
      "cell_type": "markdown",
      "metadata": {
        "id": "view-in-github",
        "colab_type": "text"
      },
      "source": [
        "<a href=\"https://colab.research.google.com/github/nadjapereira/python-applications/blob/master/tweepy_example.ipynb\" target=\"_parent\"><img src=\"https://colab.research.google.com/assets/colab-badge.svg\" alt=\"Open In Colab\"/></a>"
      ]
    },
    {
      "cell_type": "code",
      "metadata": {
        "id": "_h0GnwLGKlPB",
        "colab_type": "code",
        "colab": {}
      },
      "source": [
        "import pandas as pd\n",
        "import tweepy"
      ],
      "execution_count": 0,
      "outputs": []
    },
    {
      "cell_type": "code",
      "metadata": {
        "id": "Qw4WfKzuKlPH",
        "colab_type": "code",
        "colab": {}
      },
      "source": [
        "consumer_key = '1ZQG1zLaiCK2Mpjg3yylBqoeg'\n",
        "consumer_secret = 'YXFqFy4kIXyq5mZ4aXV9wFZ7m85cVzPyJxadoHnBpNNcBKfdfa'\n",
        "access_token = '1008087601893593088-HBpldwAM058tBhQrcjMDZuE8JRKFFp'\n",
        "access_secret = 'oCFOKRi2b1moh8jU8i4TBMGRPEsluCe7bpL0R28jwaQOw'"
      ],
      "execution_count": 0,
      "outputs": []
    },
    {
      "cell_type": "code",
      "metadata": {
        "id": "6NFtvb6gKlPL",
        "colab_type": "code",
        "colab": {}
      },
      "source": [
        "autorizar = tweepy.OAuthHandler(consumer_key, consumer_secret)\n",
        "autorizar.set_access_token(access_token, access_secret)"
      ],
      "execution_count": 0,
      "outputs": []
    },
    {
      "cell_type": "code",
      "metadata": {
        "id": "WGieby9yKlPP",
        "colab_type": "code",
        "colab": {}
      },
      "source": [
        ""
      ],
      "execution_count": 0,
      "outputs": []
    }
  ]
}