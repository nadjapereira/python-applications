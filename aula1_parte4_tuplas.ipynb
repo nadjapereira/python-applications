{
  "nbformat": 4,
  "nbformat_minor": 0,
  "metadata": {
    "kernelspec": {
      "display_name": "Python 3",
      "language": "python",
      "name": "python3"
    },
    "language_info": {
      "codemirror_mode": {
        "name": "ipython",
        "version": 3
      },
      "file_extension": ".py",
      "mimetype": "text/x-python",
      "name": "python",
      "nbconvert_exporter": "python",
      "pygments_lexer": "ipython3",
      "version": "3.6.2"
    },
    "colab": {
      "name": "aula1-parte4-tuplas.ipynb",
      "provenance": [],
      "include_colab_link": true
    }
  },
  "cells": [
    {
      "cell_type": "markdown",
      "metadata": {
        "id": "view-in-github",
        "colab_type": "text"
      },
      "source": [
        "<a href=\"https://colab.research.google.com/github/nadjapereira/python-applications/blob/master/aula1_parte4_tuplas.ipynb\" target=\"_parent\"><img src=\"https://colab.research.google.com/assets/colab-badge.svg\" alt=\"Open In Colab\"/></a>"
      ]
    },
    {
      "cell_type": "markdown",
      "metadata": {
        "id": "BfNIVnutJRj1",
        "colab_type": "text"
      },
      "source": [
        "# Tuplas\n",
        "\n",
        "* Tuplas constroem grupos simples de objetos.\n",
        "* Elas trabalham exatamente como listas, exceto que tuplas não podem ser modificadas (são imutáveis) e são normalmente escritas como uma série de itens em parênteses, não entre colchetes.\n",
        "* Tuplas são coleções ordenadas de objetos arbitrários.\n",
        "* Os itens das tuplas são acessados via índice.\n",
        "* Não suporta operações de alteração.\n",
        "* Tuplas são mais rápido do que listas.\n",
        "* Tuplas podem ser utilizadas como chaves em um dicionário.\n",
        "    * Apenas tuplas de strings e números.\n",
        "\n",
        "* Podemos utiliza-las como pares ordenados (x, y), registros de funcionário extraídos de uma base de dados, etc.\n",
        "\n",
        "\n"
      ]
    },
    {
      "cell_type": "code",
      "metadata": {
        "id": "e974XWYMJRj2",
        "colab_type": "code",
        "colab": {}
      },
      "source": [
        "t1 = ()\n",
        "print(type(t1))"
      ],
      "execution_count": 0,
      "outputs": []
    },
    {
      "cell_type": "code",
      "metadata": {
        "id": "swB7VAYlJRj5",
        "colab_type": "code",
        "colab": {}
      },
      "source": [
        "letras = tuple('abcd')\n",
        "print(letras)"
      ],
      "execution_count": 0,
      "outputs": []
    },
    {
      "cell_type": "code",
      "metadata": {
        "id": "-8umZMkiJRj8",
        "colab_type": "code",
        "colab": {}
      },
      "source": [
        "t2 = (1,)\n",
        "print(type(t2))"
      ],
      "execution_count": 0,
      "outputs": []
    },
    {
      "cell_type": "markdown",
      "metadata": {
        "id": "B6N15ERuJRj-",
        "colab_type": "text"
      },
      "source": [
        "Se não colocar a virgula depois do 1, ```t2``` será to tipo ```int```. Veja abaixo."
      ]
    },
    {
      "cell_type": "code",
      "metadata": {
        "id": "Hf1zQKMlJRj_",
        "colab_type": "code",
        "colab": {}
      },
      "source": [
        "t3 = (1)\n",
        "print(type(t3))"
      ],
      "execution_count": 0,
      "outputs": []
    },
    {
      "cell_type": "markdown",
      "metadata": {
        "id": "TUHuz79vJRkC",
        "colab_type": "text"
      },
      "source": [
        "* Tuplas podem ser de diversos tipos, assim como as listas"
      ]
    },
    {
      "cell_type": "code",
      "metadata": {
        "collapsed": true,
        "id": "HNclYkqwJRkC",
        "colab_type": "code",
        "colab": {}
      },
      "source": [
        "t4 = (1, 'a', 3.4)"
      ],
      "execution_count": 0,
      "outputs": []
    },
    {
      "cell_type": "code",
      "metadata": {
        "id": "eW5gBHBOJRkF",
        "colab_type": "code",
        "colab": {}
      },
      "source": [
        "print(type(t4))"
      ],
      "execution_count": 0,
      "outputs": []
    },
    {
      "cell_type": "markdown",
      "metadata": {
        "id": "oXhnJQBIJRkI",
        "colab_type": "text"
      },
      "source": [
        "* Podemos concatenar"
      ]
    },
    {
      "cell_type": "code",
      "metadata": {
        "collapsed": true,
        "id": "V4ojRvWHJRkJ",
        "colab_type": "code",
        "colab": {}
      },
      "source": [
        "ts = (1, 2) + (3, 4)"
      ],
      "execution_count": 0,
      "outputs": []
    },
    {
      "cell_type": "code",
      "metadata": {
        "id": "WhUyYkjhJRkL",
        "colab_type": "code",
        "colab": {}
      },
      "source": [
        "print(ts)"
      ],
      "execution_count": 0,
      "outputs": []
    },
    {
      "cell_type": "markdown",
      "metadata": {
        "id": "6OgD9MOJJRkO",
        "colab_type": "text"
      },
      "source": [
        "* Podemos multiplicar"
      ]
    },
    {
      "cell_type": "code",
      "metadata": {
        "id": "COQ7owwbJRkO",
        "colab_type": "code",
        "colab": {}
      },
      "source": [
        "ts * 2"
      ],
      "execution_count": 0,
      "outputs": []
    },
    {
      "cell_type": "markdown",
      "metadata": {
        "id": "9al_sy8hJRkR",
        "colab_type": "text"
      },
      "source": [
        "* Podemos Indexar e fatiar"
      ]
    },
    {
      "cell_type": "code",
      "metadata": {
        "id": "xUDaebSXJRkR",
        "colab_type": "code",
        "colab": {}
      },
      "source": [
        "ts[0]"
      ],
      "execution_count": 0,
      "outputs": []
    },
    {
      "cell_type": "code",
      "metadata": {
        "id": "czIF9VLLJRkZ",
        "colab_type": "code",
        "colab": {}
      },
      "source": [
        "ts[2:4]"
      ],
      "execution_count": 0,
      "outputs": []
    },
    {
      "cell_type": "code",
      "metadata": {
        "collapsed": true,
        "id": "y5LxctSoJRkb",
        "colab_type": "code",
        "colab": {}
      },
      "source": [
        "ft = ts[0], ts[2:4]"
      ],
      "execution_count": 0,
      "outputs": []
    },
    {
      "cell_type": "code",
      "metadata": {
        "id": "izYg5A24JRkd",
        "colab_type": "code",
        "colab": {}
      },
      "source": [
        "print(ft)"
      ],
      "execution_count": 0,
      "outputs": []
    },
    {
      "cell_type": "code",
      "metadata": {
        "id": "Vt-HSEBKJRkf",
        "colab_type": "code",
        "colab": {}
      },
      "source": [
        "print(type(ft))"
      ],
      "execution_count": 0,
      "outputs": []
    },
    {
      "cell_type": "markdown",
      "metadata": {
        "id": "Py_lnXuzJRkh",
        "colab_type": "text"
      },
      "source": [
        "* Podemos convert tuplas em listas e vice versa."
      ]
    },
    {
      "cell_type": "code",
      "metadata": {
        "id": "cSkHWp7EJRki",
        "colab_type": "code",
        "colab": {}
      },
      "source": [
        "nl = list(ts)\n",
        "print(nl)"
      ],
      "execution_count": 0,
      "outputs": []
    },
    {
      "cell_type": "code",
      "metadata": {
        "id": "fBTbGaCfJRkk",
        "colab_type": "code",
        "colab": {}
      },
      "source": [
        "tl = tuple(nl)\n",
        "print(tl)"
      ],
      "execution_count": 0,
      "outputs": []
    },
    {
      "cell_type": "code",
      "metadata": {
        "collapsed": true,
        "id": "GqJ8LhHRJRkm",
        "colab_type": "code",
        "colab": {}
      },
      "source": [
        ""
      ],
      "execution_count": 0,
      "outputs": []
    }
  ]
}