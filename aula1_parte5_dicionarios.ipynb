{
  "nbformat": 4,
  "nbformat_minor": 0,
  "metadata": {
    "kernelspec": {
      "display_name": "Python 3",
      "language": "python",
      "name": "python3"
    },
    "language_info": {
      "codemirror_mode": {
        "name": "ipython",
        "version": 3
      },
      "file_extension": ".py",
      "mimetype": "text/x-python",
      "name": "python",
      "nbconvert_exporter": "python",
      "pygments_lexer": "ipython3",
      "version": "3.6.2"
    },
    "colab": {
      "name": "aula1-parte5-dicionarios.ipynb",
      "provenance": [],
      "include_colab_link": true
    }
  },
  "cells": [
    {
      "cell_type": "markdown",
      "metadata": {
        "id": "view-in-github",
        "colab_type": "text"
      },
      "source": [
        "<a href=\"https://colab.research.google.com/github/nadjapereira/python-applications/blob/master/aula1_parte5_dicionarios.ipynb\" target=\"_parent\"><img src=\"https://colab.research.google.com/assets/colab-badge.svg\" alt=\"Open In Colab\"/></a>"
      ]
    },
    {
      "cell_type": "markdown",
      "metadata": {
        "id": "uwB-HNaoJSo_",
        "colab_type": "text"
      },
      "source": [
        "# Dicionários\n",
        "\n",
        "* Um coleção de elementos onde é possível utilizar um índice de qualquer tipo imutável.\n",
        "\n",
        "* Dicionários são encontrados em outras linguagens como \"memória associativa\" ou \"arrays associativos\".\n",
        "\n",
        "* Diferentemente da lista, que são indexadas por um range de números, dicionários são indexados por chaves (keys), que podem ser qualquer tipo imutável (strings e números podem ser chaves (keys))\n",
        "\n",
        "\n",
        "* Podemos pensar que um dicionário é um conjunto de chave : valor (key : value) não ordenado, com o requerimento que a **chave deve ser única**.\n",
        "\n",
        "\n",
        "    - Chave é o índice\n",
        "    - Valor é a informação correspondente a chave\n",
        "    - { } utilizado para iniciar um dicionário\n",
        "    - : separa os pares índice-valor por vírgula \n"
      ]
    },
    {
      "cell_type": "code",
      "metadata": {
        "collapsed": true,
        "id": "c7JjYKepJSpB",
        "colab_type": "code",
        "colab": {}
      },
      "source": [
        "alunos = {'jose': 35, 'bilbo' : 28}"
      ],
      "execution_count": 0,
      "outputs": []
    },
    {
      "cell_type": "code",
      "metadata": {
        "id": "6p93nz0wJSpI",
        "colab_type": "code",
        "colab": {}
      },
      "source": [
        "print(alunos)"
      ],
      "execution_count": 0,
      "outputs": []
    },
    {
      "cell_type": "code",
      "metadata": {
        "id": "BbgBHyymJSpM",
        "colab_type": "code",
        "colab": {}
      },
      "source": [
        "print(alunos['bilbo'])"
      ],
      "execution_count": 0,
      "outputs": []
    },
    {
      "cell_type": "code",
      "metadata": {
        "id": "2RTiKje-JSpP",
        "colab_type": "code",
        "colab": {}
      },
      "source": [
        "print(alunos['jose'])"
      ],
      "execution_count": 0,
      "outputs": []
    },
    {
      "cell_type": "code",
      "metadata": {
        "collapsed": true,
        "id": "A0oGDkclJSpT",
        "colab_type": "code",
        "colab": {}
      },
      "source": [
        "# Adicionar um novo elemento no dicionário\n",
        "alunos['joao'] = 20"
      ],
      "execution_count": 0,
      "outputs": []
    },
    {
      "cell_type": "code",
      "metadata": {
        "id": "DC7VflM4JSpW",
        "colab_type": "code",
        "colab": {}
      },
      "source": [
        "print(alunos)"
      ],
      "execution_count": 0,
      "outputs": []
    },
    {
      "cell_type": "code",
      "metadata": {
        "id": "Sl35vk3oJSpZ",
        "colab_type": "code",
        "colab": {}
      },
      "source": [
        "# Remover um elemento do dicionário\n",
        "del alunos['bilbo']\n",
        "print(alunos)"
      ],
      "execution_count": 0,
      "outputs": []
    },
    {
      "cell_type": "markdown",
      "metadata": {
        "id": "skGtJiQwJSpb",
        "colab_type": "text"
      },
      "source": [
        "## Os métodos disponíveis para Dicionários\n",
        "\n",
        "Da mesma forma que o tipo lista contém métodos disponíveis, o dicionário tem os seguintes métodos:\n",
        "\n",
        "Método | Descrição\n",
        "--- | ---\n",
        "```dic.keys()``` | Retorna uma lista com as chaves do dicionário.\n",
        "```dic.values()``` | Retorna uma lista com os valores do dicionário.\n",
        "```dic.items()``` | Retorna uma lista de tuplas com o conteúdo do dicionário, cada tupla contendo um par (chave, valor).\n",
        "```dic.update(d2)``` | Atualiza o dicionário com base em um segundo. dicionário (d2) fornecido como parâmetro. Elementos do dicionário original que também existem no segundo elemento são atualizados. Elementos que existem no segundo mas não existem no original serão adicionados a este.\n",
        "```dic.clear()``` | Remove todos os elementos do dicionário.\n",
        "```dic.copy()``` | Realiza uma cópia do dicionário\n"
      ]
    },
    {
      "cell_type": "markdown",
      "metadata": {
        "id": "eSqGn7e_JSpc",
        "colab_type": "text"
      },
      "source": [
        "* Recuperar os valores e chaves"
      ]
    },
    {
      "cell_type": "code",
      "metadata": {
        "id": "gUgjn29gJSpd",
        "colab_type": "code",
        "colab": {}
      },
      "source": [
        "alunos"
      ],
      "execution_count": 0,
      "outputs": []
    },
    {
      "cell_type": "code",
      "metadata": {
        "id": "tIcNYftLJSpf",
        "colab_type": "code",
        "colab": {}
      },
      "source": [
        "a = alunos.keys()\n",
        "print(a)"
      ],
      "execution_count": 0,
      "outputs": []
    },
    {
      "cell_type": "code",
      "metadata": {
        "collapsed": true,
        "id": "Erq4AuhgJSpi",
        "colab_type": "code",
        "colab": {}
      },
      "source": [
        "v = alunos.values()"
      ],
      "execution_count": 0,
      "outputs": []
    },
    {
      "cell_type": "code",
      "metadata": {
        "id": "MpV4bCxmJSpk",
        "colab_type": "code",
        "colab": {}
      },
      "source": [
        "print(v)"
      ],
      "execution_count": 0,
      "outputs": []
    },
    {
      "cell_type": "markdown",
      "metadata": {
        "id": "pA6eq1BUJSpm",
        "colab_type": "text"
      },
      "source": [
        "Para trabalhar como lista, precisamos explicitamente converter v para tipo lista"
      ]
    },
    {
      "cell_type": "code",
      "metadata": {
        "id": "6tfe0BuVJSpn",
        "colab_type": "code",
        "colab": {}
      },
      "source": [
        "v = list(v)\n",
        "print(type(v))\n",
        "print(v)"
      ],
      "execution_count": 0,
      "outputs": []
    },
    {
      "cell_type": "markdown",
      "metadata": {
        "id": "74-fcrGEJSpp",
        "colab_type": "text"
      },
      "source": [
        "* Recuperar os itens ```(chave : valor)```"
      ]
    },
    {
      "cell_type": "code",
      "metadata": {
        "id": "ooo22QZfJSpp",
        "colab_type": "code",
        "colab": {}
      },
      "source": [
        "alunos.items()"
      ],
      "execution_count": 0,
      "outputs": []
    },
    {
      "cell_type": "code",
      "metadata": {
        "id": "Cg3qFkY6JSps",
        "colab_type": "code",
        "colab": {}
      },
      "source": [
        "da = alunos.items()\n",
        "type(da)"
      ],
      "execution_count": 0,
      "outputs": []
    },
    {
      "cell_type": "code",
      "metadata": {
        "collapsed": true,
        "id": "S1-0__iIJSpu",
        "colab_type": "code",
        "colab": {}
      },
      "source": [
        "da = list(da)"
      ],
      "execution_count": 0,
      "outputs": []
    },
    {
      "cell_type": "code",
      "metadata": {
        "id": "uJOddTjwJSpx",
        "colab_type": "code",
        "colab": {}
      },
      "source": [
        "da[0]"
      ],
      "execution_count": 0,
      "outputs": []
    },
    {
      "cell_type": "code",
      "metadata": {
        "id": "BUq6_lLbJSpy",
        "colab_type": "code",
        "colab": {}
      },
      "source": [
        "type(da[0])"
      ],
      "execution_count": 0,
      "outputs": []
    },
    {
      "cell_type": "markdown",
      "metadata": {
        "id": "_l2ZJa9RJSp0",
        "colab_type": "text"
      },
      "source": [
        "* Adicionar elementos a partir de outro dicionário"
      ]
    },
    {
      "cell_type": "code",
      "metadata": {
        "collapsed": true,
        "id": "oPjIesWUJSp1",
        "colab_type": "code",
        "colab": {}
      },
      "source": [
        "n_alunos = {'maria': 30, 'james':60}"
      ],
      "execution_count": 0,
      "outputs": []
    },
    {
      "cell_type": "code",
      "metadata": {
        "collapsed": true,
        "id": "TSRONyMBJSp5",
        "colab_type": "code",
        "colab": {}
      },
      "source": [
        "alunos.update(n_alunos)"
      ],
      "execution_count": 0,
      "outputs": []
    },
    {
      "cell_type": "code",
      "metadata": {
        "id": "h41m25MRJSp8",
        "colab_type": "code",
        "colab": {}
      },
      "source": [
        "print(alunos)"
      ],
      "execution_count": 0,
      "outputs": []
    },
    {
      "cell_type": "markdown",
      "metadata": {
        "id": "q61h6DlQJSp9",
        "colab_type": "text"
      },
      "source": [
        "## Exercícios de 5 minutos\n",
        "\n",
        "1 - Crie um dicionário chamado ```palavras```. Esse dicionário irá conter algumas palavras que aparecem repetidamente em um determinado texto. As palavras estão listas abaixo, crie um dicionário sendo a chave o nome da palavra e o valor a quantidade de vezes que a palavra apareceu. Imprima o dicionário criado.\n",
        "    * big = 182 vezes\n",
        "    * data = 342 vezes\n",
        "    * python = 423 vezes"
      ]
    },
    {
      "cell_type": "code",
      "metadata": {
        "collapsed": true,
        "id": "qcS7G69qJSp-",
        "colab_type": "code",
        "colab": {}
      },
      "source": [
        ""
      ],
      "execution_count": 0,
      "outputs": []
    },
    {
      "cell_type": "code",
      "metadata": {
        "id": "NRIX4t7nJSqA",
        "colab_type": "code",
        "colab": {}
      },
      "source": [
        ""
      ],
      "execution_count": 0,
      "outputs": []
    },
    {
      "cell_type": "markdown",
      "metadata": {
        "id": "zA696L7DJSqB",
        "colab_type": "text"
      },
      "source": [
        "2 - Utilizando o dicionário palavras que foi criado no exercício anterior, crie um programa para imprimir as frases:\n",
        "    * a) A palavra python apareceu 423.\n",
        "    * b) As palavras big, data e python apareceram 947 vezes.\n",
        "    \n",
        "É necessário utilizar placeholders. Ou seja, utilize o dicionário ```palavras``` para recuperar as palavras python, big e data bem como os valores.\n",
        "\n",
        "Lembre-se do acesso via índice.\n"
      ]
    },
    {
      "cell_type": "code",
      "metadata": {
        "id": "D771Lu4lJSqC",
        "colab_type": "code",
        "colab": {}
      },
      "source": [
        ""
      ],
      "execution_count": 0,
      "outputs": []
    },
    {
      "cell_type": "code",
      "metadata": {
        "collapsed": true,
        "id": "GHJHRwlAJSqD",
        "colab_type": "code",
        "colab": {}
      },
      "source": [
        ""
      ],
      "execution_count": 0,
      "outputs": []
    },
    {
      "cell_type": "code",
      "metadata": {
        "id": "72lNtjGKJSqF",
        "colab_type": "code",
        "colab": {}
      },
      "source": [
        ""
      ],
      "execution_count": 0,
      "outputs": []
    },
    {
      "cell_type": "code",
      "metadata": {
        "collapsed": true,
        "id": "e62OR15tJSqI",
        "colab_type": "code",
        "colab": {}
      },
      "source": [
        ""
      ],
      "execution_count": 0,
      "outputs": []
    }
  ]
}