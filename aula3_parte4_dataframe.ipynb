{
  "nbformat": 4,
  "nbformat_minor": 0,
  "metadata": {
    "kernelspec": {
      "display_name": "Python 3",
      "language": "python",
      "name": "python3"
    },
    "language_info": {
      "codemirror_mode": {
        "name": "ipython",
        "version": 3
      },
      "file_extension": ".py",
      "mimetype": "text/x-python",
      "name": "python",
      "nbconvert_exporter": "python",
      "pygments_lexer": "ipython3",
      "version": "3.6.2"
    },
    "colab": {
      "name": "aula3-parte4-dataframe.ipynb",
      "provenance": [],
      "include_colab_link": true
    }
  },
  "cells": [
    {
      "cell_type": "markdown",
      "metadata": {
        "id": "view-in-github",
        "colab_type": "text"
      },
      "source": [
        "<a href=\"https://colab.research.google.com/github/nadjapereira/python-applications/blob/master/aula3_parte4_dataframe.ipynb\" target=\"_parent\"><img src=\"https://colab.research.google.com/assets/colab-badge.svg\" alt=\"Open In Colab\"/></a>"
      ]
    },
    {
      "cell_type": "markdown",
      "metadata": {
        "id": "N5lS1_HIKfM-",
        "colab_type": "text"
      },
      "source": [
        "# DataFrame\n",
        "\n",
        "Como vimos DataFrame é um array 2D com rótulos.\n",
        "\n",
        "Os tipos das colunas podem ser heterogêneas (de diversos tipos). Ele tem as seguintes propriedades:\n",
        "\n",
        "* Conceitualmente é semelhante a uma tabela ou planilha de dados.\n",
        "* Colunas podem ser de diferentes tipos: float64, int, bool.\n",
        "* Uma coluna do DataFrame é uma Series.\n",
        "* Podemos pensar que é um dicionário de Series, onde as colunas e linhas são indexadas, denota ```index``` no caso da linhas e ```columns``` no caso de colunas.\n",
        "* Seu tamanho é mutável: colunas podem ser inseridas e deletadas.\n",
        "    \n",
        "Cada eixo do DataFrame tem um índice, seja o padrão ou não. Os índices são necessários para acesso rápido aos dados, bem como para realizar as operações disponíveis."
      ]
    },
    {
      "cell_type": "code",
      "metadata": {
        "id": "Z7Dcv9TeKfNI",
        "colab_type": "code",
        "colab": {}
      },
      "source": [
        "import pandas as pd\n",
        "import numpy as np"
      ],
      "execution_count": 0,
      "outputs": []
    },
    {
      "cell_type": "markdown",
      "metadata": {
        "id": "qx8-KvILKfNX",
        "colab_type": "text"
      },
      "source": [
        "## Criação do DataFrame\n",
        "\n",
        "O DataFrame é a estrutura de dados comumente utilizada no pandas. O construtor aceita diferentes tipos de argumentos:\n",
        "\n",
        "* Dicionário de ndarrays de 1D, listas, dicionários, ou Series.\n",
        "* Array 2D do NumPy\n",
        "* Estruturado\n",
        "* Series\n",
        "* Outra estrutura DataFrame.\n",
        "    \n",
        "Podemos definir os índices das linhas e das colunas. Se eles não foram específicados, eles serão gerados a partir dos dados de entrada de maneira intuitiva. Por exemplo, as chaves do dicionário serão os rótulos das colunas.\n",
        "\n",
        "### Utilizando dicionários de Series\n",
        "\n",
        "Vamos criar um DataFrame utilizando um dicionário de Series e listas dentro de um dicionário."
      ]
    },
    {
      "cell_type": "code",
      "metadata": {
        "id": "HO6bTc5DKfNZ",
        "colab_type": "code",
        "colab": {}
      },
      "source": [
        "resumoAcoes = {\n",
        "    'GOOG' : pd.Series([740, 750], index=['Abertura', 'Fechamento']),\n",
        "    'FB' : pd.Series([110, 120], index=['Abertura', 'Fechamento']),\n",
        "    'TWTR' : pd.Series([20, 30], index=['Abertura', 'Fechamento']),\n",
        "    'AMZN' : pd.Series([740, 750], index=['Abertura', 'Fechamento']),\n",
        "    'AAPL' : [100, 90],\n",
        "    'NFLX' : [70, 80]\n",
        "}"
      ],
      "execution_count": 0,
      "outputs": []
    },
    {
      "cell_type": "code",
      "metadata": {
        "id": "uikbWl61KfNe",
        "colab_type": "code",
        "colab": {}
      },
      "source": [
        "acoesDF = pd.DataFrame(resumoAcoes)\n",
        "print(acoesDF)"
      ],
      "execution_count": 0,
      "outputs": []
    },
    {
      "cell_type": "code",
      "metadata": {
        "id": "Gbz5k9g6KfNi",
        "colab_type": "code",
        "colab": {}
      },
      "source": [
        "acoesDF = pd.DataFrame(resumoAcoes, columns=['GOOG', 'FB', 'AMZN', 'NFLX'])\n",
        "print(acoesDF)"
      ],
      "execution_count": 0,
      "outputs": []
    },
    {
      "cell_type": "code",
      "metadata": {
        "id": "Bog3ekTiKfNm",
        "colab_type": "code",
        "colab": {}
      },
      "source": [
        "acoesDF.index"
      ],
      "execution_count": 0,
      "outputs": []
    },
    {
      "cell_type": "code",
      "metadata": {
        "id": "HYe4PsD1KfNr",
        "colab_type": "code",
        "colab": {}
      },
      "source": [
        "acoesDF.columns"
      ],
      "execution_count": 0,
      "outputs": []
    },
    {
      "cell_type": "markdown",
      "metadata": {
        "id": "P7tFLQyMKfNz",
        "colab_type": "text"
      },
      "source": [
        "### Utilizando Series"
      ]
    },
    {
      "cell_type": "code",
      "metadata": {
        "id": "CSfWQuCLKfN0",
        "colab_type": "code",
        "colab": {}
      },
      "source": [
        "dic_moedas = {\n",
        "    'US' : 'dolar',\n",
        "    'BR' : 'real',\n",
        "    'UK' : 'libra',\n",
        "    'JP' : 'iene'\n",
        "}\n",
        "moedas = pd.Series(dic_moedas)\n",
        "moedas"
      ],
      "execution_count": 0,
      "outputs": []
    },
    {
      "cell_type": "code",
      "metadata": {
        "id": "a097uSsXKfN4",
        "colab_type": "code",
        "colab": {}
      },
      "source": [
        "moedas.name = 'moedas'"
      ],
      "execution_count": 0,
      "outputs": []
    },
    {
      "cell_type": "code",
      "metadata": {
        "id": "kDyVWkhnKfN8",
        "colab_type": "code",
        "colab": {}
      },
      "source": [
        "pd.DataFrame(moedas)"
      ],
      "execution_count": 0,
      "outputs": []
    },
    {
      "cell_type": "code",
      "metadata": {
        "id": "cG2li5D-KfOA",
        "colab_type": "code",
        "colab": {}
      },
      "source": [
        "dic_simbolos = {\n",
        "    'US' : 'U$',\n",
        "    'BR' : 'R$',\n",
        "    'UK' : '£',\n",
        "    'JP' : '¥'\n",
        "}\n",
        "simbolos = pd.Series(dic_simbolos)\n",
        "simbolos"
      ],
      "execution_count": 0,
      "outputs": []
    },
    {
      "cell_type": "code",
      "metadata": {
        "id": "XEcnSFtwKfOE",
        "colab_type": "code",
        "colab": {}
      },
      "source": [
        "simbolos.name = 'simbolos'"
      ],
      "execution_count": 0,
      "outputs": []
    },
    {
      "cell_type": "code",
      "metadata": {
        "id": "iRs8rfYGKfOI",
        "colab_type": "code",
        "colab": {}
      },
      "source": [
        "moeda_simbolos = pd.DataFrame([moedas, simbolos])\n",
        "moeda_simbolos"
      ],
      "execution_count": 0,
      "outputs": []
    },
    {
      "cell_type": "markdown",
      "metadata": {
        "id": "rgq0MjO6KfOM",
        "colab_type": "text"
      },
      "source": [
        "**Durante o curso veremos outras formas de criar um DataFrame.**"
      ]
    },
    {
      "cell_type": "markdown",
      "metadata": {
        "id": "MITkOrxHKfON",
        "colab_type": "text"
      },
      "source": [
        "## Operações do DataFrame\n",
        "\n",
        "### Seleção\n",
        "\n",
        "Uma coluna específica pode ser obtida como uma Series."
      ]
    },
    {
      "cell_type": "code",
      "metadata": {
        "id": "zXdD8pvyKfOO",
        "colab_type": "code",
        "colab": {}
      },
      "source": [
        "print(moeda_simbolos['BR'])"
      ],
      "execution_count": 0,
      "outputs": []
    },
    {
      "cell_type": "code",
      "metadata": {
        "id": "e-ELMnp4KfOS",
        "colab_type": "code",
        "colab": {}
      },
      "source": [
        "print(moeda_simbolos[['BR', 'US']])"
      ],
      "execution_count": 0,
      "outputs": []
    },
    {
      "cell_type": "markdown",
      "metadata": {
        "id": "ez3YTHt6KfOX",
        "colab_type": "text"
      },
      "source": [
        "### Atribuição\n",
        "\n",
        "Uma coluna pode ser adicionada via atribuição"
      ]
    },
    {
      "cell_type": "code",
      "metadata": {
        "id": "p5sTO5S4KfOY",
        "colab_type": "code",
        "colab": {}
      },
      "source": [
        "moeda_simbolos['MXN'] = '$'"
      ],
      "execution_count": 0,
      "outputs": []
    },
    {
      "cell_type": "code",
      "metadata": {
        "id": "KYCAL91QKfOd",
        "colab_type": "code",
        "colab": {}
      },
      "source": [
        "moeda_simbolos"
      ],
      "execution_count": 0,
      "outputs": []
    },
    {
      "cell_type": "code",
      "metadata": {
        "id": "8gTstwZfKfOg",
        "colab_type": "code",
        "colab": {}
      },
      "source": [
        "moeda_simbolos['MXN']['moedas'] = 'peso'"
      ],
      "execution_count": 0,
      "outputs": []
    },
    {
      "cell_type": "code",
      "metadata": {
        "id": "t-TIHhSuKfOk",
        "colab_type": "code",
        "colab": {}
      },
      "source": [
        "moeda_simbolos"
      ],
      "execution_count": 0,
      "outputs": []
    },
    {
      "cell_type": "markdown",
      "metadata": {
        "id": "V6u67b2fKfOo",
        "colab_type": "text"
      },
      "source": [
        "### Remoção\n",
        "\n",
        "Uma coluna pode ser deletada utilizando o nome (rótudo) e a função ```del```conforme visto em dicionários."
      ]
    },
    {
      "cell_type": "code",
      "metadata": {
        "id": "9bAdk2J_KfOq",
        "colab_type": "code",
        "colab": {}
      },
      "source": [
        "del moeda_simbolos['MXN']"
      ],
      "execution_count": 0,
      "outputs": []
    },
    {
      "cell_type": "code",
      "metadata": {
        "id": "Z7WJRmgBKfOu",
        "colab_type": "code",
        "colab": {}
      },
      "source": [
        "moeda_simbolos"
      ],
      "execution_count": 0,
      "outputs": []
    },
    {
      "cell_type": "markdown",
      "metadata": {
        "id": "TraAY_7uKfOx",
        "colab_type": "text"
      },
      "source": [
        "Também podemos utilizar o método ```pop```"
      ]
    },
    {
      "cell_type": "code",
      "metadata": {
        "id": "_73gDVbxKfOy",
        "colab_type": "code",
        "colab": {}
      },
      "source": [
        "uk = moeda_simbolos.pop('UK')\n",
        "print(uk)"
      ],
      "execution_count": 0,
      "outputs": []
    },
    {
      "cell_type": "code",
      "metadata": {
        "id": "jdPvJVRtKfO3",
        "colab_type": "code",
        "colab": {}
      },
      "source": [
        "moeda_simbolos"
      ],
      "execution_count": 0,
      "outputs": []
    },
    {
      "cell_type": "markdown",
      "metadata": {
        "id": "mRBVt1k5KfO7",
        "colab_type": "text"
      },
      "source": [
        "Basicamente, um DataFrame pode ser tratado como se fosse um dicionário de Series. Colunas são inseridas no final. Para inserir uma coluna em um local específico podemos utilizar a função ```insert```."
      ]
    },
    {
      "cell_type": "code",
      "metadata": {
        "id": "5KGnPYQsKfO8",
        "colab_type": "code",
        "colab": {}
      },
      "source": [
        "moeda_simbolos.insert(0, 'UK', uk)\n",
        "moeda_simbolos"
      ],
      "execution_count": 0,
      "outputs": []
    },
    {
      "cell_type": "markdown",
      "metadata": {
        "id": "BtbRfYpPKfPA",
        "colab_type": "text"
      },
      "source": [
        "### Alinhamento\n",
        "\n",
        "Objetos DataFrame alinham de uma maneira similar a Series, exceto que eles se alinham tanto nas colunas quanto nas linhas. O objeto resultante é uma união de colunas e linhas rotuladas."
      ]
    },
    {
      "cell_type": "code",
      "metadata": {
        "id": "XzkujIZRKfPB",
        "colab_type": "code",
        "colab": {}
      },
      "source": [
        "acoesDF1 = acoesDF\n",
        "acoesDF1"
      ],
      "execution_count": 0,
      "outputs": []
    },
    {
      "cell_type": "code",
      "metadata": {
        "id": "0peoP6ZWKfPF",
        "colab_type": "code",
        "colab": {}
      },
      "source": [
        "acoesDF2 = acoesDF * 2\n",
        "acoesDF2['YHOO'] = 80\n",
        "acoesDF2"
      ],
      "execution_count": 0,
      "outputs": []
    },
    {
      "cell_type": "code",
      "metadata": {
        "id": "HT39os05KfPJ",
        "colab_type": "code",
        "colab": {}
      },
      "source": [
        "acoesDF1 + acoesDF2"
      ],
      "execution_count": 0,
      "outputs": []
    },
    {
      "cell_type": "markdown",
      "metadata": {
        "id": "VG-1KkFwKfPN",
        "colab_type": "text"
      },
      "source": [
        "No caso onde não exite rótulos de linhas e colunas em comum, o valor é preenchido com ```NaN```, por exemplo, ```YHOO```.\n",
        "\n",
        "Se combinarmos o DataFrame com uma Series, o comportamento padrão é difundir a Series nas linhas. Vamos utilizar o ```acoesDF1```:"
      ]
    },
    {
      "cell_type": "code",
      "metadata": {
        "id": "v2CykgkFKfPP",
        "colab_type": "code",
        "colab": {}
      },
      "source": [
        "acoesDF1"
      ],
      "execution_count": 0,
      "outputs": []
    },
    {
      "cell_type": "code",
      "metadata": {
        "id": "9yx1rZMaKfPT",
        "colab_type": "code",
        "colab": {}
      },
      "source": [
        "# Pode ser 10 ou tem que ser uma lista com 4 elementos.\n",
        "acoesDF1 + pd.Series(10,\n",
        "                  index = ['GOOG', 'FB', 'AMZN', 'NFLX'])"
      ],
      "execution_count": 0,
      "outputs": []
    },
    {
      "cell_type": "markdown",
      "metadata": {
        "id": "WyADo1g0KfPX",
        "colab_type": "text"
      },
      "source": [
        "### Outras operações matemáticas\n",
        "\n",
        "Operações matemáticas pode ser aplicadas em cada elemento do DF."
      ]
    },
    {
      "cell_type": "code",
      "metadata": {
        "id": "d_E8TCNpKfPZ",
        "colab_type": "code",
        "colab": {}
      },
      "source": [
        "acoesDF1"
      ],
      "execution_count": 0,
      "outputs": []
    },
    {
      "cell_type": "code",
      "metadata": {
        "id": "jKAZTN3WKfPd",
        "colab_type": "code",
        "colab": {}
      },
      "source": [
        "np.sqrt(acoesDF1)"
      ],
      "execution_count": 0,
      "outputs": []
    },
    {
      "cell_type": "code",
      "metadata": {
        "id": "H6MwZt2xKfPg",
        "colab_type": "code",
        "colab": {}
      },
      "source": [
        "np.mean(acoesDF1)"
      ],
      "execution_count": 0,
      "outputs": []
    },
    {
      "cell_type": "markdown",
      "metadata": {
        "collapsed": true,
        "id": "-bsszDdfKfPi",
        "colab_type": "text"
      },
      "source": [
        "## Outras operações"
      ]
    },
    {
      "cell_type": "markdown",
      "metadata": {
        "id": "BFJJE5hjKfPl",
        "colab_type": "text"
      },
      "source": [
        "Conforme vimos, o fatiamento e a indexação podem ser um pouco confuso. \n",
        "\n",
        "Por exemplo, se uma Series tem um index explicito de inteiros, uma operação como ```s1[1]``` irá utilizar o índice explicito, enquanto que uma operação de fatiamento como ```s1[1:3]``` irá utilizar o índice implicito no estilo do Python.\n",
        "\n",
        "Vamos testar!"
      ]
    },
    {
      "cell_type": "code",
      "metadata": {
        "id": "nff9CJ7ZKfPm",
        "colab_type": "code",
        "colab": {}
      },
      "source": [
        "s1 = pd.Series(['a', 'b', 'c'], index=[1,3,5])\n",
        "s1"
      ],
      "execution_count": 0,
      "outputs": []
    },
    {
      "cell_type": "code",
      "metadata": {
        "id": "ZMPy9YP2KfPy",
        "colab_type": "code",
        "colab": {}
      },
      "source": [
        "# índice explicito quando se está indexando\n",
        "s1[1]"
      ],
      "execution_count": 0,
      "outputs": []
    },
    {
      "cell_type": "code",
      "metadata": {
        "id": "zYlf_Ze4KfP2",
        "colab_type": "code",
        "colab": {}
      },
      "source": [
        "# índice implicito quando se está fatiando\n",
        "s1[1:3]"
      ],
      "execution_count": 0,
      "outputs": []
    },
    {
      "cell_type": "markdown",
      "metadata": {
        "id": "lL_HNFtDKfP5",
        "colab_type": "text"
      },
      "source": [
        "Como podemos perceber isso pode ser um pouco confuso no caso de índices de números inteiros. \n",
        "\n",
        "Por isso, Pandas fornece alguns **indexadores especiais** que explicitamente contém esquemas de acesso aos índices. \n",
        "\n",
        "Eles não são métodos funcionais e sim atributos que expõe uma interface de fatiamento particular para o dados.\n",
        "\n",
        "Primeiro, o atributo ```loc``` permite indexar e fatiar sempre utilizando o índice explícito."
      ]
    },
    {
      "cell_type": "code",
      "metadata": {
        "id": "Us7086aNKfP6",
        "colab_type": "code",
        "colab": {}
      },
      "source": [
        "s1"
      ],
      "execution_count": 0,
      "outputs": []
    },
    {
      "cell_type": "code",
      "metadata": {
        "id": "yCtiCQwdKfP8",
        "colab_type": "code",
        "colab": {}
      },
      "source": [
        "s1.loc[1]"
      ],
      "execution_count": 0,
      "outputs": []
    },
    {
      "cell_type": "code",
      "metadata": {
        "id": "XQcWfJY0KfQB",
        "colab_type": "code",
        "colab": {}
      },
      "source": [
        "s1.loc[1:3]"
      ],
      "execution_count": 0,
      "outputs": []
    },
    {
      "cell_type": "markdown",
      "metadata": {
        "id": "meDQvszUKfQJ",
        "colab_type": "text"
      },
      "source": [
        "Já o atributo ```iloc``` permite indexar e fatiar sempre utilizando o índice implicito no estilo do Python."
      ]
    },
    {
      "cell_type": "code",
      "metadata": {
        "id": "UcegCzxSKfQL",
        "colab_type": "code",
        "colab": {}
      },
      "source": [
        "s1.iloc[1]"
      ],
      "execution_count": 0,
      "outputs": []
    },
    {
      "cell_type": "code",
      "metadata": {
        "id": "WcoR-2U9KfQO",
        "colab_type": "code",
        "colab": {}
      },
      "source": [
        "s1.iloc[1:3]"
      ],
      "execution_count": 0,
      "outputs": []
    },
    {
      "cell_type": "code",
      "metadata": {
        "id": "7i8QVffZKfQR",
        "colab_type": "code",
        "colab": {}
      },
      "source": [
        ""
      ],
      "execution_count": 0,
      "outputs": []
    }
  ]
}