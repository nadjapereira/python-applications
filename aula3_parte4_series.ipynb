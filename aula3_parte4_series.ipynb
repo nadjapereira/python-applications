{
  "nbformat": 4,
  "nbformat_minor": 0,
  "metadata": {
    "kernelspec": {
      "display_name": "Python 3",
      "language": "python",
      "name": "python3"
    },
    "language_info": {
      "codemirror_mode": {
        "name": "ipython",
        "version": 3
      },
      "file_extension": ".py",
      "mimetype": "text/x-python",
      "name": "python",
      "nbconvert_exporter": "python",
      "pygments_lexer": "ipython3",
      "version": "3.6.2"
    },
    "colab": {
      "name": "aula3-parte4-series.ipynb",
      "provenance": [],
      "include_colab_link": true
    }
  },
  "cells": [
    {
      "cell_type": "markdown",
      "metadata": {
        "id": "view-in-github",
        "colab_type": "text"
      },
      "source": [
        "<a href=\"https://colab.research.google.com/github/nadjapereira/python-applications/blob/master/aula3_parte4_series.ipynb\" target=\"_parent\"><img src=\"https://colab.research.google.com/assets/colab-badge.svg\" alt=\"Open In Colab\"/></a>"
      ]
    },
    {
      "cell_type": "markdown",
      "metadata": {
        "id": "gn-7QRyvKhhz",
        "colab_type": "text"
      },
      "source": [
        "# Series"
      ]
    },
    {
      "cell_type": "code",
      "metadata": {
        "id": "MW3kdTkTKhh2",
        "colab_type": "code",
        "colab": {}
      },
      "source": [
        "import pandas as pd"
      ],
      "execution_count": 0,
      "outputs": []
    },
    {
      "cell_type": "markdown",
      "metadata": {
        "id": "gv2EbyVdKhh9",
        "colab_type": "text"
      },
      "source": [
        "Series é na verdade um array NumPy de 1 dimensão. Ele consiste de um array NumPy com um array de rótulos.\n",
        "\n",
        "## Criando Series\n",
        "\n",
        "O construtor geral para criar uma Series é da seguinte maneira:\n",
        "\n",
        "```python\n",
        "s = pd.Series(dados)\n",
        "```\n",
        "\n",
        "onde ```dados``` pode ser um dos itens abaixo:\n",
        "\n",
        "    * um numpy.ndarray\n",
        "    * um dicionário\n",
        "    * um valor escalar\n",
        "    \n",
        "Para testar a criação das Series iremos utilizar os três itens citados acima."
      ]
    },
    {
      "cell_type": "markdown",
      "metadata": {
        "id": "Kctw7F37Khh_",
        "colab_type": "text"
      },
      "source": [
        "### Utilizando ```numpy.ndarray```\n",
        "\n",
        "Nesse caso, o índice deve ser do mesmo tamanho do dado. Se um índice não for específicado, o índice padrão ```[0, ... n-1]``` será criado, onde ```n``` é o tamanho do dado.\n",
        "\n",
        "**```Exemplo 1: Para criar uma Series com 7 números randomicos entre 0 e 1, podemos utilizar o método rand do numpy. Note que não especificamos o índice.```**"
      ]
    },
    {
      "cell_type": "code",
      "metadata": {
        "id": "-E2zkTpeKhiC",
        "colab_type": "code",
        "colab": {}
      },
      "source": [
        "import numpy as np"
      ],
      "execution_count": 0,
      "outputs": []
    },
    {
      "cell_type": "code",
      "metadata": {
        "id": "iIUMv0ObKhiK",
        "colab_type": "code",
        "colab": {}
      },
      "source": [
        "ser1 = pd.Series(np.random.rand(7))\n",
        "ser1"
      ],
      "execution_count": 0,
      "outputs": []
    },
    {
      "cell_type": "markdown",
      "metadata": {
        "id": "pR5VedY-KhiS",
        "colab_type": "text"
      },
      "source": [
        "**```Exemplo 2: Vamos criar uma Series com os 5 primeiros meses de um ano, sendo que os indices devem ser os nomes.```**"
      ]
    },
    {
      "cell_type": "code",
      "metadata": {
        "id": "vGt08ENcKhiV",
        "colab_type": "code",
        "colab": {}
      },
      "source": [
        "nome_meses = ['Jan', 'Fev', 'Mar', 'Abr', 'Mai']\n",
        "print(nome_meses)"
      ],
      "execution_count": 0,
      "outputs": []
    },
    {
      "cell_type": "code",
      "metadata": {
        "id": "WxzpaCR3Khia",
        "colab_type": "code",
        "colab": {}
      },
      "source": [
        "meses = pd.Series(np.arange(1, 6), index=nome_meses)\n",
        "meses"
      ],
      "execution_count": 0,
      "outputs": []
    },
    {
      "cell_type": "code",
      "metadata": {
        "id": "6fjMVdNzKhii",
        "colab_type": "code",
        "colab": {}
      },
      "source": [
        "meses.index"
      ],
      "execution_count": 0,
      "outputs": []
    },
    {
      "cell_type": "markdown",
      "metadata": {
        "id": "SQBqFn96Khio",
        "colab_type": "text"
      },
      "source": [
        "### Utilizando dicionário Python\n",
        "\n",
        "Podemos utilizar um dicionário para criar uma Series. Nesse caso, se um índice for fornecido, os rótulos serão construídos a partir deles. Caso não seja fornecido, as chaves do dicionário serão utilizadas como rótulos.\n",
        "\n",
        "Os valores dos dicionários são utilizados para popular a Series."
      ]
    },
    {
      "cell_type": "code",
      "metadata": {
        "id": "hFb9lZr7Khip",
        "colab_type": "code",
        "colab": {}
      },
      "source": [
        "dicionario = {'US' : 'dolar', \\\n",
        "              'BR' : 'real', \\\n",
        "              'UK' : 'libra', \\\n",
        "              'JP' : 'iene'}"
      ],
      "execution_count": 0,
      "outputs": []
    },
    {
      "cell_type": "code",
      "metadata": {
        "id": "80Ulf6O3Khit",
        "colab_type": "code",
        "colab": {}
      },
      "source": [
        "moedas = pd.Series(dicionario)\n",
        "moedas"
      ],
      "execution_count": 0,
      "outputs": []
    },
    {
      "cell_type": "markdown",
      "metadata": {
        "id": "7IGiAtxkKhi1",
        "colab_type": "text"
      },
      "source": [
        "Outra opção seria passar o rótulos que queremos definir via parâmetro ```index```. \n",
        "\n",
        "Considere o dicionário abaixo com preços de ações de algumas empresas."
      ]
    },
    {
      "cell_type": "code",
      "metadata": {
        "id": "ZZFI4Ak9Khi5",
        "colab_type": "code",
        "colab": {}
      },
      "source": [
        "preco_acoes = {'GOOG' : 737.44, \\\n",
        "               'FB' : 120.38, \\\n",
        "               'TWTR' : 18.44, \\\n",
        "               'AMZN' : 744.58, \\\n",
        "               'AAPL' : 99.40, \\\n",
        "               'NFLX' : 85.55}"
      ],
      "execution_count": 0,
      "outputs": []
    },
    {
      "cell_type": "markdown",
      "metadata": {
        "id": "bDFFHrNZKhi-",
        "colab_type": "text"
      },
      "source": [
        "Para criar o nosso próprio índice, iremos utilizar as chaves do dicionário que acabamos de criar."
      ]
    },
    {
      "cell_type": "code",
      "metadata": {
        "id": "rgHhNxnsKhjA",
        "colab_type": "code",
        "colab": {}
      },
      "source": [
        "rotulos = list(preco_acoes.keys())\n",
        "print(rotulos)"
      ],
      "execution_count": 0,
      "outputs": []
    },
    {
      "cell_type": "markdown",
      "metadata": {
        "id": "oU89qzFyKhjP",
        "colab_type": "text"
      },
      "source": [
        "Vamos adicionar um elemento (chave) que não existe no dicionário ```preco_acoes```."
      ]
    },
    {
      "cell_type": "code",
      "metadata": {
        "id": "qSTEo4AZKhjR",
        "colab_type": "code",
        "colab": {}
      },
      "source": [
        "rotulos.append('YHOO')"
      ],
      "execution_count": 0,
      "outputs": []
    },
    {
      "cell_type": "code",
      "metadata": {
        "id": "KlhUDZQeKhjY",
        "colab_type": "code",
        "colab": {}
      },
      "source": [
        "acoes = pd.Series(preco_acoes, index=rotulos)"
      ],
      "execution_count": 0,
      "outputs": []
    },
    {
      "cell_type": "code",
      "metadata": {
        "id": "MCcI66J-Khjd",
        "colab_type": "code",
        "colab": {}
      },
      "source": [
        "acoes"
      ],
      "execution_count": 0,
      "outputs": []
    },
    {
      "cell_type": "markdown",
      "metadata": {
        "id": "kqx9FIYAKhjj",
        "colab_type": "text"
      },
      "source": [
        "O resultado é que o valor para essa chave será definido como ```NaN``` (Not A Number), indicando que está faltando."
      ]
    },
    {
      "cell_type": "markdown",
      "metadata": {
        "id": "hv53goaOKhjk",
        "colab_type": "text"
      },
      "source": [
        "Também podemos utilizar o parâmetro ```name``` que permite nomear a Series e que pode ser útil para combinar objetos de Series em uma estrutura DataFrame."
      ]
    },
    {
      "cell_type": "markdown",
      "metadata": {
        "id": "IKI0ujyXKhjm",
        "colab_type": "text"
      },
      "source": [
        "### Utilizando valores  escalares\n",
        "\n",
        "Para dados escalares, um índice deve ser fornecido. O valor será repetido pela quantidade de valores que estão no índice.\n",
        "\n",
        "Podemos utilizar esse método para fornecer uma rápida forma de inicialização."
      ]
    },
    {
      "cell_type": "code",
      "metadata": {
        "id": "noAVuvrkKhjo",
        "colab_type": "code",
        "colab": {}
      },
      "source": [
        "ser2 = pd.Series(10, index=['col1', 'col2', 'col3'])\n",
        "ser2"
      ],
      "execution_count": 0,
      "outputs": []
    },
    {
      "cell_type": "markdown",
      "metadata": {
        "id": "RACZW5XpKhjt",
        "colab_type": "text"
      },
      "source": [
        "## Operações em Series\n",
        "\n",
        "O comportamento de Series é muito similar ao que fizemos em arrays NumPy, com uma diferença: quando realizamos a operação de fatiamento (slicing), ele também fatia o índice.\n",
        "\n",
        "### Fatiamento (Slicing)"
      ]
    },
    {
      "cell_type": "code",
      "metadata": {
        "id": "O6RRFuzUKhju",
        "colab_type": "code",
        "colab": {}
      },
      "source": [
        "acoes[:4]"
      ],
      "execution_count": 0,
      "outputs": []
    },
    {
      "cell_type": "code",
      "metadata": {
        "id": "eNL9-oOtKhjy",
        "colab_type": "code",
        "colab": {}
      },
      "source": [
        "acoes[acoes > 100]"
      ],
      "execution_count": 0,
      "outputs": []
    },
    {
      "cell_type": "markdown",
      "metadata": {
        "id": "AiQUMJehKhj3",
        "colab_type": "text"
      },
      "source": [
        "### Atribuições\n",
        "\n",
        "Valores podem ser definidos e acessados utilizando o ínidice do rótulo da mesma forma que um dicionário. "
      ]
    },
    {
      "cell_type": "code",
      "metadata": {
        "id": "ZVDxmEqLKhj7",
        "colab_type": "code",
        "colab": {}
      },
      "source": [
        "dicionario['BR']"
      ],
      "execution_count": 0,
      "outputs": []
    },
    {
      "cell_type": "code",
      "metadata": {
        "id": "lNZCBnstKhkB",
        "colab_type": "code",
        "colab": {}
      },
      "source": [
        "acoes['GOOG']"
      ],
      "execution_count": 0,
      "outputs": []
    },
    {
      "cell_type": "code",
      "metadata": {
        "id": "YOM0uh1TKhkH",
        "colab_type": "code",
        "colab": {}
      },
      "source": [
        "acoes['GOOG'] = 1200"
      ],
      "execution_count": 0,
      "outputs": []
    },
    {
      "cell_type": "code",
      "metadata": {
        "id": "p6DXfOZDKhkL",
        "colab_type": "code",
        "colab": {}
      },
      "source": [
        "acoes"
      ],
      "execution_count": 0,
      "outputs": []
    },
    {
      "cell_type": "code",
      "metadata": {
        "id": "jp-aTk38KhkO",
        "colab_type": "code",
        "colab": {}
      },
      "source": [
        "print(acoes['AOL'])"
      ],
      "execution_count": 0,
      "outputs": []
    },
    {
      "cell_type": "markdown",
      "metadata": {
        "id": "07L_7FhcKhkT",
        "colab_type": "text"
      },
      "source": [
        "Podemos evitar esse erro, utilizando o método ```get``` disponível. Nesse caso, o valor ```nan``` é devolvido caso não existe na Series."
      ]
    },
    {
      "cell_type": "code",
      "metadata": {
        "id": "AXXGNOWnKhkU",
        "colab_type": "code",
        "colab": {}
      },
      "source": [
        "acoes.get('AOL', np.NaN)"
      ],
      "execution_count": 0,
      "outputs": []
    },
    {
      "cell_type": "markdown",
      "metadata": {
        "id": "qNKUyN2iKhkZ",
        "colab_type": "text"
      },
      "source": [
        "### Outras operações"
      ]
    },
    {
      "cell_type": "markdown",
      "metadata": {
        "id": "l7wX7vfaKhkb",
        "colab_type": "text"
      },
      "source": [
        "Podemos utilizar operações aritméticas e estatísticas, da mesma forma que nos arrays NumPy."
      ]
    },
    {
      "cell_type": "code",
      "metadata": {
        "id": "rt9rI8vGKhkc",
        "colab_type": "code",
        "colab": {}
      },
      "source": [
        "acoes"
      ],
      "execution_count": 0,
      "outputs": []
    },
    {
      "cell_type": "code",
      "metadata": {
        "id": "9GFiuxDdKhkg",
        "colab_type": "code",
        "colab": {}
      },
      "source": [
        "# Média\n",
        "np.mean(acoes)"
      ],
      "execution_count": 0,
      "outputs": []
    },
    {
      "cell_type": "code",
      "metadata": {
        "id": "0gNyz7I0Khkl",
        "colab_type": "code",
        "colab": {}
      },
      "source": [
        "# Desvio Padrão\n",
        "np.std(acoes)"
      ],
      "execution_count": 0,
      "outputs": []
    },
    {
      "cell_type": "code",
      "metadata": {
        "id": "y7XfQuR3Khks",
        "colab_type": "code",
        "colab": {}
      },
      "source": [
        "ser1"
      ],
      "execution_count": 0,
      "outputs": []
    },
    {
      "cell_type": "code",
      "metadata": {
        "id": "Ev-ScgWlKhkx",
        "colab_type": "code",
        "colab": {}
      },
      "source": [
        "ser1 * 2"
      ],
      "execution_count": 0,
      "outputs": []
    },
    {
      "cell_type": "code",
      "metadata": {
        "id": "4Gqr34TZKhk4",
        "colab_type": "code",
        "colab": {}
      },
      "source": [
        "np.sqrt(ser1)"
      ],
      "execution_count": 0,
      "outputs": []
    },
    {
      "cell_type": "markdown",
      "metadata": {
        "id": "1ucneaIxKhk9",
        "colab_type": "text"
      },
      "source": [
        "Uma característica importante da Series é que os dados são automaticamente alinhadas com base nos rótulos."
      ]
    }
  ]
}