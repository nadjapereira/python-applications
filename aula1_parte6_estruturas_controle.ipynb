{
  "nbformat": 4,
  "nbformat_minor": 0,
  "metadata": {
    "kernelspec": {
      "display_name": "Python 3",
      "language": "python",
      "name": "python3"
    },
    "language_info": {
      "codemirror_mode": {
        "name": "ipython",
        "version": 3
      },
      "file_extension": ".py",
      "mimetype": "text/x-python",
      "name": "python",
      "nbconvert_exporter": "python",
      "pygments_lexer": "ipython3",
      "version": "3.6.2"
    },
    "colab": {
      "name": "aula1-parte6-estruturas-controle.ipynb",
      "provenance": [],
      "include_colab_link": true
    }
  },
  "cells": [
    {
      "cell_type": "markdown",
      "metadata": {
        "id": "view-in-github",
        "colab_type": "text"
      },
      "source": [
        "<a href=\"https://colab.research.google.com/github/nadjapereira/python-applications/blob/master/aula1_parte6_estruturas_controle.ipynb\" target=\"_parent\"><img src=\"https://colab.research.google.com/assets/colab-badge.svg\" alt=\"Open In Colab\"/></a>"
      ]
    },
    {
      "cell_type": "markdown",
      "metadata": {
        "id": "ifz-xrORJTuP",
        "colab_type": "text"
      },
      "source": [
        "# Estruturas de Controle\n",
        "\n",
        "É importante controlar o fluxo do nosso código!\n",
        "\n",
        "## IF, ELIF, ELSE\n",
        "\n",
        "* Para controlar o fluxo do nosso código Python, podemos avaliar uma determinada expressão.\n",
        "    * Um teste (expressão que avalia para verdadeiro (True) ou falso (False)\n",
        "    * Um bloco de código que será executado se o teste for verdadeiro (True)\n",
        "    * Um bloco de código que será executado se o teste for falso (False)\n",
        "\n",
        "<img src=\"if-elif-else.png\" alt=\"if-elif-else\" style=\"width: 200px;\"/>"
      ]
    },
    {
      "cell_type": "code",
      "metadata": {
        "id": "S24RXOlHJTuR",
        "colab_type": "code",
        "colab": {}
      },
      "source": [
        "n = int(input('Digite um número: '))"
      ],
      "execution_count": 0,
      "outputs": []
    },
    {
      "cell_type": "code",
      "metadata": {
        "id": "91NwsvQjJTuX",
        "colab_type": "code",
        "colab": {}
      },
      "source": [
        "if n % 2 == 0:\n",
        "    print('Par')\n",
        "else:\n",
        "    print('Impar')\n"
      ],
      "execution_count": 0,
      "outputs": []
    },
    {
      "cell_type": "markdown",
      "metadata": {
        "id": "I6QCZJwMJTub",
        "colab_type": "text"
      },
      "source": [
        "Também podemos ter condições dentro de condições, por exemplo:"
      ]
    },
    {
      "cell_type": "code",
      "metadata": {
        "id": "U3wAOhZMJTuc",
        "colab_type": "code",
        "colab": {}
      },
      "source": [
        "nome = 'fia2'\n",
        "\n",
        "if nome == 'fia':\n",
        "    idade = 35\n",
        "    print(idade)\n",
        "elif nome == 'usp':\n",
        "    idade = 82\n",
        "    print(idade)\n",
        "else:\n",
        "    print(\"Não corresponde a nenhum nome\")\n",
        "    "
      ],
      "execution_count": 0,
      "outputs": []
    },
    {
      "cell_type": "markdown",
      "metadata": {
        "id": "WKyKDxaGJTuf",
        "colab_type": "text"
      },
      "source": [
        "* Também podemos utilizar comparações boleanas"
      ]
    },
    {
      "cell_type": "code",
      "metadata": {
        "collapsed": true,
        "id": "QmwmT-p6JTug",
        "colab_type": "code",
        "colab": {}
      },
      "source": [
        "x = 10\n",
        "y = 11\n",
        "z = 12"
      ],
      "execution_count": 0,
      "outputs": []
    },
    {
      "cell_type": "code",
      "metadata": {
        "id": "r_hgquxPJTuj",
        "colab_type": "code",
        "colab": {}
      },
      "source": [
        "if x < y and x < z:\n",
        "    print(\"x é menor\")\n",
        "elif y < z:\n",
        "    print(\"y é menor\")\n",
        "else:\n",
        "    print(\"z é menor\")"
      ],
      "execution_count": 0,
      "outputs": []
    },
    {
      "cell_type": "markdown",
      "metadata": {
        "id": "JAtLaRxOJTum",
        "colab_type": "text"
      },
      "source": [
        "** Não existe estrutura do tipo switch/case**"
      ]
    },
    {
      "cell_type": "markdown",
      "metadata": {
        "id": "nh9hOcuKJTun",
        "colab_type": "text"
      },
      "source": [
        "## WHILE\n",
        "\n",
        "É utilizado para execução repetitiva enquanto a expressão for verdadeira.\n",
        "\n",
        "* Estamos começando a adicionar complexidade em nosso código.\n",
        "    * Inicia com um teste\n",
        "    * Se o teste resultar em verdadeiro (True), então o código do laço iterativo será executado uma única vez e então o código será redirecionado para que o teste seja refeito.\n",
        "    * Esse processo é repetido até que o teste resulte em falso (False), saindo do laço iterativo.\n",
        "    \n",
        "\n",
        "<img src=\"while.png\" alt=\"if-elif-else\" style=\"width: 200px;\"/>"
      ]
    },
    {
      "cell_type": "code",
      "metadata": {
        "id": "CyDBiPAfJTuo",
        "colab_type": "code",
        "colab": {}
      },
      "source": [
        "lista = [1, 2, 3]\n",
        "n = len(lista) - 1\n",
        "\n",
        "while (n != -1):\n",
        "    print(lista[n])\n",
        "    n = n - 1"
      ],
      "execution_count": 0,
      "outputs": []
    },
    {
      "cell_type": "markdown",
      "metadata": {
        "id": "--Plg348JTuq",
        "colab_type": "text"
      },
      "source": [
        "* O código acima escrito de outra forma"
      ]
    },
    {
      "cell_type": "code",
      "metadata": {
        "id": "mazKCSEGJTur",
        "colab_type": "code",
        "colab": {}
      },
      "source": [
        "lista = [1, 2, 3]\n",
        "n = len(lista) - 1\n",
        "while True:\n",
        "    print(lista[n])\n",
        "    n = n - 1\n",
        "    if n < 0:\n",
        "        break\n"
      ],
      "execution_count": 0,
      "outputs": []
    },
    {
      "cell_type": "markdown",
      "metadata": {
        "id": "eSFBFJTRJTut",
        "colab_type": "text"
      },
      "source": [
        "* Note que para pararmos a execução do laço, temos que explicitamente colocar o comando ```break``` para interromper a execução do laço. Isso não é feito no exemplo anterior, onde o \"break\" acontece quando o expressão é falsa."
      ]
    },
    {
      "cell_type": "markdown",
      "metadata": {
        "id": "DjQbDwNYJTuu",
        "colab_type": "text"
      },
      "source": [
        "## FOR\n",
        "\n",
        "Para percorrer um conjunto de valores podemos utilizar o laço iterativo FOR."
      ]
    },
    {
      "cell_type": "code",
      "metadata": {
        "collapsed": true,
        "id": "H7BhhRM0JTuv",
        "colab_type": "code",
        "colab": {}
      },
      "source": [
        "produtos = ['ipad', 'celular', 'notebook', 'tv']"
      ],
      "execution_count": 0,
      "outputs": []
    },
    {
      "cell_type": "code",
      "metadata": {
        "id": "-qu1lZcAJTux",
        "colab_type": "code",
        "colab": {}
      },
      "source": [
        "for item in produtos:\n",
        "    print(item)"
      ],
      "execution_count": 0,
      "outputs": []
    },
    {
      "cell_type": "markdown",
      "metadata": {
        "id": "uw6pXzbAJTu7",
        "colab_type": "text"
      },
      "source": [
        "* Podemos utilizar a função ```enumerate()``` para recuperar a posição do index e o valor correspondente"
      ]
    },
    {
      "cell_type": "code",
      "metadata": {
        "id": "L-KFiXobJTu7",
        "colab_type": "code",
        "colab": {}
      },
      "source": [
        "for i, item in enumerate(produtos):\n",
        "    print(i, item)"
      ],
      "execution_count": 0,
      "outputs": []
    },
    {
      "cell_type": "markdown",
      "metadata": {
        "id": "oETZXKV2JTu9",
        "colab_type": "text"
      },
      "source": [
        "### A função ```range```\n",
        "\n",
        "A função ```range(inicio, fim, passo)``` produz um objeto que tem uma sequencia de inteiros. O inicio se não for passado é 0 e é inclusivo, e o fim é a parada que é exclusivo.\n",
        "\n",
        "Quando o passo for dado, ele incrementa ou decrementa."
      ]
    },
    {
      "cell_type": "code",
      "metadata": {
        "id": "fSDu1FBnJTu-",
        "colab_type": "code",
        "colab": {}
      },
      "source": [
        "list(range(5))"
      ],
      "execution_count": 0,
      "outputs": []
    },
    {
      "cell_type": "code",
      "metadata": {
        "collapsed": true,
        "id": "yNYB1u-OJTvA",
        "colab_type": "code",
        "colab": {}
      },
      "source": [
        "r1 = list(range(5))"
      ],
      "execution_count": 0,
      "outputs": []
    },
    {
      "cell_type": "code",
      "metadata": {
        "id": "vGpV2l4uJTvD",
        "colab_type": "code",
        "colab": {}
      },
      "source": [
        "for i in r1:\n",
        "    print(i)"
      ],
      "execution_count": 0,
      "outputs": []
    },
    {
      "cell_type": "code",
      "metadata": {
        "id": "Y-5mHE9CJTvF",
        "colab_type": "code",
        "colab": {}
      },
      "source": [
        "list(range(0, 10, 2))"
      ],
      "execution_count": 0,
      "outputs": []
    },
    {
      "cell_type": "code",
      "metadata": {
        "id": "hhBxbuMeJTvH",
        "colab_type": "code",
        "colab": {}
      },
      "source": [
        "r2 = range(0, 10, 2)\n",
        "for i in r2:\n",
        "    print(i)"
      ],
      "execution_count": 0,
      "outputs": []
    },
    {
      "cell_type": "markdown",
      "metadata": {
        "id": "kwH8a3eiJTvJ",
        "colab_type": "text"
      },
      "source": [
        "* Para iterar em uma sequencia reversa, primeiro é necessário especificar a direção e então chamar a função ```reversed()```"
      ]
    },
    {
      "cell_type": "code",
      "metadata": {
        "id": "usOOjkY1JTvJ",
        "colab_type": "code",
        "colab": {}
      },
      "source": [
        "for i in reversed(range(1, 10, 2)):\n",
        "    print(i)"
      ],
      "execution_count": 0,
      "outputs": []
    },
    {
      "cell_type": "markdown",
      "metadata": {
        "id": "CuCEkzfuJTvL",
        "colab_type": "text"
      },
      "source": [
        "* Também podemos utilizar a função range() para iterar em uma sequencia reversa"
      ]
    },
    {
      "cell_type": "code",
      "metadata": {
        "id": "iYB3cwywJTvM",
        "colab_type": "code",
        "colab": {}
      },
      "source": [
        "num = 5\n",
        "for num in range(num, 0, -1):\n",
        "    print(num)"
      ],
      "execution_count": 0,
      "outputs": []
    },
    {
      "cell_type": "markdown",
      "metadata": {
        "id": "2l6aAr_iJTvN",
        "colab_type": "text"
      },
      "source": [
        "* Um exemplo um pouco mais completo"
      ]
    },
    {
      "cell_type": "code",
      "metadata": {
        "collapsed": true,
        "id": "SXg4hzo7JTvO",
        "colab_type": "code",
        "colab": {}
      },
      "source": [
        "l1 = list(\"abcdef\")"
      ],
      "execution_count": 0,
      "outputs": []
    },
    {
      "cell_type": "code",
      "metadata": {
        "id": "vadN41NgJTvQ",
        "colab_type": "code",
        "colab": {}
      },
      "source": [
        "l1"
      ],
      "execution_count": 0,
      "outputs": []
    },
    {
      "cell_type": "code",
      "metadata": {
        "id": "q-soCfbAJTvS",
        "colab_type": "code",
        "colab": {}
      },
      "source": [
        "for item in l1:\n",
        "    print(item)"
      ],
      "execution_count": 0,
      "outputs": []
    },
    {
      "cell_type": "code",
      "metadata": {
        "id": "5V4fXbrpJTvU",
        "colab_type": "code",
        "colab": {}
      },
      "source": [
        "for i in range(0, len(l1)):\n",
        "    print(l1[i])"
      ],
      "execution_count": 0,
      "outputs": []
    },
    {
      "cell_type": "markdown",
      "metadata": {
        "id": "jmPVmdJxJTvW",
        "colab_type": "text"
      },
      "source": [
        "* Para iterar em dicionários, podemos utilizar fazer da seguinte forma:"
      ]
    },
    {
      "cell_type": "code",
      "metadata": {
        "collapsed": true,
        "id": "TqFpccg1JTvW",
        "colab_type": "code",
        "colab": {}
      },
      "source": [
        "pessoas = dict([('jose',35), ('bilbo',28), ('joão',20)])"
      ],
      "execution_count": 0,
      "outputs": []
    },
    {
      "cell_type": "code",
      "metadata": {
        "id": "LeVtNnpcJTvZ",
        "colab_type": "code",
        "colab": {}
      },
      "source": [
        "for c, v in pessoas.items():\n",
        "    print(c, v)"
      ],
      "execution_count": 0,
      "outputs": []
    },
    {
      "cell_type": "markdown",
      "metadata": {
        "id": "RQLQAP5-JTvb",
        "colab_type": "text"
      },
      "source": [
        "### Pontos de atenção"
      ]
    },
    {
      "cell_type": "markdown",
      "metadata": {
        "id": "9BUH0UX1JTvb",
        "colab_type": "text"
      },
      "source": [
        "* **break**: sai do loop mais próximo que a envolve\n",
        "* **continue**: pula o início do loop mais próximo que a envolve\n",
        "* **pass**: não faz absolutamente nada; trata-se de um lugar reservado de instrução, vazio.\n",
        "\n",
        "\n",
        "**<span style=\"color:red;\">No código abaixo quando executado o que irá imprimir????</span>**"
      ]
    },
    {
      "cell_type": "code",
      "metadata": {
        "id": "AvWo7O0wJTvc",
        "colab_type": "code",
        "colab": {}
      },
      "source": [
        "numeros = [4, 5, 6, 7, 8, -3, 9, -4]\n",
        "for num in numeros:\n",
        "    if num < 0:\n",
        "        print(\"negativo: {}\".format(num))\n",
        "        break"
      ],
      "execution_count": 0,
      "outputs": []
    },
    {
      "cell_type": "markdown",
      "metadata": {
        "id": "U5cTF7QgJTvf",
        "colab_type": "text"
      },
      "source": [
        "* Tanto o if quanto o while utilizam condições lógicas para controle, avaliando-as de maneira booleana.\n",
        "\n",
        "* Em Python, podemos denotar falso:\n",
        "    * Pelo booleano False,\n",
        "    * Pelo valor 0 (zero)\n",
        "    * Pela lista, dicionário, ou strings vazios, de tamanho zero\n",
        "    * Pelo valor especial None, que significa nulo\n",
        "    \n",
        "**<span style=\"color:blue;\">Qualquer outro valor é considerado verdadeiro</span>**"
      ]
    },
    {
      "cell_type": "markdown",
      "metadata": {
        "id": "LHokSOZ9JTvg",
        "colab_type": "text"
      },
      "source": [
        "## Exercícios"
      ]
    },
    {
      "cell_type": "markdown",
      "metadata": {
        "id": "Voj_4f5iJTvh",
        "colab_type": "text"
      },
      "source": [
        "#### 1 - Verifique se a lista números tem algum valor negativo.\n",
        "\n",
        "    ```numeros = [4, 5, 6, 7, 8, -3, 9, -4]```\n",
        "\n",
        "Utilize o for para iterar em cada item da lista, e verifique se o item é menor que do 0, se for menor imprima o item (utilizando if/else)."
      ]
    },
    {
      "cell_type": "code",
      "metadata": {
        "collapsed": true,
        "id": "QN8opb2XJTvh",
        "colab_type": "code",
        "colab": {}
      },
      "source": [
        "numeros = [4, 5, 6, 7, 8, -3, 9, -4]"
      ],
      "execution_count": 0,
      "outputs": []
    },
    {
      "cell_type": "code",
      "metadata": {
        "id": "ba3BxMPjJTvk",
        "colab_type": "code",
        "colab": {}
      },
      "source": [
        ""
      ],
      "execution_count": 0,
      "outputs": []
    },
    {
      "cell_type": "markdown",
      "metadata": {
        "id": "JxTEdsbIJTvm",
        "colab_type": "text"
      },
      "source": [
        "#### 2 - Crie um laço que imprima os números pares do 0 ao 100. Primeiro utilize a função ```range()``` e depois o operador %."
      ]
    },
    {
      "cell_type": "code",
      "metadata": {
        "id": "klsqjLBjJTvm",
        "colab_type": "code",
        "colab": {}
      },
      "source": [
        ""
      ],
      "execution_count": 0,
      "outputs": []
    },
    {
      "cell_type": "code",
      "metadata": {
        "id": "bsfq7KFtJTvp",
        "colab_type": "code",
        "colab": {}
      },
      "source": [
        ""
      ],
      "execution_count": 0,
      "outputs": []
    },
    {
      "cell_type": "markdown",
      "metadata": {
        "id": "sAd0rh4XJTvr",
        "colab_type": "text"
      },
      "source": [
        "#### 3 - Crie uma lista com 5 aparelhos diferentes:\n",
        "\n",
        "    aparelhos = ['iphone', 'pc', 'notebook', 'monitor', 'impressora']\n",
        "\n",
        "Agora crie um laço que imprima cada valor da lista (com os números):\n",
        "```\n",
        "1 iphone\n",
        "2 pc\n",
        "3 notebook\n",
        "4 monitor\n",
        "5 impressora\n",
        "```"
      ]
    },
    {
      "cell_type": "code",
      "metadata": {
        "collapsed": true,
        "id": "OdJeqvKdJTvr",
        "colab_type": "code",
        "colab": {}
      },
      "source": [
        "aparelhos = ['iphone', 'pc', 'notebook', 'monitor', 'impressora']"
      ],
      "execution_count": 0,
      "outputs": []
    },
    {
      "cell_type": "code",
      "metadata": {
        "id": "u7SepUwAJTvt",
        "colab_type": "code",
        "colab": {}
      },
      "source": [
        ""
      ],
      "execution_count": 0,
      "outputs": []
    },
    {
      "cell_type": "code",
      "metadata": {
        "collapsed": true,
        "id": "ZPgmKCsMJTvv",
        "colab_type": "code",
        "colab": {}
      },
      "source": [
        ""
      ],
      "execution_count": 0,
      "outputs": []
    }
  ]
}