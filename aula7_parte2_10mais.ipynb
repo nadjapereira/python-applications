{
  "nbformat": 4,
  "nbformat_minor": 0,
  "metadata": {
    "kernelspec": {
      "display_name": "Python 3",
      "language": "python",
      "name": "python3"
    },
    "language_info": {
      "codemirror_mode": {
        "name": "ipython",
        "version": 3
      },
      "file_extension": ".py",
      "mimetype": "text/x-python",
      "name": "python",
      "nbconvert_exporter": "python",
      "pygments_lexer": "ipython3",
      "version": "3.6.3"
    },
    "colab": {
      "name": "aula7-parte2-10mais.ipynb",
      "provenance": [],
      "include_colab_link": true
    }
  },
  "cells": [
    {
      "cell_type": "markdown",
      "metadata": {
        "id": "view-in-github",
        "colab_type": "text"
      },
      "source": [
        "<a href=\"https://colab.research.google.com/github/nadjapereira/python-applications/blob/master/aula7_parte2_10mais.ipynb\" target=\"_parent\"><img src=\"https://colab.research.google.com/assets/colab-badge.svg\" alt=\"Open In Colab\"/></a>"
      ]
    },
    {
      "cell_type": "markdown",
      "metadata": {
        "id": "GHwEyHNGj96H",
        "colab_type": "text"
      },
      "source": [
        "## Criar gráficos dos 10 usuários mais populares"
      ]
    },
    {
      "cell_type": "code",
      "metadata": {
        "id": "mBO3Jg_sj96J",
        "colab_type": "code",
        "colab": {}
      },
      "source": [
        "import pandas as pd"
      ],
      "execution_count": 0,
      "outputs": []
    },
    {
      "cell_type": "code",
      "metadata": {
        "id": "ujnB3lrIj96O",
        "colab_type": "code",
        "colab": {}
      },
      "source": [
        "df = pd.read_csv('tweets_10min.csv', sep=';')"
      ],
      "execution_count": 0,
      "outputs": []
    },
    {
      "cell_type": "code",
      "metadata": {
        "id": "BNlEFD6xj96T",
        "colab_type": "code",
        "colab": {}
      },
      "source": [
        "df.head(1)"
      ],
      "execution_count": 0,
      "outputs": []
    },
    {
      "cell_type": "code",
      "metadata": {
        "id": "304vk6OLj96Y",
        "colab_type": "code",
        "colab": {}
      },
      "source": [
        "mais10 = df.followers_count.sort_values(ascending=False)[:10]"
      ],
      "execution_count": 0,
      "outputs": []
    },
    {
      "cell_type": "code",
      "metadata": {
        "id": "2V3dRVH-j96d",
        "colab_type": "code",
        "colab": {}
      },
      "source": [
        "mais10"
      ],
      "execution_count": 0,
      "outputs": []
    },
    {
      "cell_type": "code",
      "metadata": {
        "id": "9nsIpHc1j96j",
        "colab_type": "code",
        "colab": {}
      },
      "source": [
        "aux = []\n",
        "for item, i in zip(mais10.index, mais10):\n",
        "    aux.append([df.screen_name[item], i])"
      ],
      "execution_count": 0,
      "outputs": []
    },
    {
      "cell_type": "code",
      "metadata": {
        "id": "PDPx6DLwj96s",
        "colab_type": "code",
        "colab": {}
      },
      "source": [
        "aux"
      ],
      "execution_count": 0,
      "outputs": []
    },
    {
      "cell_type": "code",
      "metadata": {
        "id": "Ty58FeWxj96z",
        "colab_type": "code",
        "colab": {}
      },
      "source": [
        "df_final = pd.DataFrame(aux, columns=['nome', 'qtde'])"
      ],
      "execution_count": 0,
      "outputs": []
    },
    {
      "cell_type": "code",
      "metadata": {
        "id": "xFmi0jb9j964",
        "colab_type": "code",
        "colab": {}
      },
      "source": [
        "df_final"
      ],
      "execution_count": 0,
      "outputs": []
    },
    {
      "cell_type": "markdown",
      "metadata": {
        "id": "U_EKN2eIj96-",
        "colab_type": "text"
      },
      "source": [
        "<div class=\"alert alert-block alert-info\">\n",
        "\n",
        "O pacote ```bkcharts``` foi descontinuado e não será mais mantido pelo Bokeh.\n",
        "\n",
        "Como sugestão, é possível utilizar o HoloViews - http://holoviews.org/ ou utilizar o próprio Matplotlib que facilita bastante a criação de gráficos por meio dos DataFrames do Pandas.\n"
      ]
    },
    {
      "cell_type": "markdown",
      "metadata": {
        "collapsed": true,
        "id": "NgyXLoTwj97A",
        "colab_type": "text"
      },
      "source": [
        "### Exemplo gráfico de Barras com Matplotlib\n",
        "\n"
      ]
    },
    {
      "cell_type": "code",
      "metadata": {
        "id": "ZHhhnQc6j97C",
        "colab_type": "code",
        "colab": {}
      },
      "source": [
        "import matplotlib.pyplot as plt\n",
        "%matplotlib inline "
      ],
      "execution_count": 0,
      "outputs": []
    },
    {
      "cell_type": "code",
      "metadata": {
        "id": "LOcX4WhVj97G",
        "colab_type": "code",
        "colab": {}
      },
      "source": [
        "df_final"
      ],
      "execution_count": 0,
      "outputs": []
    },
    {
      "cell_type": "code",
      "metadata": {
        "id": "3Bp6ist9j97L",
        "colab_type": "code",
        "colab": {}
      },
      "source": [
        "plt.figure()\n",
        "\n",
        "df_final.set_index('nome').plot(kind='bar', fontsize=12)\n",
        "plt.xlabel('Nomes', fontsize=16)\n",
        "plt.ylabel('Quantidade', fontsize=16)\n",
        "plt.title(\"Gráfico de Barras\", fontsize=20)\n",
        "plt.show()\n",
        "\n"
      ],
      "execution_count": 0,
      "outputs": []
    },
    {
      "cell_type": "code",
      "metadata": {
        "id": "EDfuPK1oj97Q",
        "colab_type": "code",
        "colab": {}
      },
      "source": [
        ""
      ],
      "execution_count": 0,
      "outputs": []
    }
  ]
}