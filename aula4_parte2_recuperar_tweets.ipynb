{
  "nbformat": 4,
  "nbformat_minor": 0,
  "metadata": {
    "kernelspec": {
      "display_name": "Python 3",
      "language": "python",
      "name": "python3"
    },
    "language_info": {
      "codemirror_mode": {
        "name": "ipython",
        "version": 3
      },
      "file_extension": ".py",
      "mimetype": "text/x-python",
      "name": "python",
      "nbconvert_exporter": "python",
      "pygments_lexer": "ipython3",
      "version": "3.6.2"
    },
    "colab": {
      "name": "aula4-parte2-recuperar-tweets.ipynb",
      "provenance": [],
      "include_colab_link": true
    }
  },
  "cells": [
    {
      "cell_type": "markdown",
      "metadata": {
        "id": "view-in-github",
        "colab_type": "text"
      },
      "source": [
        "<a href=\"https://colab.research.google.com/github/nadjapereira/python-applications/blob/master/aula4_parte2_recuperar_tweets.ipynb\" target=\"_parent\"><img src=\"https://colab.research.google.com/assets/colab-badge.svg\" alt=\"Open In Colab\"/></a>"
      ]
    },
    {
      "cell_type": "markdown",
      "metadata": {
        "id": "no8HvVm3Lie_",
        "colab_type": "text"
      },
      "source": [
        "# Recuperando Tweets\n",
        "\n",
        "Para utilizar qualquer API do Twitter temos que importar os módulos e definir as chaves e tokens de acesso."
      ]
    },
    {
      "cell_type": "code",
      "metadata": {
        "collapsed": true,
        "id": "uroDXlCJLifB",
        "colab_type": "code",
        "colab": {}
      },
      "source": [
        "import tweepy"
      ],
      "execution_count": 0,
      "outputs": []
    },
    {
      "cell_type": "code",
      "metadata": {
        "collapsed": true,
        "id": "bdllLRmSLifI",
        "colab_type": "code",
        "colab": {}
      },
      "source": [
        "consumer_key = ''\n",
        "consumer_secret = ''\n",
        "access_token = ''\n",
        "access_token_secret = ''"
      ],
      "execution_count": 0,
      "outputs": []
    },
    {
      "cell_type": "markdown",
      "metadata": {
        "id": "Fg9p_OVvLifP",
        "colab_type": "text"
      },
      "source": [
        "Com as chaves e tokens de acesso, iremos criar a autenticação e definir o token de acesso."
      ]
    },
    {
      "cell_type": "code",
      "metadata": {
        "collapsed": true,
        "id": "C3pHaMsNLifR",
        "colab_type": "code",
        "colab": {}
      },
      "source": [
        "autorizar = tweepy.OAuthHandler(consumer_key, consumer_secret)\n",
        "autorizar.set_access_token(access_token, access_token_secret)"
      ],
      "execution_count": 0,
      "outputs": []
    },
    {
      "cell_type": "markdown",
      "metadata": {
        "id": "IO2fzxFALifa",
        "colab_type": "text"
      },
      "source": [
        "Com a autorização criada, vamos passar as credenciais de acesso para a API do Tweepy. Desta forma, teremos acesso aos métodos disponíveis na API."
      ]
    },
    {
      "cell_type": "code",
      "metadata": {
        "id": "-SKfHnk8Lifb",
        "colab_type": "code",
        "colab": {}
      },
      "source": [
        "api = tweepy.API(autorizar)\n",
        "print(api)"
      ],
      "execution_count": 0,
      "outputs": []
    },
    {
      "cell_type": "markdown",
      "metadata": {
        "collapsed": true,
        "id": "QWbXtTsvLifg",
        "colab_type": "text"
      },
      "source": [
        "## Utilizar a home_timeline()\n",
        "\n",
        "Esse método recupera as últimas 20 atualizações (inclue retweet) da timeline do usuário autenticada.\n",
        "\n",
        "O retorno é um objeto parecido com uma lista que salva os resultados recuperados.\n",
        "\n",
        "http://docs.tweepy.org/en/v3.5.0/api.html?highlight=home_timeline#API.home_timeline"
      ]
    },
    {
      "cell_type": "code",
      "metadata": {
        "collapsed": true,
        "id": "HsgYxcFnLifi",
        "colab_type": "code",
        "colab": {}
      },
      "source": [
        "tweets_publicos = api.home_timeline(count=201)"
      ],
      "execution_count": 0,
      "outputs": []
    },
    {
      "cell_type": "code",
      "metadata": {
        "id": "t1rIGGkILifn",
        "colab_type": "code",
        "colab": {}
      },
      "source": [
        "print(type(tweets_publicos))"
      ],
      "execution_count": 0,
      "outputs": []
    },
    {
      "cell_type": "code",
      "metadata": {
        "scrolled": true,
        "id": "6ZVrOIPWLifs",
        "colab_type": "code",
        "colab": {}
      },
      "source": [
        "for i, tweet in enumerate(tweets_publicos, start=1):\n",
        "    print(\"{} ---> {}\".format(i, tweet.text))    "
      ],
      "execution_count": 0,
      "outputs": []
    },
    {
      "cell_type": "markdown",
      "metadata": {
        "id": "1WB933MiLifx",
        "colab_type": "text"
      },
      "source": [
        "Além disso, podemos utilizar o parâmetro ```count``` para limitar a busca."
      ]
    },
    {
      "cell_type": "code",
      "metadata": {
        "collapsed": true,
        "id": "pvtkrK4fLify",
        "colab_type": "code",
        "colab": {}
      },
      "source": [
        "tweets_publicos = api.home_timeline(count=5)"
      ],
      "execution_count": 0,
      "outputs": []
    },
    {
      "cell_type": "code",
      "metadata": {
        "id": "jfJ59MjSLif3",
        "colab_type": "code",
        "colab": {}
      },
      "source": [
        "for i, tweet in enumerate(tweets_publicos, start=1):\n",
        "    print(\"Tweet número: {}\".format(i))\n",
        "    print(\"----------------\")\n",
        "    print(\"Usuário @{} disse:\".format(tweet.user.screen_name))\n",
        "    print(tweet.text)\n",
        "    print(\"id do usuário: {}\".format(tweet.user.id))\n",
        "    print('\\n')"
      ],
      "execution_count": 0,
      "outputs": []
    },
    {
      "cell_type": "markdown",
      "metadata": {
        "id": "7RBIywRpLif7",
        "colab_type": "text"
      },
      "source": [
        "## Utilizar a user_timeline()\n",
        "\n",
        "Esse método recupera as últimas 20 atualizações do usuário autenticado ou do usuário especificado via parâmetro ```id```.\n",
        "\n",
        "O retorno é um objeto parecido com uma lista que salva os resultados recuperados.\n",
        "\n",
        "http://docs.tweepy.org/en/v3.5.0/api.html?highlight=user_timeline#API.user_timeline"
      ]
    },
    {
      "cell_type": "code",
      "metadata": {
        "collapsed": true,
        "id": "Sj8mSUJpLif9",
        "colab_type": "code",
        "colab": {}
      },
      "source": [
        "tweets_publicos_usuario = api.user_timeline(id='267283568', count=5)"
      ],
      "execution_count": 0,
      "outputs": []
    },
    {
      "cell_type": "code",
      "metadata": {
        "id": "iR_LaTsjLigB",
        "colab_type": "code",
        "colab": {}
      },
      "source": [
        "for tweet in tweets_publicos_usuario:\n",
        "    print('----')\n",
        "    print(tweet.text)\n",
        "    print(tweet.id)\n",
        "    print(tweet.lang)\n",
        "    print(tweet.place)\n",
        "    print(tweet.retweet_count)\n",
        "    print(tweet.coordinates)\n",
        "    print(tweet.user.id)\n"
      ],
      "execution_count": 0,
      "outputs": []
    },
    {
      "cell_type": "markdown",
      "metadata": {
        "id": "25Tx-SvHLigF",
        "colab_type": "text"
      },
      "source": [
        "## Utilizar a retweets_of_me()\n",
        "\n",
        "Esse método recupera os últimos 20 tweets do usuário autenticado que foi retweeted por outros.\n",
        "\n",
        "O retorno é um objeto parecido com uma lista que salva os resultados recuperados.\n",
        "\n",
        "http://docs.tweepy.org/en/v3.5.0/api.html?highlight=retweets_of_me#API.retweets_of_me"
      ]
    },
    {
      "cell_type": "code",
      "metadata": {
        "collapsed": true,
        "id": "ziCzxTOTLigG",
        "colab_type": "code",
        "colab": {}
      },
      "source": [
        "retweets = api.retweets_of_me(count=10)"
      ],
      "execution_count": 0,
      "outputs": []
    },
    {
      "cell_type": "code",
      "metadata": {
        "id": "zUKvT6gDLigM",
        "colab_type": "code",
        "colab": {}
      },
      "source": [
        "for i, tweet in enumerate(retweets, start=1):\n",
        "    print(\"{} - {}\".format(i, tweet.text))"
      ],
      "execution_count": 0,
      "outputs": []
    },
    {
      "cell_type": "code",
      "metadata": {
        "collapsed": true,
        "id": "OUBRyxL1LigR",
        "colab_type": "code",
        "colab": {}
      },
      "source": [
        ""
      ],
      "execution_count": 0,
      "outputs": []
    }
  ]
}