{
  "nbformat": 4,
  "nbformat_minor": 0,
  "metadata": {
    "kernelspec": {
      "display_name": "Python 3",
      "language": "python",
      "name": "python3"
    },
    "language_info": {
      "codemirror_mode": {
        "name": "ipython",
        "version": 3
      },
      "file_extension": ".py",
      "mimetype": "text/x-python",
      "name": "python",
      "nbconvert_exporter": "python",
      "pygments_lexer": "ipython3",
      "version": "3.6.5"
    },
    "colab": {
      "name": "aula6-parte4-wikipedia.ipynb",
      "provenance": [],
      "include_colab_link": true
    }
  },
  "cells": [
    {
      "cell_type": "markdown",
      "metadata": {
        "id": "view-in-github",
        "colab_type": "text"
      },
      "source": [
        "<a href=\"https://colab.research.google.com/github/nadjapereira/python-applications/blob/master/aula6_parte4_wikipedia.ipynb\" target=\"_parent\"><img src=\"https://colab.research.google.com/assets/colab-badge.svg\" alt=\"Open In Colab\"/></a>"
      ]
    },
    {
      "cell_type": "markdown",
      "metadata": {
        "id": "2bp0v6Lniji0",
        "colab_type": "text"
      },
      "source": [
        "# Recuperar informações da Wikipedia"
      ]
    },
    {
      "cell_type": "code",
      "metadata": {
        "id": "hbbzAODoiji2",
        "colab_type": "code",
        "colab": {}
      },
      "source": [
        "import requests"
      ],
      "execution_count": 0,
      "outputs": []
    },
    {
      "cell_type": "code",
      "metadata": {
        "id": "slCcNBYqiji-",
        "colab_type": "code",
        "colab": {}
      },
      "source": [
        "from requests.exceptions import ConnectionError"
      ],
      "execution_count": 0,
      "outputs": []
    },
    {
      "cell_type": "code",
      "metadata": {
        "id": "bLIwrN58ijjE",
        "colab_type": "code",
        "colab": {}
      },
      "source": [
        "def download_html(url, numero_tentativas=2):\n",
        "    print(\"Realizando o download da página:\", url)\n",
        "    try:\n",
        "        req = requests.get(url)\n",
        "        if req.status_code != 200:\n",
        "            if numero_tentativas > 0:\n",
        "                print(\"Não foi possível realizar o download. Erro:\", req.status_code)\n",
        "                print(\"\\nRealizando nova tentativa:\")\n",
        "                return download_html(url, numero_tentativas - 1)\n",
        "            else:\n",
        "                print(\"Número de tentativas excedidas. Erro: {}\".format(req.status_code))\n",
        "                html = None\n",
        "                return html\n",
        "        html = req.text\n",
        "        return html\n",
        "    except ConnectionError as e:\n",
        "        print(\"Erro no download:\", e)\n",
        "        html = None"
      ],
      "execution_count": 0,
      "outputs": []
    },
    {
      "cell_type": "code",
      "metadata": {
        "id": "xQYvH8c-ijjI",
        "colab_type": "code",
        "colab": {}
      },
      "source": [
        "html = download_html(\"https://pt.wikipedia.org/wiki/Unidades_federativas_do_Brasil\")"
      ],
      "execution_count": 0,
      "outputs": []
    },
    {
      "cell_type": "code",
      "metadata": {
        "id": "z55QlI8zijjM",
        "colab_type": "code",
        "colab": {}
      },
      "source": [
        "from bs4 import BeautifulSoup"
      ],
      "execution_count": 0,
      "outputs": []
    },
    {
      "cell_type": "code",
      "metadata": {
        "id": "b8f1k81fijjR",
        "colab_type": "code",
        "colab": {}
      },
      "source": [
        "bs = BeautifulSoup(html, \"html.parser\")"
      ],
      "execution_count": 0,
      "outputs": []
    },
    {
      "cell_type": "code",
      "metadata": {
        "id": "yaZ0aqWsijjX",
        "colab_type": "code",
        "colab": {}
      },
      "source": [
        "print(bs.prettify())"
      ],
      "execution_count": 0,
      "outputs": []
    },
    {
      "cell_type": "code",
      "metadata": {
        "id": "dzUoeefgijjc",
        "colab_type": "code",
        "colab": {}
      },
      "source": [
        "print(bs.h1.text)"
      ],
      "execution_count": 0,
      "outputs": []
    },
    {
      "cell_type": "code",
      "metadata": {
        "id": "YHp4W5qYijjh",
        "colab_type": "code",
        "colab": {}
      },
      "source": [
        "bs.h1"
      ],
      "execution_count": 0,
      "outputs": []
    },
    {
      "cell_type": "markdown",
      "metadata": {
        "collapsed": true,
        "id": "GIWS2nfZijjn",
        "colab_type": "text"
      },
      "source": [
        "## Recuperar todos os links disponíveis nessa página"
      ]
    },
    {
      "cell_type": "code",
      "metadata": {
        "id": "UyteefvUijjp",
        "colab_type": "code",
        "colab": {}
      },
      "source": [
        "bs.a"
      ],
      "execution_count": 0,
      "outputs": []
    },
    {
      "cell_type": "markdown",
      "metadata": {
        "id": "zsRciyKQijjt",
        "colab_type": "text"
      },
      "source": [
        "Note que apenas um único link foi retornado. Para retornar todos precisamos utilizar um método chamado ```findall()```."
      ]
    },
    {
      "cell_type": "code",
      "metadata": {
        "id": "DRhblWNPijju",
        "colab_type": "code",
        "colab": {}
      },
      "source": [
        "links = bs.findAll('a')\n",
        "print(links)"
      ],
      "execution_count": 0,
      "outputs": []
    },
    {
      "cell_type": "code",
      "metadata": {
        "id": "0loZHy4kijjy",
        "colab_type": "code",
        "colab": {}
      },
      "source": [
        "print(type(links))"
      ],
      "execution_count": 0,
      "outputs": []
    },
    {
      "cell_type": "markdown",
      "metadata": {
        "id": "BhFCE7z_ijj2",
        "colab_type": "text"
      },
      "source": [
        "Note que além dos links, tem outras informações."
      ]
    },
    {
      "cell_type": "code",
      "metadata": {
        "id": "EUshjqxGijj3",
        "colab_type": "code",
        "colab": {}
      },
      "source": [
        "links[3]"
      ],
      "execution_count": 0,
      "outputs": []
    },
    {
      "cell_type": "markdown",
      "metadata": {
        "id": "uNGMrz1cijj6",
        "colab_type": "text"
      },
      "source": [
        "Para imprimir/salvar apenas os links, precisamos iterar na lista que foi criada para pegar apenas o conteúdo do href."
      ]
    },
    {
      "cell_type": "code",
      "metadata": {
        "id": "AvHur7rHijj8",
        "colab_type": "code",
        "colab": {}
      },
      "source": [
        "for link in links:\n",
        "    print(link.get(\"href\"))"
      ],
      "execution_count": 0,
      "outputs": []
    },
    {
      "cell_type": "markdown",
      "metadata": {
        "id": "tqh-lGQTijkC",
        "colab_type": "text"
      },
      "source": [
        "É importante verificar que estamos trazendo todos os links (internos e externos) com essa abordagem."
      ]
    },
    {
      "cell_type": "markdown",
      "metadata": {
        "id": "_ujqtGJNijkD",
        "colab_type": "text"
      },
      "source": [
        "## Recuperar uma tabela\n",
        "\n",
        "Como vimos, iremos recuperar a tabela que está disponível na página, que lista todos os estados do Brasil, adicionando outras informações, como a abreviação, capital, area, população, mortalidade infantil, entre outras.\n",
        "\n",
        "Existem duas formas de recuperarmos a tabela correta. A primeira, seria recuperar todas as tabelas disponível, iterar em cada uma delas e verificar a classe que ela pertecem.\n",
        "\n",
        "A outra forma, é mais rápida e simples. No navegador Chrome, abrar a página em questão, clique com o Botão Direito em cima da tabela que deseja recuperar e depois clique em Inspecionar (Ctrl + Shift + I) e copie o nome da classe.\n",
        "\n",
        "```\n",
        "<table class=\"wikitable sortable jquery-tablesorter\" style=\"text-align:center; font-size:85%\">\n",
        "```\n",
        "\n",
        "Iremos utilizar ```wikitable sortable jquery-tablesorter``` para recuperar somente essa tabela."
      ]
    },
    {
      "cell_type": "code",
      "metadata": {
        "id": "PRGix0muijkE",
        "colab_type": "code",
        "colab": {}
      },
      "source": [
        "tabela = bs.findAll('table', \n",
        "                 class_='wikitable sortable')"
      ],
      "execution_count": 0,
      "outputs": []
    },
    {
      "cell_type": "code",
      "metadata": {
        "id": "AVFvQcrKijkh",
        "colab_type": "code",
        "colab": {}
      },
      "source": [
        "#print(len(tabela))\n",
        "#tabela"
      ],
      "execution_count": 0,
      "outputs": []
    },
    {
      "cell_type": "markdown",
      "metadata": {
        "id": "r5ZAEIMBijkk",
        "colab_type": "text"
      },
      "source": [
        "Ótimo! Já temos a tabela recuperada.\n",
        "\n",
        "O que iremos fazer agora é extrair as informações e adicionar em um DataFrame. Para isso precisamos iterar em cada linha (```tr```) e então atribuir cada elemento de tr (```td```) à uma variável e então adicionar a uma lista."
      ]
    },
    {
      "cell_type": "code",
      "metadata": {
        "id": "ssAUFULKijkl",
        "colab_type": "code",
        "colab": {}
      },
      "source": [
        "colunas = [th.text.lower() for th in tabela[0].findAll('tr')[0].findAll('th')]"
      ],
      "execution_count": 0,
      "outputs": []
    },
    {
      "cell_type": "code",
      "metadata": {
        "id": "gq3mjkTuijkp",
        "colab_type": "code",
        "colab": {}
      },
      "source": [
        "#colunas"
      ],
      "execution_count": 0,
      "outputs": []
    },
    {
      "cell_type": "markdown",
      "metadata": {
        "id": "s5w54mXzijkv",
        "colab_type": "text"
      },
      "source": [
        "Antes de renomear o nome de cada coluna, iremos remover as acentuações para facilitar a criação das variáveis.\n",
        "\n",
        "Essa função retorna a forma normal da string (sem acentuação). As opções são:\n",
        "\n",
        "| Forma | Descrição |\n",
        "| ---- | ----- |\n",
        "| **NFD** - Normalization Form Canonical Decomposition | Os caracteres são decompostos pela equivalência canônica e vários caracteres combinados são organizados em uma ordem específica.  | \n",
        "| **NFC** - Normalization Form Canonical Composition | Os caracteres são decompostos e, em seguida, recompostos pela equivalência canônica. |\n",
        "| **NFKD** - Normalization Form Compatibility Decomposition | Os caracteres são decompostos por compatibilidade e vários caracteres combinados são organizados em uma ordem específica. |\n",
        "| **NFKC** - Normalization Form Compatibility Composition | Os caracteres são decompostos por compatibilidade e depois recompostos pela equivalência canônica. |\n",
        "\n",
        "\n",
        "\n",
        "https://docs.python.org/3/library/unicodedata.html#unicodedata.normalize"
      ]
    },
    {
      "cell_type": "code",
      "metadata": {
        "id": "nakAS4URijkx",
        "colab_type": "code",
        "colab": {}
      },
      "source": [
        "from unicodedata import normalize\n",
        "def remover_acentos(txt):\n",
        "    return normalize('NFKD', txt).encode('ASCII', 'ignore').decode('ASCII')"
      ],
      "execution_count": 0,
      "outputs": []
    },
    {
      "cell_type": "code",
      "metadata": {
        "id": "TApM4eypijk1",
        "colab_type": "code",
        "colab": {}
      },
      "source": [
        "colunas = [remover_acentos(nome) for nome in colunas]\n",
        "colunas"
      ],
      "execution_count": 0,
      "outputs": []
    },
    {
      "cell_type": "code",
      "metadata": {
        "id": "1n_7LqJxijk4",
        "colab_type": "code",
        "colab": {}
      },
      "source": [
        "colunas[colunas.index('(% total) (2015)')] = \"percentual_pib_2015\"\n",
        "colunas[colunas.index('pib per capita (r$) (2015)')] = 'pib_per_capita_reais_2015'"
      ],
      "execution_count": 0,
      "outputs": []
    },
    {
      "cell_type": "markdown",
      "metadata": {
        "id": "Pk3trchrijk7",
        "colab_type": "text"
      },
      "source": [
        "Remover os caracteres especiais ```(``` e ```)``` e substituir o espaco pelo caractere ```_```."
      ]
    },
    {
      "cell_type": "code",
      "metadata": {
        "id": "ze-1ghLKijk8",
        "colab_type": "code",
        "colab": {}
      },
      "source": [
        "colunas = [nome.replace('(', '') for nome in colunas]\n",
        "colunas = [nome.replace(')', '') for nome in colunas]\n",
        "colunas = [nome.replace(' ', '_') for nome in colunas]"
      ],
      "execution_count": 0,
      "outputs": []
    },
    {
      "cell_type": "code",
      "metadata": {
        "id": "vED-y-pgijlB",
        "colab_type": "code",
        "colab": {}
      },
      "source": [
        "colunas"
      ],
      "execution_count": 0,
      "outputs": []
    },
    {
      "cell_type": "code",
      "metadata": {
        "id": "CdY75pKNijlF",
        "colab_type": "code",
        "colab": {}
      },
      "source": [
        "linha = tabela[0].findAll('tr')[1].findAll('td')"
      ],
      "execution_count": 0,
      "outputs": []
    },
    {
      "cell_type": "code",
      "metadata": {
        "id": "aGHQmJ3IijlI",
        "colab_type": "code",
        "colab": {}
      },
      "source": [
        "linha[0].find('a').get('href')"
      ],
      "execution_count": 0,
      "outputs": []
    },
    {
      "cell_type": "code",
      "metadata": {
        "id": "AXRQneyFijlM",
        "colab_type": "code",
        "colab": {}
      },
      "source": [
        "linha[13].find(text=True)"
      ],
      "execution_count": 0,
      "outputs": []
    },
    {
      "cell_type": "code",
      "metadata": {
        "id": "u4HjmZJLijlP",
        "colab_type": "code",
        "colab": {}
      },
      "source": [
        "# Estruturando \n",
        "dados = {}\n",
        "for nome in colunas:\n",
        "    dados[nome] = []"
      ],
      "execution_count": 0,
      "outputs": []
    },
    {
      "cell_type": "code",
      "metadata": {
        "id": "BerqqJEKijlU",
        "colab_type": "code",
        "colab": {}
      },
      "source": [
        "dados"
      ],
      "execution_count": 0,
      "outputs": []
    },
    {
      "cell_type": "code",
      "metadata": {
        "id": "aMcvEnC8ijlY",
        "colab_type": "code",
        "colab": {}
      },
      "source": [
        "linhas = tabela[0].findAll('tr')\n",
        "len(linhas)"
      ],
      "execution_count": 0,
      "outputs": []
    },
    {
      "cell_type": "code",
      "metadata": {
        "id": "hdLgr0bTijlm",
        "colab_type": "code",
        "colab": {}
      },
      "source": [
        "# Começa em 1, pois o 0 é o cabeçalho da tabela\n",
        "for lin in range(1, len(linhas)):\n",
        "    linha = tabela[0].findAll('tr')[lin].findAll('td')\n",
        "    for i, chave in enumerate(colunas):\n",
        "        if i == 0 and chave == 'bandeira':\n",
        "            dados[chave].append(linha[i].find('a').get('href'))\n",
        "        else:\n",
        "            dados[chave].append(linha[i].find(text=True))"
      ],
      "execution_count": 0,
      "outputs": []
    },
    {
      "cell_type": "code",
      "metadata": {
        "id": "BFskJZUsijls",
        "colab_type": "code",
        "colab": {}
      },
      "source": [
        "dados"
      ],
      "execution_count": 0,
      "outputs": []
    },
    {
      "cell_type": "code",
      "metadata": {
        "id": "FkYvKE3xijlx",
        "colab_type": "code",
        "colab": {}
      },
      "source": [
        "import pandas as pd"
      ],
      "execution_count": 0,
      "outputs": []
    },
    {
      "cell_type": "code",
      "metadata": {
        "id": "nia0FlHJijl7",
        "colab_type": "code",
        "colab": {}
      },
      "source": [
        "df = pd.DataFrame(dados)"
      ],
      "execution_count": 0,
      "outputs": []
    },
    {
      "cell_type": "code",
      "metadata": {
        "id": "DPwh_liHijmB",
        "colab_type": "code",
        "colab": {}
      },
      "source": [
        "df.head()"
      ],
      "execution_count": 0,
      "outputs": []
    },
    {
      "cell_type": "markdown",
      "metadata": {
        "id": "xOiSbVPLijmH",
        "colab_type": "text"
      },
      "source": [
        "Agora, basta criar o DataFrame"
      ]
    },
    {
      "cell_type": "code",
      "metadata": {
        "id": "MWKflFFoijmI",
        "colab_type": "code",
        "colab": {}
      },
      "source": [
        "import pandas as pd"
      ],
      "execution_count": 0,
      "outputs": []
    },
    {
      "cell_type": "code",
      "metadata": {
        "id": "JiCAkt9qijmL",
        "colab_type": "code",
        "colab": {}
      },
      "source": [
        "df_final = df.drop('bandeira', axis=1)"
      ],
      "execution_count": 0,
      "outputs": []
    },
    {
      "cell_type": "code",
      "metadata": {
        "id": "4ximoz6iijmO",
        "colab_type": "code",
        "colab": {}
      },
      "source": [
        "df_final.head()"
      ],
      "execution_count": 0,
      "outputs": []
    },
    {
      "cell_type": "markdown",
      "metadata": {
        "id": "8LyjKTKYijmW",
        "colab_type": "text"
      },
      "source": [
        "### Realizando ajustes e conversões de tipos\n",
        "\n",
        "Para realizarmos algumas análises será necessário realizar as conversões de tipo. "
      ]
    },
    {
      "cell_type": "markdown",
      "metadata": {
        "id": "_SwpfGOYijmY",
        "colab_type": "text"
      },
      "source": [
        "Realizando uma copia do ```df_final``` para tratamento dos dados"
      ]
    },
    {
      "cell_type": "code",
      "metadata": {
        "id": "r7Ndgrmdijma",
        "colab_type": "code",
        "colab": {}
      },
      "source": [
        "df_aux = df_final.copy()"
      ],
      "execution_count": 0,
      "outputs": []
    },
    {
      "cell_type": "markdown",
      "metadata": {
        "id": "V2-q6GMnijmg",
        "colab_type": "text"
      },
      "source": [
        "Também será necessário selecionar as colunas que se deseja realizar o tratamento."
      ]
    },
    {
      "cell_type": "code",
      "metadata": {
        "id": "58DMs6m-ijmi",
        "colab_type": "code",
        "colab": {}
      },
      "source": [
        "print(len(df_aux.columns))"
      ],
      "execution_count": 0,
      "outputs": []
    },
    {
      "cell_type": "code",
      "metadata": {
        "id": "fxBp3Pfwijml",
        "colab_type": "code",
        "colab": {}
      },
      "source": [
        "colunas_removidas = ['abreviacao', 'sede_de_governo', 'unidade_federativa']"
      ],
      "execution_count": 0,
      "outputs": []
    },
    {
      "cell_type": "code",
      "metadata": {
        "id": "oE5Clw3Bijmo",
        "colab_type": "code",
        "colab": {}
      },
      "source": [
        "aux_colunas = list(filter(lambda col: col not in colunas_removidas, df_aux.columns))"
      ],
      "execution_count": 0,
      "outputs": []
    },
    {
      "cell_type": "code",
      "metadata": {
        "id": "0aLfc-qvijmy",
        "colab_type": "code",
        "colab": {}
      },
      "source": [
        "print(len(aux_colunas))"
      ],
      "execution_count": 0,
      "outputs": []
    },
    {
      "cell_type": "markdown",
      "metadata": {
        "id": "ZAVxppLWijm0",
        "colab_type": "text"
      },
      "source": [
        "Funções auxiliares para remover espaços e converter a pontuação."
      ]
    },
    {
      "cell_type": "code",
      "metadata": {
        "id": "qxc_8VCZijm5",
        "colab_type": "code",
        "colab": {}
      },
      "source": [
        "def remover_espacos(string):\n",
        "    string = string.replace(u'%', '')\n",
        "    string = string.replace(u'‰', '')\n",
        "    string = string.replace(u'anos', '')\n",
        "    return string.replace(u'\\xa0', '')"
      ],
      "execution_count": 0,
      "outputs": []
    },
    {
      "cell_type": "code",
      "metadata": {
        "id": "7p1aFc1yijnA",
        "colab_type": "code",
        "colab": {}
      },
      "source": [
        "def converter_pontuacao(string):\n",
        "    return string.replace(u',', '.')"
      ],
      "execution_count": 0,
      "outputs": []
    },
    {
      "cell_type": "markdown",
      "metadata": {
        "id": "iNFx3VAaijnH",
        "colab_type": "text"
      },
      "source": [
        "Aplicando as funções criadas em cada uma das colunas definidas na variável ```colunas_float``` e ```colunas_int```."
      ]
    },
    {
      "cell_type": "code",
      "metadata": {
        "id": "bYfu6hRqijnJ",
        "colab_type": "code",
        "colab": {}
      },
      "source": [
        "for coluna in aux_colunas:\n",
        "    df_aux[coluna] = df_aux[coluna].apply(remover_espacos)\n",
        "    df_aux[coluna] = df_aux[coluna].apply(converter_pontuacao)"
      ],
      "execution_count": 0,
      "outputs": []
    },
    {
      "cell_type": "code",
      "metadata": {
        "id": "ODtHwitIijnO",
        "colab_type": "code",
        "colab": {}
      },
      "source": [
        "df_aux.head()"
      ],
      "execution_count": 0,
      "outputs": []
    },
    {
      "cell_type": "code",
      "metadata": {
        "id": "NnBWT_HAijnU",
        "colab_type": "code",
        "colab": {}
      },
      "source": [
        "print(type(df_aux.area_km2[0]))"
      ],
      "execution_count": 0,
      "outputs": []
    },
    {
      "cell_type": "markdown",
      "metadata": {
        "id": "jpqBDODRijnZ",
        "colab_type": "text"
      },
      "source": [
        "Temos que realizar as conversões de tipo, para isso iremos utilizar o método do Pandas que realiza a conversão de maneira automatica seja para um tipo numérico."
      ]
    },
    {
      "cell_type": "code",
      "metadata": {
        "id": "31pYH5nDijnc",
        "colab_type": "code",
        "colab": {}
      },
      "source": [
        "for coluna in aux_colunas:\n",
        "    df_aux[coluna] = df_aux[coluna].apply(pd.to_numeric)"
      ],
      "execution_count": 0,
      "outputs": []
    },
    {
      "cell_type": "code",
      "metadata": {
        "id": "_f_X3Yqqijne",
        "colab_type": "code",
        "colab": {}
      },
      "source": [
        "df_aux.dtypes"
      ],
      "execution_count": 0,
      "outputs": []
    },
    {
      "cell_type": "markdown",
      "metadata": {
        "id": "GCpR5YuCijnh",
        "colab_type": "text"
      },
      "source": [
        "Visualizando o DataFrame Final"
      ]
    },
    {
      "cell_type": "code",
      "metadata": {
        "id": "dMRgdXfJijni",
        "colab_type": "code",
        "colab": {}
      },
      "source": [
        "df_aux.head()"
      ],
      "execution_count": 0,
      "outputs": []
    },
    {
      "cell_type": "code",
      "metadata": {
        "id": "1S5sMEBkijnk",
        "colab_type": "code",
        "colab": {}
      },
      "source": [
        "df_aux.describe()"
      ],
      "execution_count": 0,
      "outputs": []
    }
  ]
}