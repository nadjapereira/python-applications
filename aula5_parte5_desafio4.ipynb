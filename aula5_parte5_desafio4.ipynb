{
  "nbformat": 4,
  "nbformat_minor": 0,
  "metadata": {
    "kernelspec": {
      "display_name": "Python 3",
      "language": "python",
      "name": "python3"
    },
    "language_info": {
      "codemirror_mode": {
        "name": "ipython",
        "version": 3
      },
      "file_extension": ".py",
      "mimetype": "text/x-python",
      "name": "python",
      "nbconvert_exporter": "python",
      "pygments_lexer": "ipython3",
      "version": "3.6.3"
    },
    "colab": {
      "name": "aula5-parte5-desafio4.ipynb",
      "provenance": [],
      "include_colab_link": true
    }
  },
  "cells": [
    {
      "cell_type": "markdown",
      "metadata": {
        "id": "view-in-github",
        "colab_type": "text"
      },
      "source": [
        "<a href=\"https://colab.research.google.com/github/nadjapereira/python-applications/blob/master/aula5_parte5_desafio4.ipynb\" target=\"_parent\"><img src=\"https://colab.research.google.com/assets/colab-badge.svg\" alt=\"Open In Colab\"/></a>"
      ]
    },
    {
      "cell_type": "markdown",
      "metadata": {
        "id": "42iqc5ckOD4V",
        "colab_type": "text"
      },
      "source": [
        "# Desafio 4\n",
        "\n",
        "## 1. Introdução ao Pandas \n",
        "\n",
        "Já visto nas aulas anteriores.\n",
        "\n",
        "## 2. Carregar o arquivo JSON\n"
      ]
    },
    {
      "cell_type": "code",
      "metadata": {
        "id": "PsQiO-WnOD4d",
        "colab_type": "code",
        "colab": {}
      },
      "source": [
        "import simplejson as json\n",
        "import pandas as pd"
      ],
      "execution_count": 0,
      "outputs": []
    },
    {
      "cell_type": "code",
      "metadata": {
        "id": "KfJR2prDOD41",
        "colab_type": "code",
        "colab": {}
      },
      "source": [
        "dados = []\n",
        "with open('tweets_5min.json') as arquivo:\n",
        "    for linha in arquivo:\n",
        "        dados.append(json.loads(linha))"
      ],
      "execution_count": 0,
      "outputs": []
    },
    {
      "cell_type": "code",
      "metadata": {
        "id": "M3DAIy6FOD5F",
        "colab_type": "code",
        "colab": {}
      },
      "source": [
        "dados[0]"
      ],
      "execution_count": 0,
      "outputs": []
    },
    {
      "cell_type": "code",
      "metadata": {
        "id": "VJpkhRzEOD5V",
        "colab_type": "code",
        "colab": {}
      },
      "source": [
        "df = pd.DataFrame(dados)"
      ],
      "execution_count": 0,
      "outputs": []
    },
    {
      "cell_type": "code",
      "metadata": {
        "id": "C8nZzNSJOD5g",
        "colab_type": "code",
        "colab": {}
      },
      "source": [
        "print(df.columns)"
      ],
      "execution_count": 0,
      "outputs": []
    },
    {
      "cell_type": "code",
      "metadata": {
        "id": "WlIJbfPJOD55",
        "colab_type": "code",
        "colab": {}
      },
      "source": [
        "df.head()"
      ],
      "execution_count": 0,
      "outputs": []
    },
    {
      "cell_type": "code",
      "metadata": {
        "id": "q1Hi0xxgOD6f",
        "colab_type": "code",
        "colab": {}
      },
      "source": [
        "print(len(df))"
      ],
      "execution_count": 0,
      "outputs": []
    },
    {
      "cell_type": "markdown",
      "metadata": {
        "id": "8nVJMaEWOD60",
        "colab_type": "text"
      },
      "source": [
        "## 3. Definir o que iremos salvar!\n",
        "\n",
        "Vamos salvar:\n",
        "\n",
        "* text\n",
        "* created_at\n",
        "* coordinates\n",
        "* retweet_count\n",
        "* user -> screen_name\n",
        "* user -> location\n",
        "* user -> lang\n",
        "* user -> followers_count\n",
        "\n"
      ]
    },
    {
      "cell_type": "code",
      "metadata": {
        "id": "ik4IeueQOD65",
        "colab_type": "code",
        "colab": {}
      },
      "source": [
        "print(\"--> Dados do tweet\")\n",
        "print(df['text'][0])\n",
        "print(df['created_at'][0])\n",
        "print(df['coordinates'][0])\n",
        "print(df['retweet_count'][0])\n",
        "\n",
        "print(\"\\n--> Dados do usuário\")\n",
        "print(df['user'][0]['screen_name'])\n",
        "print(df['user'][0]['location'])\n",
        "print(df['user'][0]['lang'])\n",
        "print(df['user'][0]['followers_count'])\n"
      ],
      "execution_count": 0,
      "outputs": []
    },
    {
      "cell_type": "markdown",
      "metadata": {
        "id": "Zvp_-bwcOD7S",
        "colab_type": "text"
      },
      "source": [
        "Agora vamos criar uma lista chamada colunas para salvar os nomes das colunas que queremos ter em nosso DataFrame."
      ]
    },
    {
      "cell_type": "code",
      "metadata": {
        "id": "RQYsmQzwOD7X",
        "colab_type": "code",
        "colab": {}
      },
      "source": [
        "colunas = ['text', 'created_at', 'coordinates', 'retweet_count', 'screen_name', \n",
        "           'location', 'lang', 'followers_count']"
      ],
      "execution_count": 0,
      "outputs": []
    },
    {
      "cell_type": "code",
      "metadata": {
        "id": "_JhmYIrcOD8m",
        "colab_type": "code",
        "colab": {}
      },
      "source": [
        "print(len(colunas))"
      ],
      "execution_count": 0,
      "outputs": []
    },
    {
      "cell_type": "markdown",
      "metadata": {
        "id": "v4EMgCTSOD8z",
        "colab_type": "text"
      },
      "source": [
        "Vamos criar um dataframe auxiliar para salvar somente os dados que queremos."
      ]
    },
    {
      "cell_type": "code",
      "metadata": {
        "id": "U9rIYar3OD84",
        "colab_type": "code",
        "colab": {}
      },
      "source": [
        "df_aux = pd.DataFrame(columns=colunas)\n",
        "df_aux"
      ],
      "execution_count": 0,
      "outputs": []
    },
    {
      "cell_type": "markdown",
      "metadata": {
        "id": "8y-YP63rOD9M",
        "colab_type": "text"
      },
      "source": [
        "Agora iremos adicionar apenas uma linha para entender como essa estrutura funciona.\n",
        "\n",
        "Lembre-se que estamos recuperando informações do ```user```, sendo que os valores estão salvos em uma única coluna."
      ]
    },
    {
      "cell_type": "code",
      "metadata": {
        "id": "JKS_RyUZOD9S",
        "colab_type": "code",
        "colab": {}
      },
      "source": [
        "dados = [df['text'][0],\n",
        "         df['created_at'][0],\n",
        "         df['coordinates'][0],\n",
        "         df['retweet_count'][0],\n",
        "         df['user'][0]['screen_name'],\n",
        "         df['user'][0]['location'],\n",
        "         df['user'][0]['lang'],\n",
        "         df['user'][0]['followers_count']\n",
        "        ]"
      ],
      "execution_count": 0,
      "outputs": []
    },
    {
      "cell_type": "code",
      "metadata": {
        "id": "FQbYQj0DOD9m",
        "colab_type": "code",
        "colab": {}
      },
      "source": [
        "series_aux = pd.Series(dados, index=colunas)\n",
        "df_aux = df_aux.append(series_aux, ignore_index=True)"
      ],
      "execution_count": 0,
      "outputs": []
    },
    {
      "cell_type": "markdown",
      "metadata": {
        "id": "s4_2a4p2OD99",
        "colab_type": "text"
      },
      "source": [
        "É importante notar que se a cedula acima for executada mais de uma vez, o append irá adicionar repetidos. Tome cuidado!"
      ]
    },
    {
      "cell_type": "code",
      "metadata": {
        "id": "rxw1z0EEOD-N",
        "colab_type": "code",
        "colab": {}
      },
      "source": [
        "df_aux"
      ],
      "execution_count": 0,
      "outputs": []
    },
    {
      "cell_type": "markdown",
      "metadata": {
        "id": "CW-HSUhWOD-d",
        "colab_type": "text"
      },
      "source": [
        "## 4. Entender o módulo Geopy e criar função que retorna a latitude e longitude\n",
        "\n"
      ]
    },
    {
      "cell_type": "code",
      "metadata": {
        "id": "-d08IHJwOD-s",
        "colab_type": "code",
        "colab": {}
      },
      "source": [
        "from geopy.geocoders import Nominatim"
      ],
      "execution_count": 0,
      "outputs": []
    },
    {
      "cell_type": "code",
      "metadata": {
        "id": "TH9C9PytOD_Q",
        "colab_type": "code",
        "colab": {}
      },
      "source": [
        "print(dir(Nominatim))"
      ],
      "execution_count": 0,
      "outputs": []
    },
    {
      "cell_type": "code",
      "metadata": {
        "id": "FHibOMghOD_f",
        "colab_type": "code",
        "colab": {}
      },
      "source": [
        "geolocalizador = Nominatim()\n",
        "localizacao = geolocalizador.geocode(\"Av. Paulista, 302, São Paulo\")\n",
        "print(localizacao)"
      ],
      "execution_count": 0,
      "outputs": []
    },
    {
      "cell_type": "code",
      "metadata": {
        "id": "_hbt0F3aOD_v",
        "colab_type": "code",
        "colab": {}
      },
      "source": [
        "print(localizacao.address)"
      ],
      "execution_count": 0,
      "outputs": []
    },
    {
      "cell_type": "code",
      "metadata": {
        "id": "39Ssw_rQOEAB",
        "colab_type": "code",
        "colab": {}
      },
      "source": [
        "print(localizacao.latitude, localizacao.longitude)"
      ],
      "execution_count": 0,
      "outputs": []
    },
    {
      "cell_type": "code",
      "metadata": {
        "id": "uVQ2rORHOEAU",
        "colab_type": "code",
        "colab": {}
      },
      "source": [
        "print(localizacao.raw)"
      ],
      "execution_count": 0,
      "outputs": []
    },
    {
      "cell_type": "markdown",
      "metadata": {
        "id": "CHZLwb1mOEAl",
        "colab_type": "text"
      },
      "source": [
        "**Exercício - **Crie uma função que receba uma localização e retorne a latitude e longitude. Lembre-se de tratar possíves erros de conexão. a partir de um local, conseguimos recuperar a latitude e longitude."
      ]
    },
    {
      "cell_type": "code",
      "metadata": {
        "id": "2pFNk_UiOEAq",
        "colab_type": "code",
        "colab": {}
      },
      "source": [
        "from geopy.geocoders import Nominatim\n",
        "def pegar_lat_long(local):\n",
        "    geolocalizador = Nominatim()\n",
        "    try:\n",
        "        localizacao = geolocalizador.geocode(local)\n",
        "        return (localizacao.latitude, localizacao.longitude)\n",
        "    except:\n",
        "        return 0\n",
        "    "
      ],
      "execution_count": 0,
      "outputs": []
    },
    {
      "cell_type": "code",
      "metadata": {
        "id": "TiBbNPBaOEA1",
        "colab_type": "code",
        "colab": {}
      },
      "source": [
        "pegar_lat_long('Sao Paulo, SP')"
      ],
      "execution_count": 0,
      "outputs": []
    },
    {
      "cell_type": "markdown",
      "metadata": {
        "id": "QMYCg4adOEBH",
        "colab_type": "text"
      },
      "source": [
        "## 5. Preparar os dados para a visualização"
      ]
    },
    {
      "cell_type": "markdown",
      "metadata": {
        "id": "RBn6R7dGOEBV",
        "colab_type": "text"
      },
      "source": [
        "### Hashtags\n",
        "\n",
        "Agora iremos criar uma função que irá salvar as hashtags utilizadas no texto."
      ]
    },
    {
      "cell_type": "code",
      "metadata": {
        "id": "60DJnXYXOEBa",
        "colab_type": "code",
        "colab": {}
      },
      "source": [
        "palavras = df['text'][0]\n",
        "palavras.split()"
      ],
      "execution_count": 0,
      "outputs": []
    },
    {
      "cell_type": "code",
      "metadata": {
        "id": "Uw5FGLm5OEBx",
        "colab_type": "code",
        "colab": {}
      },
      "source": [
        "for palavra in palavras.split():\n",
        "    if palavra.startswith('#'):\n",
        "        print(palavra)"
      ],
      "execution_count": 0,
      "outputs": []
    },
    {
      "cell_type": "markdown",
      "metadata": {
        "id": "GPAaDyXEOECE",
        "colab_type": "text"
      },
      "source": [
        "** Exercicio - Crie uma função que salvar as hashtags separadas por um espaço em branco. Exemplo:**\n",
        "\n",
        "**Entrada:** ```Estou #programando em #python```\n",
        "\n",
        "**Saida:** ```'#programando #python'```\n",
        "    "
      ]
    },
    {
      "cell_type": "code",
      "metadata": {
        "id": "yDQIZkhvOECJ",
        "colab_type": "code",
        "colab": {}
      },
      "source": [
        "' '.join(['1', '2'])"
      ],
      "execution_count": 0,
      "outputs": []
    },
    {
      "cell_type": "code",
      "metadata": {
        "id": "dr-srfJVOECZ",
        "colab_type": "code",
        "colab": {}
      },
      "source": [
        "def salvar_hashtags2(texto):\n",
        "    return ' '.join([x for x in texto.split() if x.startswith('#')])"
      ],
      "execution_count": 0,
      "outputs": []
    },
    {
      "cell_type": "code",
      "metadata": {
        "id": "TBc_TKOrOEDC",
        "colab_type": "code",
        "colab": {}
      },
      "source": [
        "salvar_hashtags2('RT @tonyojeda3: An Introduction to #MachineLearning with #Python https://t.co/TMrLLJNskx #DataScience #BigData')"
      ],
      "execution_count": 0,
      "outputs": []
    },
    {
      "cell_type": "code",
      "metadata": {
        "id": "v9V919fTOEDS",
        "colab_type": "code",
        "colab": {}
      },
      "source": [
        "def salvar_hashtags(texto):\n",
        "    palavras = texto.split()\n",
        "    aux = []\n",
        "    for palavra in palavras:\n",
        "        if palavra.startswith('#'):\n",
        "            aux.append(palavra)\n",
        "    converter = ' '.join(aux)\n",
        "    return converter"
      ],
      "execution_count": 0,
      "outputs": []
    },
    {
      "cell_type": "code",
      "metadata": {
        "id": "Hyn3cVSiOEDn",
        "colab_type": "code",
        "colab": {}
      },
      "source": [
        "salvar_hashtags(df['text'][0])"
      ],
      "execution_count": 0,
      "outputs": []
    },
    {
      "cell_type": "markdown",
      "metadata": {
        "id": "xxGXWKL_OEEB",
        "colab_type": "text"
      },
      "source": [
        "### Criar as novas colunas no DataFrame\n",
        "\n",
        "Vamos criar as 3 novas colunas em nosso DataFrame.\n",
        "\n"
      ]
    },
    {
      "cell_type": "code",
      "metadata": {
        "id": "raqSDdL4OEEI",
        "colab_type": "code",
        "colab": {}
      },
      "source": [
        "colunas = ['text', 'created_at', 'coordinates', 'retweet_count', \n",
        "           'screen_name', 'location', 'lang', 'followers_count', \n",
        "           'lat', 'long', 'hastags']"
      ],
      "execution_count": 0,
      "outputs": []
    },
    {
      "cell_type": "code",
      "metadata": {
        "id": "yEjRCYJoOEEW",
        "colab_type": "code",
        "colab": {}
      },
      "source": [
        "df_aux = pd.DataFrame(columns=colunas)\n",
        "len(df_aux.columns)"
      ],
      "execution_count": 0,
      "outputs": []
    },
    {
      "cell_type": "code",
      "metadata": {
        "id": "mLX3SrI6OEEj",
        "colab_type": "code",
        "colab": {}
      },
      "source": [
        "df_aux"
      ],
      "execution_count": 0,
      "outputs": []
    },
    {
      "cell_type": "markdown",
      "metadata": {
        "id": "nPBryjqnOEFD",
        "colab_type": "text"
      },
      "source": [
        "Novamente vamos adicionar apenas um único item para verificar se está tudo correto."
      ]
    },
    {
      "cell_type": "code",
      "metadata": {
        "id": "Nv4HebCPOEFG",
        "colab_type": "code",
        "colab": {}
      },
      "source": [
        "latlong = pegar_lat_long(df['user'][3]['location'])\n",
        "latlong"
      ],
      "execution_count": 0,
      "outputs": []
    },
    {
      "cell_type": "code",
      "metadata": {
        "id": "Sk_GHUkqOEFR",
        "colab_type": "code",
        "colab": {}
      },
      "source": [
        "dados = [\n",
        "    df['text'][3],\n",
        "    df['created_at'][3],\n",
        "    df['coordinates'][3],\n",
        "    df['retweet_count'][3],\n",
        "    df['user'][3]['screen_name'],\n",
        "    df['user'][3]['location'],\n",
        "    df['user'][3]['lang'],\n",
        "    df['user'][3]['followers_count'],\n",
        "    latlong[0],\n",
        "    latlong[1],\n",
        "    salvar_hashtags(df['text'][3])\n",
        "    ]"
      ],
      "execution_count": 0,
      "outputs": []
    },
    {
      "cell_type": "code",
      "metadata": {
        "id": "oed06W6wOEFn",
        "colab_type": "code",
        "colab": {}
      },
      "source": [
        "dados"
      ],
      "execution_count": 0,
      "outputs": []
    },
    {
      "cell_type": "code",
      "metadata": {
        "id": "Opa2gzz8OEF4",
        "colab_type": "code",
        "colab": {}
      },
      "source": [
        "series_aux = pd.Series(dados, index=colunas)\n",
        "df_aux = df_aux.append(series_aux, ignore_index=True)"
      ],
      "execution_count": 0,
      "outputs": []
    },
    {
      "cell_type": "code",
      "metadata": {
        "id": "6CRaHvp3OEGK",
        "colab_type": "code",
        "colab": {}
      },
      "source": [
        "df_aux"
      ],
      "execution_count": 0,
      "outputs": []
    },
    {
      "cell_type": "markdown",
      "metadata": {
        "id": "r2I_m_nTOEGq",
        "colab_type": "text"
      },
      "source": [
        "### Repetir esse processo para todos os tweets que foram salvos!\n",
        "\n",
        "Até agora só trabalhamos com uma única entrada de dados, que foi o primeiro twitter salvo no arquivo.\n",
        "\n",
        "Agora precisamos verificar quais informações são realmente importante e não podem ser vazias.\n",
        "\n",
        "Primeiro precisamos percorrer todo o conjunto de dados, linha a linha. Como podemos fazer isso?"
      ]
    },
    {
      "cell_type": "code",
      "metadata": {
        "id": "oOOTbLYjOEGz",
        "colab_type": "code",
        "colab": {}
      },
      "source": [
        "df_aux = pd.DataFrame(columns=colunas)\n",
        "df_aux"
      ],
      "execution_count": 0,
      "outputs": []
    },
    {
      "cell_type": "code",
      "metadata": {
        "id": "z-BOySzaOEHX",
        "colab_type": "code",
        "colab": {}
      },
      "source": [
        "print(len(df))"
      ],
      "execution_count": 0,
      "outputs": []
    },
    {
      "cell_type": "code",
      "metadata": {
        "id": "evqu1wWKOEHk",
        "colab_type": "code",
        "colab": {}
      },
      "source": [
        "import time"
      ],
      "execution_count": 0,
      "outputs": []
    },
    {
      "cell_type": "code",
      "metadata": {
        "id": "3tlLb8o0OEH0",
        "colab_type": "code",
        "colab": {}
      },
      "source": [
        "t0 = time.time()\n",
        "for i in range(0, len(df)):\n",
        "    if df['user'][i]['location'] != None:\n",
        "        tem_lat_long = pegar_lat_long(df['user'][i]['location'])\n",
        "        if tem_lat_long != 0:\n",
        "            dados = [\n",
        "                df['text'][i],\n",
        "                df['created_at'][i],\n",
        "                df['coordinates'][i],\n",
        "                df['retweet_count'][i],\n",
        "                df['user'][i]['screen_name'],\n",
        "                df['user'][i]['location'],\n",
        "                df['user'][i]['lang'],\n",
        "                df['user'][i]['followers_count'],\n",
        "                tem_lat_long[0],\n",
        "                tem_lat_long[1],\n",
        "                salvar_hashtags(df['text'][i])\n",
        "            ]\n",
        "            print(i,end=\" \")\n",
        "            series = pd.Series(dados,index=colunas)\n",
        "            df_aux = df_aux.append(series, ignore_index=True)\n",
        "tf = time.time() - t0\n",
        "print(\"\\n\\nTempo total para o parse foi de {} minutos\".format(round(tf/60, 3)))"
      ],
      "execution_count": 0,
      "outputs": []
    },
    {
      "cell_type": "code",
      "metadata": {
        "id": "TeMXUIK_OEIO",
        "colab_type": "code",
        "colab": {}
      },
      "source": [
        "len(df_aux)"
      ],
      "execution_count": 0,
      "outputs": []
    },
    {
      "cell_type": "code",
      "metadata": {
        "id": "yruXELCiOEIt",
        "colab_type": "code",
        "colab": {}
      },
      "source": [
        "df_aux.head()"
      ],
      "execution_count": 0,
      "outputs": []
    },
    {
      "cell_type": "markdown",
      "metadata": {
        "id": "JxUnByDjOEJO",
        "colab_type": "text"
      },
      "source": [
        "## 6. Salvar os dados em CSV"
      ]
    },
    {
      "cell_type": "code",
      "metadata": {
        "id": "4QXBCY8lOEJW",
        "colab_type": "code",
        "colab": {}
      },
      "source": [
        "print(df_aux.count())"
      ],
      "execution_count": 0,
      "outputs": []
    },
    {
      "cell_type": "code",
      "metadata": {
        "id": "_lnvP7KvOEJw",
        "colab_type": "code",
        "colab": {}
      },
      "source": [
        "df_aux.to_csv('tweets_5min.csv', sep=';', encoding='utf-8', index=False)"
      ],
      "execution_count": 0,
      "outputs": []
    },
    {
      "cell_type": "code",
      "metadata": {
        "id": "wHKfjmqTOEJ7",
        "colab_type": "code",
        "colab": {}
      },
      "source": [
        ""
      ],
      "execution_count": 0,
      "outputs": []
    }
  ]
}