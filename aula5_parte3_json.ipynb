{
  "nbformat": 4,
  "nbformat_minor": 0,
  "metadata": {
    "kernelspec": {
      "display_name": "Python 3",
      "language": "python",
      "name": "python3"
    },
    "language_info": {
      "codemirror_mode": {
        "name": "ipython",
        "version": 3
      },
      "file_extension": ".py",
      "mimetype": "text/x-python",
      "name": "python",
      "nbconvert_exporter": "python",
      "pygments_lexer": "ipython3",
      "version": "3.6.5"
    },
    "colab": {
      "name": "aula5-parte3-json.ipynb",
      "provenance": [],
      "include_colab_link": true
    }
  },
  "cells": [
    {
      "cell_type": "markdown",
      "metadata": {
        "id": "view-in-github",
        "colab_type": "text"
      },
      "source": [
        "<a href=\"https://colab.research.google.com/github/nadjapereira/python-applications/blob/master/aula5_parte3_json.ipynb\" target=\"_parent\"><img src=\"https://colab.research.google.com/assets/colab-badge.svg\" alt=\"Open In Colab\"/></a>"
      ]
    },
    {
      "cell_type": "markdown",
      "metadata": {
        "collapsed": true,
        "id": "eZLrnVPyN8qv",
        "colab_type": "text"
      },
      "source": [
        "# JSON\n",
        "\n",
        "\n",
        "Ver slides 34 até 37.\n",
        "\n",
        "## Básico\n",
        "\n",
        "Codificando objetos básicos do Python\n",
        "\n",
        "<div class=\"alert alert-block alert-danger\">\n",
        "**Importante**: As strings dentro do JSON devem estar em aspas duplas."
      ]
    },
    {
      "cell_type": "code",
      "metadata": {
        "collapsed": true,
        "id": "nCOxD0v3N8q4",
        "colab_type": "code",
        "colab": {}
      },
      "source": [
        "import simplejson as json"
      ],
      "execution_count": 0,
      "outputs": []
    },
    {
      "cell_type": "code",
      "metadata": {
        "collapsed": true,
        "id": "KKeSXgEQN8rW",
        "colab_type": "code",
        "colab": {}
      },
      "source": [
        "json_string = '{\"pnome\": \"Dino\", \"unome\":\"Magri\"}'"
      ],
      "execution_count": 0,
      "outputs": []
    },
    {
      "cell_type": "code",
      "metadata": {
        "collapsed": true,
        "id": "_aB__OXGN8ru",
        "colab_type": "code",
        "colab": {}
      },
      "source": [
        "arq_json = json.loads(json_string)"
      ],
      "execution_count": 0,
      "outputs": []
    },
    {
      "cell_type": "code",
      "metadata": {
        "id": "1Z3kor4hN8sF",
        "colab_type": "code",
        "colab": {}
      },
      "source": [
        "print(arq_json['pnome'])"
      ],
      "execution_count": 0,
      "outputs": []
    },
    {
      "cell_type": "code",
      "metadata": {
        "collapsed": true,
        "id": "6fp0T3ZsN8sf",
        "colab_type": "code",
        "colab": {}
      },
      "source": [
        "json_lista = ['foo', {'bar': ('baz', None, 1.0, 2)}]"
      ],
      "execution_count": 0,
      "outputs": []
    },
    {
      "cell_type": "code",
      "metadata": {
        "id": "3dK5Dp_ON8s0",
        "colab_type": "code",
        "colab": {}
      },
      "source": [
        "print(json.dumps(json_lista))"
      ],
      "execution_count": 0,
      "outputs": []
    },
    {
      "cell_type": "code",
      "metadata": {
        "collapsed": true,
        "id": "tghlN5jnN8tJ",
        "colab_type": "code",
        "colab": {}
      },
      "source": [
        "json_dic = {\"c\": 0, \"b\": 0, \"a\": 0}"
      ],
      "execution_count": 0,
      "outputs": []
    },
    {
      "cell_type": "code",
      "metadata": {
        "id": "YFceB0d1N8th",
        "colab_type": "code",
        "colab": {}
      },
      "source": [
        "print(json.dumps(json_dic, sort_keys=True))"
      ],
      "execution_count": 0,
      "outputs": []
    },
    {
      "cell_type": "markdown",
      "metadata": {
        "id": "hpD316D1N8tw",
        "colab_type": "text"
      },
      "source": [
        "Imprimindo com os espaços para melhor visualização"
      ]
    },
    {
      "cell_type": "code",
      "metadata": {
        "id": "kSOnOehcN8t1",
        "colab_type": "code",
        "colab": {}
      },
      "source": [
        "print(json.dumps(json_dic, sort_keys=True, indent=4 * ' '))"
      ],
      "execution_count": 0,
      "outputs": []
    },
    {
      "cell_type": "markdown",
      "metadata": {
        "id": "5Kt7m_QXN8uN",
        "colab_type": "text"
      },
      "source": [
        "Outros exemplos podem ser visualizados na documentação: https://simplejson.readthedocs.io/en/latest/"
      ]
    },
    {
      "cell_type": "code",
      "metadata": {
        "collapsed": true,
        "id": "Kbjc_anRN8uT",
        "colab_type": "code",
        "colab": {}
      },
      "source": [
        ""
      ],
      "execution_count": 0,
      "outputs": []
    }
  ]
}