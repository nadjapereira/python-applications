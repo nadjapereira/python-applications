{
  "nbformat": 4,
  "nbformat_minor": 0,
  "metadata": {
    "kernelspec": {
      "display_name": "Python 3",
      "language": "python",
      "name": "python3"
    },
    "language_info": {
      "codemirror_mode": {
        "name": "ipython",
        "version": 3
      },
      "file_extension": ".py",
      "mimetype": "text/x-python",
      "name": "python",
      "nbconvert_exporter": "python",
      "pygments_lexer": "ipython3",
      "version": "3.6.2"
    },
    "colab": {
      "name": "aula2-parte2-classes.ipynb",
      "provenance": [],
      "include_colab_link": true
    }
  },
  "cells": [
    {
      "cell_type": "markdown",
      "metadata": {
        "id": "view-in-github",
        "colab_type": "text"
      },
      "source": [
        "<a href=\"https://colab.research.google.com/github/nadjapereira/python-applications/blob/master/aula2_parte2_classes.ipynb\" target=\"_parent\"><img src=\"https://colab.research.google.com/assets/colab-badge.svg\" alt=\"Open In Colab\"/></a>"
      ]
    },
    {
      "cell_type": "markdown",
      "metadata": {
        "id": "olhJ9ec6Cu2X",
        "colab_type": "text"
      },
      "source": [
        "# Classes e Objetos"
      ]
    },
    {
      "cell_type": "code",
      "metadata": {
        "collapsed": true,
        "id": "vcdvdGd0Cu2a",
        "colab_type": "code",
        "colab": {}
      },
      "source": [
        "class Pessoa(object):\n",
        "    def __init__(self, nome, idade):\n",
        "        self.nome = nome\n",
        "        self.idade = idade"
      ],
      "execution_count": 0,
      "outputs": []
    },
    {
      "cell_type": "code",
      "metadata": {
        "id": "zh0SzxKRCu2h",
        "colab_type": "code",
        "colab": {}
      },
      "source": [
        "joao = Pessoa()"
      ],
      "execution_count": 0,
      "outputs": []
    },
    {
      "cell_type": "code",
      "metadata": {
        "id": "HziJIl7zCu2m",
        "colab_type": "code",
        "colab": {}
      },
      "source": [
        "joao = Pessoa('João', 20)\n",
        "print(joao, '\\n')\n",
        "print(joao.nome)\n",
        "print(joao.idade)"
      ],
      "execution_count": 0,
      "outputs": []
    },
    {
      "cell_type": "code",
      "metadata": {
        "id": "zmFAXNmGCu2q",
        "colab_type": "code",
        "colab": {}
      },
      "source": [
        "joao.nome = 'João Pedro'\n",
        "print(joao.nome)"
      ],
      "execution_count": 0,
      "outputs": []
    },
    {
      "cell_type": "code",
      "metadata": {
        "id": "fhTclsLPCu2t",
        "colab_type": "code",
        "colab": {}
      },
      "source": [
        "maria = Pessoa('Maria', 20)\n",
        "print(maria)\n",
        "print(maria.nome)\n",
        "print(maria.idade)"
      ],
      "execution_count": 0,
      "outputs": []
    },
    {
      "cell_type": "markdown",
      "metadata": {
        "id": "4cEgBaHpCu2v",
        "colab_type": "text"
      },
      "source": [
        "## Herança"
      ]
    },
    {
      "cell_type": "code",
      "metadata": {
        "collapsed": true,
        "id": "q1us47fvCu2w",
        "colab_type": "code",
        "colab": {}
      },
      "source": [
        "class Pessoa(object):\n",
        "    def __init__(self, nome, idade):\n",
        "        self.nome = nome\n",
        "        self.idade = idade"
      ],
      "execution_count": 0,
      "outputs": []
    },
    {
      "cell_type": "code",
      "metadata": {
        "collapsed": true,
        "id": "OH9NTUuNCu2z",
        "colab_type": "code",
        "colab": {}
      },
      "source": [
        "class Atleta(Pessoa):\n",
        "    def __init__(self, nome, idade, peso):\n",
        "        Pessoa.__init__(self, nome, idade)\n",
        "        self.peso = peso\n",
        "        self.aposentado = False\n",
        "        \n",
        "    def aquecer(self):\n",
        "        print(\"Atleta Aquecido\")\n",
        "    \n",
        "    def aposentar(self):\n",
        "        self.aposentado = True\n"
      ],
      "execution_count": 0,
      "outputs": []
    },
    {
      "cell_type": "code",
      "metadata": {
        "id": "yJLgyxfgCu22",
        "colab_type": "code",
        "colab": {}
      },
      "source": [
        "jose = Atleta('Jose', 30, 80)\n",
        "print(jose.aposentado)"
      ],
      "execution_count": 0,
      "outputs": []
    },
    {
      "cell_type": "code",
      "metadata": {
        "id": "uuZ8il0xCu24",
        "colab_type": "code",
        "colab": {}
      },
      "source": [
        "jose.aposentar()\n",
        "print(jose.aposentado)"
      ],
      "execution_count": 0,
      "outputs": []
    },
    {
      "cell_type": "code",
      "metadata": {
        "id": "1SezRHhnCu27",
        "colab_type": "code",
        "colab": {}
      },
      "source": [
        "jose.aquecer()"
      ],
      "execution_count": 0,
      "outputs": []
    },
    {
      "cell_type": "code",
      "metadata": {
        "id": "iDI8iHfbCu29",
        "colab_type": "code",
        "colab": {}
      },
      "source": [
        "jose.nome = 'Zé'\n",
        "print(jose.nome, jose.idade, jose.peso)"
      ],
      "execution_count": 0,
      "outputs": []
    },
    {
      "cell_type": "code",
      "metadata": {
        "collapsed": true,
        "id": "4Zn77SWgCu2_",
        "colab_type": "code",
        "colab": {}
      },
      "source": [
        "class Corredor(Atleta):\n",
        "    def correr(self):\n",
        "        print(\"Corredor correndo\")\n",
        "\n",
        "class Nadador(Atleta):\n",
        "    def nadar(self):\n",
        "        print(\"Nadador nadando\")\n",
        "\n",
        "class Ciclista(Atleta):\n",
        "    def pedalar(self):\n",
        "        print(\"Ciclista pedalando\")"
      ],
      "execution_count": 0,
      "outputs": []
    },
    {
      "cell_type": "code",
      "metadata": {
        "id": "6JLNJkfbCu3C",
        "colab_type": "code",
        "colab": {}
      },
      "source": [
        "pedro = Ciclista('Pedro', 30, 100)\n",
        "print(dir(pedro))"
      ],
      "execution_count": 0,
      "outputs": []
    },
    {
      "cell_type": "code",
      "metadata": {
        "collapsed": true,
        "id": "By5iiLDwCu3E",
        "colab_type": "code",
        "colab": {}
      },
      "source": [
        "class Triatleta(Corredor, Nadador, Ciclista):\n",
        "    def triatlo(self):\n",
        "        print(\"Iniciar prova\")"
      ],
      "execution_count": 0,
      "outputs": []
    },
    {
      "cell_type": "markdown",
      "metadata": {
        "id": "6oF1JpOjCu3I",
        "colab_type": "text"
      },
      "source": [
        "## Exercício de 5 minutos\n",
        "\n",
        "    a) Crie uma instancia da classe Pessoa com o nome de joao.\n",
        "    b) Crie uma instancia da classe Atleta com o nome de anderson.\n",
        "    c) Crie uma instancia da classe Corredor com o nome de vanderlei.\n",
        "    d) Crie uma instancia da classe Triatleta com o nome de silvia.\n",
        "    e) Análise o comportamento da criação e teste os métodos existentes em cada uma das instâncias criadas.\n"
      ]
    },
    {
      "cell_type": "code",
      "metadata": {
        "id": "00j1rRRkCu3J",
        "colab_type": "code",
        "colab": {}
      },
      "source": [
        "# a)\n",
        "joao = Pessoa('Joao', 20)\n",
        "print(dir(joao))"
      ],
      "execution_count": 0,
      "outputs": []
    },
    {
      "cell_type": "code",
      "metadata": {
        "id": "DZEwlpAbCu3L",
        "colab_type": "code",
        "colab": {}
      },
      "source": [
        "# b)\n",
        "anderson = Atleta('Anderson', 30, 80)\n",
        "print(dir(anderson))"
      ],
      "execution_count": 0,
      "outputs": []
    },
    {
      "cell_type": "code",
      "metadata": {
        "id": "vO6GcJ5zCu3O",
        "colab_type": "code",
        "colab": {}
      },
      "source": [
        "# c)\n",
        "vanderlei = Corredor('Vanderlei', 30, 80)\n",
        "print(dir(vanderlei))"
      ],
      "execution_count": 0,
      "outputs": []
    },
    {
      "cell_type": "code",
      "metadata": {
        "id": "rDKSab_eCu3Q",
        "colab_type": "code",
        "colab": {}
      },
      "source": [
        "# d)\n",
        "silvia = Triatleta('Silvia', 30, 80)\n",
        "print(dir(silvia))"
      ],
      "execution_count": 0,
      "outputs": []
    },
    {
      "cell_type": "code",
      "metadata": {
        "collapsed": true,
        "id": "YTuJV-RZCu3S",
        "colab_type": "code",
        "colab": {}
      },
      "source": [
        ""
      ],
      "execution_count": 0,
      "outputs": []
    }
  ]
}