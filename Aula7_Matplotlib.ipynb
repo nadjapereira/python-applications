{
  "nbformat": 4,
  "nbformat_minor": 0,
  "metadata": {
    "kernelspec": {
      "display_name": "Python 3",
      "language": "python",
      "name": "python3"
    },
    "language_info": {
      "codemirror_mode": {
        "name": "ipython",
        "version": 3
      },
      "file_extension": ".py",
      "mimetype": "text/x-python",
      "name": "python",
      "nbconvert_exporter": "python",
      "pygments_lexer": "ipython3",
      "version": "3.6.3"
    },
    "colab": {
      "name": "Pratica_Aula7_Matplotlib.ipynb",
      "provenance": [],
      "include_colab_link": true
    }
  },
  "cells": [
    {
      "cell_type": "markdown",
      "metadata": {
        "id": "view-in-github",
        "colab_type": "text"
      },
      "source": [
        "<a href=\"https://colab.research.google.com/github/nadjapereira/python-applications/blob/master/Aula7_Matplotlib.ipynb\" target=\"_parent\"><img src=\"https://colab.research.google.com/assets/colab-badge.svg\" alt=\"Open In Colab\"/></a>"
      ]
    },
    {
      "cell_type": "code",
      "metadata": {
        "id": "qCLkqU5IkIWo",
        "colab_type": "code",
        "colab": {}
      },
      "source": [
        "import pandas as pd"
      ],
      "execution_count": 0,
      "outputs": []
    },
    {
      "cell_type": "code",
      "metadata": {
        "id": "4Cu_ahZfkIWv",
        "colab_type": "code",
        "colab": {}
      },
      "source": [
        "df = pd.read_csv('tweets_10min.csv', sep=';')"
      ],
      "execution_count": 0,
      "outputs": []
    },
    {
      "cell_type": "code",
      "metadata": {
        "id": "VTqEEbh1kIW0",
        "colab_type": "code",
        "colab": {}
      },
      "source": [
        "mais10 = df.followers_count.sort_values(ascending=False)[:10]"
      ],
      "execution_count": 0,
      "outputs": []
    },
    {
      "cell_type": "code",
      "metadata": {
        "id": "jzJfMoI0kIW5",
        "colab_type": "code",
        "colab": {},
        "outputId": "79bebc70-25d9-4054-a6a5-d104e1c7b0a8"
      },
      "source": [
        "mais10"
      ],
      "execution_count": 0,
      "outputs": [
        {
          "output_type": "execute_result",
          "data": {
            "text/plain": [
              "153    89286.0\n",
              "130    57288.0\n",
              "118    57052.0\n",
              "21     19428.0\n",
              "30     17928.0\n",
              "72     17742.0\n",
              "106    17203.0\n",
              "17     15273.0\n",
              "10     11746.0\n",
              "128    10953.0\n",
              "Name: followers_count, dtype: float64"
            ]
          },
          "metadata": {
            "tags": []
          },
          "execution_count": 6
        }
      ]
    },
    {
      "cell_type": "code",
      "metadata": {
        "id": "d5vOQHMXkIXA",
        "colab_type": "code",
        "colab": {}
      },
      "source": [
        "aux = []\n",
        "for item, i in zip(mais10.index, mais10):\n",
        "    aux.append([df.screen_name[item], i])"
      ],
      "execution_count": 0,
      "outputs": []
    },
    {
      "cell_type": "code",
      "metadata": {
        "id": "oJ6YZJhnkIXF",
        "colab_type": "code",
        "colab": {},
        "outputId": "717fcf85-7583-4703-f143-5e826ca11392"
      },
      "source": [
        "aux"
      ],
      "execution_count": 0,
      "outputs": [
        {
          "output_type": "execute_result",
          "data": {
            "text/plain": [
              "[['KirkDBorne', 89286.0],\n",
              " ['twilio', 57288.0],\n",
              " ['TrafficEagle', 57052.0],\n",
              " ['seovalencia', 19428.0],\n",
              " ['ComEd', 17928.0],\n",
              " ['jonnylongden', 17742.0],\n",
              " ['BigdataProfiles', 17203.0],\n",
              " ['KruxDigital', 15273.0],\n",
              " ['GilPress', 11746.0],\n",
              " ['ryanrod42', 10953.0]]"
            ]
          },
          "metadata": {
            "tags": []
          },
          "execution_count": 9
        }
      ]
    },
    {
      "cell_type": "code",
      "metadata": {
        "id": "O2BGxCaQkIXL",
        "colab_type": "code",
        "colab": {}
      },
      "source": [
        "df_final = pd.DataFrame(aux, columns=['nome', 'qtde'])"
      ],
      "execution_count": 0,
      "outputs": []
    },
    {
      "cell_type": "code",
      "metadata": {
        "id": "sgScoRPekIXQ",
        "colab_type": "code",
        "colab": {},
        "outputId": "6e1036eb-d794-4a95-f021-2ce101186f4e"
      },
      "source": [
        "df_final"
      ],
      "execution_count": 0,
      "outputs": [
        {
          "output_type": "execute_result",
          "data": {
            "text/html": [
              "<div>\n",
              "<style scoped>\n",
              "    .dataframe tbody tr th:only-of-type {\n",
              "        vertical-align: middle;\n",
              "    }\n",
              "\n",
              "    .dataframe tbody tr th {\n",
              "        vertical-align: top;\n",
              "    }\n",
              "\n",
              "    .dataframe thead th {\n",
              "        text-align: right;\n",
              "    }\n",
              "</style>\n",
              "<table border=\"1\" class=\"dataframe\">\n",
              "  <thead>\n",
              "    <tr style=\"text-align: right;\">\n",
              "      <th></th>\n",
              "      <th>nome</th>\n",
              "      <th>qtde</th>\n",
              "    </tr>\n",
              "  </thead>\n",
              "  <tbody>\n",
              "    <tr>\n",
              "      <th>0</th>\n",
              "      <td>KirkDBorne</td>\n",
              "      <td>89286.0</td>\n",
              "    </tr>\n",
              "    <tr>\n",
              "      <th>1</th>\n",
              "      <td>twilio</td>\n",
              "      <td>57288.0</td>\n",
              "    </tr>\n",
              "    <tr>\n",
              "      <th>2</th>\n",
              "      <td>TrafficEagle</td>\n",
              "      <td>57052.0</td>\n",
              "    </tr>\n",
              "    <tr>\n",
              "      <th>3</th>\n",
              "      <td>seovalencia</td>\n",
              "      <td>19428.0</td>\n",
              "    </tr>\n",
              "    <tr>\n",
              "      <th>4</th>\n",
              "      <td>ComEd</td>\n",
              "      <td>17928.0</td>\n",
              "    </tr>\n",
              "    <tr>\n",
              "      <th>5</th>\n",
              "      <td>jonnylongden</td>\n",
              "      <td>17742.0</td>\n",
              "    </tr>\n",
              "    <tr>\n",
              "      <th>6</th>\n",
              "      <td>BigdataProfiles</td>\n",
              "      <td>17203.0</td>\n",
              "    </tr>\n",
              "    <tr>\n",
              "      <th>7</th>\n",
              "      <td>KruxDigital</td>\n",
              "      <td>15273.0</td>\n",
              "    </tr>\n",
              "    <tr>\n",
              "      <th>8</th>\n",
              "      <td>GilPress</td>\n",
              "      <td>11746.0</td>\n",
              "    </tr>\n",
              "    <tr>\n",
              "      <th>9</th>\n",
              "      <td>ryanrod42</td>\n",
              "      <td>10953.0</td>\n",
              "    </tr>\n",
              "  </tbody>\n",
              "</table>\n",
              "</div>"
            ],
            "text/plain": [
              "              nome     qtde\n",
              "0       KirkDBorne  89286.0\n",
              "1           twilio  57288.0\n",
              "2     TrafficEagle  57052.0\n",
              "3      seovalencia  19428.0\n",
              "4            ComEd  17928.0\n",
              "5     jonnylongden  17742.0\n",
              "6  BigdataProfiles  17203.0\n",
              "7      KruxDigital  15273.0\n",
              "8         GilPress  11746.0\n",
              "9        ryanrod42  10953.0"
            ]
          },
          "metadata": {
            "tags": []
          },
          "execution_count": 11
        }
      ]
    },
    {
      "cell_type": "code",
      "metadata": {
        "id": "anHspR2JkIXU",
        "colab_type": "code",
        "colab": {}
      },
      "source": [
        "import matplotlib.pyplot as plt"
      ],
      "execution_count": 0,
      "outputs": []
    },
    {
      "cell_type": "code",
      "metadata": {
        "id": "URKav8eukIXY",
        "colab_type": "code",
        "colab": {},
        "outputId": "7617e43f-c2ec-41b3-8b90-1144a44a1bf6"
      },
      "source": [
        "plt.figure()\n",
        "df_final.set_index('nome').plot(kind='bar')\n",
        "plt.xlabel('Nomes')\n",
        "plt.ylabel('Quantidade')\n",
        "plt.title('Gráfico de Barras')"
      ],
      "execution_count": 0,
      "outputs": [
        {
          "output_type": "execute_result",
          "data": {
            "text/plain": [
              "Text(0.5,1,'Gráfico de Barras')"
            ]
          },
          "metadata": {
            "tags": []
          },
          "execution_count": 15
        },
        {
          "output_type": "display_data",
          "data": {
            "text/plain": [
              "<Figure size 432x288 with 0 Axes>"
            ]
          },
          "metadata": {
            "tags": []
          }
        },
        {
          "output_type": "display_data",
          "data": {
            "image/png": "[encoded data removed]",
            "text/plain": [
              "<Figure size 432x288 with 1 Axes>"
            ]
          },
          "metadata": {
            "tags": []
          }
        }
      ]
    },
    {
      "cell_type": "code",
      "metadata": {
        "id": "AmQ3_7m-kIXf",
        "colab_type": "code",
        "colab": {}
      },
      "source": [
        ""
      ],
      "execution_count": 0,
      "outputs": []
    }
  ]
}