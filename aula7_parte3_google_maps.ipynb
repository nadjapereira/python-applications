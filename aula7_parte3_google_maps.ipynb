{
  "nbformat": 4,
  "nbformat_minor": 0,
  "metadata": {
    "kernelspec": {
      "display_name": "Python 3",
      "language": "python",
      "name": "python3"
    },
    "language_info": {
      "codemirror_mode": {
        "name": "ipython",
        "version": 3
      },
      "file_extension": ".py",
      "mimetype": "text/x-python",
      "name": "python",
      "nbconvert_exporter": "python",
      "pygments_lexer": "ipython3",
      "version": "3.6.3"
    },
    "colab": {
      "name": "aula7-parte3-google-maps.ipynb",
      "provenance": [],
      "include_colab_link": true
    }
  },
  "cells": [
    {
      "cell_type": "markdown",
      "metadata": {
        "id": "view-in-github",
        "colab_type": "text"
      },
      "source": [
        "<a href=\"https://colab.research.google.com/github/nadjapereira/python-applications/blob/master/aula7_parte3_google_maps.ipynb\" target=\"_parent\"><img src=\"https://colab.research.google.com/assets/colab-badge.svg\" alt=\"Open In Colab\"/></a>"
      ]
    },
    {
      "cell_type": "markdown",
      "metadata": {
        "id": "1k6qjaFFj_Eq",
        "colab_type": "text"
      },
      "source": [
        "# Visualização de dados Geográficos com Google Maps\n",
        "\n",
        "É possível plotar dados geográficos com Bokeh utilizando diferentes mecanismos utilizandos coordenadas geográficas:\n",
        "\n",
        "- [GMapPlot](https://bokeh.pydata.org/en/latest/docs/user_guide/geo.html#google-maps-support): Utiliza o Google Maps.\n",
        "- [TileSource](https://bokeh.pydata.org/en/latest/docs/user_guide/geo.html#tile-providers): em especial WMTSTileSource, que permite que os dados sejam sobrepostos em qualquer servidor, incluindo Google Maps, OpenStreatMap, Stamen, MapQuest, ou algum servidor próprio. Para visualizar exemplos, acesse o notebook [Aula 8 - Parte 5](aula8-parte5-extra-qualquer-fonte-mapa.ipynb).\n",
        "- [GeoJSONDataSource](https://bokeh.pydata.org/en/dev/docs/user_guide/geo.html#geojson-datasource): permite legar dados no formato GeoJSON para utilizar junto ao Bokeh.\n",
        "\n",
        "## Carregando o conjunto de dados"
      ]
    },
    {
      "cell_type": "code",
      "metadata": {
        "id": "PnbUVNi2j_Es",
        "colab_type": "code",
        "colab": {}
      },
      "source": [
        "import pandas as pd"
      ],
      "execution_count": 0,
      "outputs": []
    },
    {
      "cell_type": "code",
      "metadata": {
        "id": "JsayzYl-j_Ey",
        "colab_type": "code",
        "colab": {}
      },
      "source": [
        "df = pd.read_csv('tweets_10min.csv', sep=';')"
      ],
      "execution_count": 0,
      "outputs": []
    },
    {
      "cell_type": "code",
      "metadata": {
        "id": "G9bHwix_j_E3",
        "colab_type": "code",
        "colab": {},
        "outputId": "03daac02-e73d-4997-ef97-c6ebbdaa2d49"
      },
      "source": [
        "df.head(1)"
      ],
      "execution_count": 0,
      "outputs": [
        {
          "output_type": "execute_result",
          "data": {
            "text/html": [
              "<div>\n",
              "<style scoped>\n",
              "    .dataframe tbody tr th:only-of-type {\n",
              "        vertical-align: middle;\n",
              "    }\n",
              "\n",
              "    .dataframe tbody tr th {\n",
              "        vertical-align: top;\n",
              "    }\n",
              "\n",
              "    .dataframe thead th {\n",
              "        text-align: right;\n",
              "    }\n",
              "</style>\n",
              "<table border=\"1\" class=\"dataframe\">\n",
              "  <thead>\n",
              "    <tr style=\"text-align: right;\">\n",
              "      <th></th>\n",
              "      <th>text</th>\n",
              "      <th>created_at</th>\n",
              "      <th>coordinates</th>\n",
              "      <th>retweet_count</th>\n",
              "      <th>favorite_count</th>\n",
              "      <th>screen_name</th>\n",
              "      <th>location</th>\n",
              "      <th>lang</th>\n",
              "      <th>followers_count</th>\n",
              "      <th>geo_enabled</th>\n",
              "      <th>statuses_count</th>\n",
              "      <th>lat</th>\n",
              "      <th>long</th>\n",
              "      <th>hashtags</th>\n",
              "    </tr>\n",
              "  </thead>\n",
              "  <tbody>\n",
              "    <tr>\n",
              "      <th>0</th>\n",
              "      <td>These little python powered babies are making ...</td>\n",
              "      <td>Mon Aug 08 19:00:36 +0000 2016</td>\n",
              "      <td>NaN</td>\n",
              "      <td>0.0</td>\n",
              "      <td>0.0</td>\n",
              "      <td>GelarehMizrahi</td>\n",
              "      <td>New York</td>\n",
              "      <td>en</td>\n",
              "      <td>739.0</td>\n",
              "      <td>False</td>\n",
              "      <td>1052.0</td>\n",
              "      <td>40.730599</td>\n",
              "      <td>-73.986581</td>\n",
              "      <td>NaN</td>\n",
              "    </tr>\n",
              "  </tbody>\n",
              "</table>\n",
              "</div>"
            ],
            "text/plain": [
              "                                                text  \\\n",
              "0  These little python powered babies are making ...   \n",
              "\n",
              "                       created_at coordinates  retweet_count  favorite_count  \\\n",
              "0  Mon Aug 08 19:00:36 +0000 2016         NaN            0.0             0.0   \n",
              "\n",
              "      screen_name   location lang  followers_count  geo_enabled  \\\n",
              "0  GelarehMizrahi  New York    en            739.0        False   \n",
              "\n",
              "   statuses_count        lat       long hashtags  \n",
              "0          1052.0  40.730599 -73.986581      NaN  "
            ]
          },
          "metadata": {
            "tags": []
          },
          "execution_count": 3
        }
      ]
    },
    {
      "cell_type": "code",
      "metadata": {
        "id": "2zQIGvRwj_E-",
        "colab_type": "code",
        "colab": {}
      },
      "source": [
        "df_aux = df[['created_at', 'lat', 'long','location' ,'screen_name', 'text']].copy()"
      ],
      "execution_count": 0,
      "outputs": []
    },
    {
      "cell_type": "code",
      "metadata": {
        "id": "sIgDQ40tj_FD",
        "colab_type": "code",
        "colab": {}
      },
      "source": [
        "df_aux = df_aux.rename(columns={'created_at':'date', 'screen_name':'user', 'long':'lon'})"
      ],
      "execution_count": 0,
      "outputs": []
    },
    {
      "cell_type": "code",
      "metadata": {
        "id": "-iCmYmCTj_FH",
        "colab_type": "code",
        "colab": {},
        "outputId": "974bb631-67e1-4a11-9b8c-1ddffc824a13"
      },
      "source": [
        "df_aux.head(3)"
      ],
      "execution_count": 0,
      "outputs": [
        {
          "output_type": "execute_result",
          "data": {
            "text/html": [
              "<div>\n",
              "<style scoped>\n",
              "    .dataframe tbody tr th:only-of-type {\n",
              "        vertical-align: middle;\n",
              "    }\n",
              "\n",
              "    .dataframe tbody tr th {\n",
              "        vertical-align: top;\n",
              "    }\n",
              "\n",
              "    .dataframe thead th {\n",
              "        text-align: right;\n",
              "    }\n",
              "</style>\n",
              "<table border=\"1\" class=\"dataframe\">\n",
              "  <thead>\n",
              "    <tr style=\"text-align: right;\">\n",
              "      <th></th>\n",
              "      <th>date</th>\n",
              "      <th>lat</th>\n",
              "      <th>lon</th>\n",
              "      <th>location</th>\n",
              "      <th>user</th>\n",
              "      <th>text</th>\n",
              "    </tr>\n",
              "  </thead>\n",
              "  <tbody>\n",
              "    <tr>\n",
              "      <th>0</th>\n",
              "      <td>Mon Aug 08 19:00:36 +0000 2016</td>\n",
              "      <td>40.730599</td>\n",
              "      <td>-73.986581</td>\n",
              "      <td>New York</td>\n",
              "      <td>GelarehMizrahi</td>\n",
              "      <td>These little python powered babies are making ...</td>\n",
              "    </tr>\n",
              "    <tr>\n",
              "      <th>1</th>\n",
              "      <td>Mon Aug 08 19:00:42 +0000 2016</td>\n",
              "      <td>37.336191</td>\n",
              "      <td>-121.890583</td>\n",
              "      <td>San Jose, Ca</td>\n",
              "      <td>b8con</td>\n",
              "      <td>Sponsor: A new way to think about big data ana...</td>\n",
              "    </tr>\n",
              "    <tr>\n",
              "      <th>2</th>\n",
              "      <td>Mon Aug 08 19:00:44 +0000 2016</td>\n",
              "      <td>42.504817</td>\n",
              "      <td>-71.195611</td>\n",
              "      <td>Burlington, MA</td>\n",
              "      <td>efeatherston</td>\n",
              "      <td>@SafeLogic_Walt @bmkatz @bbelding #uturebiz 20...</td>\n",
              "    </tr>\n",
              "  </tbody>\n",
              "</table>\n",
              "</div>"
            ],
            "text/plain": [
              "                             date        lat         lon        location  \\\n",
              "0  Mon Aug 08 19:00:36 +0000 2016  40.730599  -73.986581       New York    \n",
              "1  Mon Aug 08 19:00:42 +0000 2016  37.336191 -121.890583    San Jose, Ca   \n",
              "2  Mon Aug 08 19:00:44 +0000 2016  42.504817  -71.195611  Burlington, MA   \n",
              "\n",
              "             user                                               text  \n",
              "0  GelarehMizrahi  These little python powered babies are making ...  \n",
              "1           b8con  Sponsor: A new way to think about big data ana...  \n",
              "2    efeatherston  @SafeLogic_Walt @bmkatz @bbelding #uturebiz 20...  "
            ]
          },
          "metadata": {
            "tags": []
          },
          "execution_count": 6
        }
      ]
    },
    {
      "cell_type": "markdown",
      "metadata": {
        "id": "zrd02HjHj_FM",
        "colab_type": "text"
      },
      "source": [
        "## Criando o Mapa"
      ]
    },
    {
      "cell_type": "code",
      "metadata": {
        "id": "osi6P-bGj_FO",
        "colab_type": "code",
        "colab": {}
      },
      "source": [
        "from bokeh.io import output_file, show, output_notebook"
      ],
      "execution_count": 0,
      "outputs": []
    },
    {
      "cell_type": "code",
      "metadata": {
        "id": "UusKkYmSj_FS",
        "colab_type": "code",
        "colab": {}
      },
      "source": [
        "from bokeh.models import (\n",
        "    GMapPlot, GMapOptions, ColumnDataSource, Circle, Range1d, PanTool, WheelZoomTool, ResetTool\n",
        ")"
      ],
      "execution_count": 0,
      "outputs": []
    },
    {
      "cell_type": "markdown",
      "metadata": {
        "id": "kov1k_xHj_FX",
        "colab_type": "text"
      },
      "source": [
        "### Descrição dos modelos\n",
        "\n",
        "- GMapPlot - É a classe que irá plotar o gráfico Bokeh no Google Maps. Os dados devem ser especificados no formato de coordenadas lat long em decimal (por exemplo: 37.123, -123.404). Esse formato será automaticamente convertido para o marcado web para ser projetado no Google Maps. Parâmetros:\n",
        "    - api_key - Necessário para acessar a API do Google Maps.\n",
        "    - map_options - Define as opções de visualização do gráfico;\n",
        "    \n",
        "- GMapOptions - Opções para o objeto GMapPlot. Parâmetros:\n",
        "    - map_type - Define-se o tipo de mapa utilizado no GMapPlot. As opções podem ser visualizadas na documentação do Google Maps sobre os [MapType](https://developers.google.com/maps/documentation/javascript/reference#MapTypeId).  \n",
        "    \n",
        "- ColumnDataSource - Realiza o mapeamento dos nomes das colunas em uma sequencia ou array. É a estrutura de dados fundamental do Bokeh. Se a ColumnDataSource for inicializado com um único argumento, ele pode ser:\n",
        "    - Um dicionário em Python, que mapeia o nome da string para sequencias de valores: e.g. listas, arryas, etc.\n",
        "    ```python\n",
        "    >>> data = {'x': [1,2,3,4], 'y': np.ndarray([10.0, 20.0, 30.0, 40.0])}\n",
        "    >>> source = ColumnDataSource(data)\n",
        "    ```\n",
        "    - Um DataFrame do Pandas\n",
        "    ```python\n",
        "    source = ColumnDataSource(df)\n",
        "    ```\n",
        "\n",
        "- Circle - Renderiza um marcado no formato circular.\n",
        "\n",
        "- Range1d - É uma classe que irá preencher automaticamente um intervalo contínuo em uma dimensão escalar. Os limites superior e inferior são definidos para o valor mínimo e máximo do dados.\n",
        "\n",
        "\n",
        "São as ferramentas para realizar iterações nos gráficos gerados pelo Bokeh.\n",
        "- PanTool\n",
        "- WheelZoomTool\n",
        "- xSelectTool\n",
        "\n",
        "Para utilizar a API do Google Maps, é necessário gerar uma chave: https://developers.google.com/maps/documentation/javascript/get-api-key"
      ]
    },
    {
      "cell_type": "code",
      "metadata": {
        "id": "zMGqqzkFj_FY",
        "colab_type": "code",
        "colab": {}
      },
      "source": [
        "GOOGLE_API_KEY=\"\""
      ],
      "execution_count": 0,
      "outputs": []
    },
    {
      "cell_type": "markdown",
      "metadata": {
        "id": "K7w27_Mxj_Fe",
        "colab_type": "text"
      },
      "source": [
        "Definindo as opções do Mapa, iremos criar o mapa, com a lat e long com o centro do mundo, definir o tipo de visualização do mapa e o zoom."
      ]
    },
    {
      "cell_type": "code",
      "metadata": {
        "id": "CBiI14jej_Fg",
        "colab_type": "code",
        "colab": {}
      },
      "source": [
        "map_options = GMapOptions(lat=-23.56, lng=-46.70, map_type=\"roadmap\", zoom=3)"
      ],
      "execution_count": 0,
      "outputs": []
    },
    {
      "cell_type": "code",
      "metadata": {
        "id": "y6d0I_zpj_Fk",
        "colab_type": "code",
        "colab": {}
      },
      "source": [
        "plot = GMapPlot(\n",
        "    x_range=Range1d(), y_range=Range1d(), map_options=map_options\n",
        ")"
      ],
      "execution_count": 0,
      "outputs": []
    },
    {
      "cell_type": "code",
      "metadata": {
        "id": "vfufLPOOj_Fo",
        "colab_type": "code",
        "colab": {}
      },
      "source": [
        "plot.title.text = \"Mostrando a região de {} tweets\".format(len(df_aux.index))\n",
        "plot.title.text_font_size=\"20pt\"\n",
        "plot.api_key = GOOGLE_API_KEY"
      ],
      "execution_count": 0,
      "outputs": []
    },
    {
      "cell_type": "code",
      "metadata": {
        "id": "sF4wSW7Sj_Fs",
        "colab_type": "code",
        "colab": {}
      },
      "source": [
        "source = ColumnDataSource(df_aux)"
      ],
      "execution_count": 0,
      "outputs": []
    },
    {
      "cell_type": "code",
      "metadata": {
        "id": "v-NKlG9Rj_Fx",
        "colab_type": "code",
        "colab": {}
      },
      "source": [
        "print(source)"
      ],
      "execution_count": 0,
      "outputs": []
    },
    {
      "cell_type": "code",
      "metadata": {
        "id": "MdVeFlbTj_F3",
        "colab_type": "code",
        "colab": {}
      },
      "source": [
        "circle = Circle(x=\"lon\", y=\"lat\", size=15, fill_color=\"blue\", \n",
        "                fill_alpha=0.8, line_color=None)\n",
        "plot.add_glyph(source, circle)"
      ],
      "execution_count": 0,
      "outputs": []
    },
    {
      "cell_type": "markdown",
      "metadata": {
        "id": "1awMubRmj_F8",
        "colab_type": "text"
      },
      "source": [
        "### Adicionando as informações complementares."
      ]
    },
    {
      "cell_type": "code",
      "metadata": {
        "id": "ewmcguZlj_F-",
        "colab_type": "code",
        "colab": {}
      },
      "source": [
        "from bokeh.models import HoverTool"
      ],
      "execution_count": 0,
      "outputs": []
    },
    {
      "cell_type": "code",
      "metadata": {
        "id": "Eu9bDCY7j_GC",
        "colab_type": "code",
        "colab": {}
      },
      "source": [
        "plot.add_tools(PanTool(), WheelZoomTool(), ResetTool(), HoverTool(tooltips=[(\"user\", \"@user\"),(\"local\", \"@location\")]))"
      ],
      "execution_count": 0,
      "outputs": []
    },
    {
      "cell_type": "code",
      "metadata": {
        "id": "L_XUJM7Lj_GG",
        "colab_type": "code",
        "colab": {}
      },
      "source": [
        "#output_file(\"gmap_plot.html\")\n",
        "output_notebook()"
      ],
      "execution_count": 0,
      "outputs": []
    },
    {
      "cell_type": "code",
      "metadata": {
        "id": "0DqrdTiZj_GJ",
        "colab_type": "code",
        "colab": {}
      },
      "source": [
        "show(plot)"
      ],
      "execution_count": 0,
      "outputs": []
    },
    {
      "cell_type": "markdown",
      "metadata": {
        "collapsed": true,
        "id": "1aHrh0IBj_GN",
        "colab_type": "text"
      },
      "source": [
        "<div class=\"alert alert-block alert-danger\">\n",
        "Atenção: Existe um [problema](https://github.com/bokeh/bokeh/issues/2964) conhecido onde os pontos que aparecem no mapa podem estar ~10px de distância da localização correta."
      ]
    },
    {
      "cell_type": "code",
      "metadata": {
        "id": "QevC77haj_GO",
        "colab_type": "code",
        "colab": {}
      },
      "source": [
        ""
      ],
      "execution_count": 0,
      "outputs": []
    }
  ]
}