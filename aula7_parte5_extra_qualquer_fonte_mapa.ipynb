{
  "nbformat": 4,
  "nbformat_minor": 0,
  "metadata": {
    "kernelspec": {
      "display_name": "Python 3",
      "language": "python",
      "name": "python3"
    },
    "language_info": {
      "codemirror_mode": {
        "name": "ipython",
        "version": 3
      },
      "file_extension": ".py",
      "mimetype": "text/x-python",
      "name": "python",
      "nbconvert_exporter": "python",
      "pygments_lexer": "ipython3",
      "version": "3.6.5"
    },
    "colab": {
      "name": "aula7-parte5-extra-qualquer-fonte-mapa.ipynb",
      "provenance": [],
      "include_colab_link": true
    }
  },
  "cells": [
    {
      "cell_type": "markdown",
      "metadata": {
        "id": "view-in-github",
        "colab_type": "text"
      },
      "source": [
        "<a href=\"https://colab.research.google.com/github/nadjapereira/python-applications/blob/master/aula7_parte5_extra_qualquer_fonte_mapa.ipynb\" target=\"_parent\"><img src=\"https://colab.research.google.com/assets/colab-badge.svg\" alt=\"Open In Colab\"/></a>"
      ]
    },
    {
      "cell_type": "markdown",
      "metadata": {
        "id": "-rp0rW7_kDbo",
        "colab_type": "text"
      },
      "source": [
        "# Visualização de dados Geográficos\n",
        "\n",
        "Podemos criar mapas com diferentes fontes de mapas. Isso é possível através do [TileSource](https://bokeh.pydata.org/en/latest/docs/user_guide/geo.html#tile-providers), em especial WMTSTileSource, que permite que os dados sejam sobrepostos em qualquer servidor, incluindo Google Maps, OpenStreatMap, Stamen, MapQuest, ou algum servidor próprio. \n",
        "\n",
        "Esse notebook apresenta um exemplo da utilização de uma mapa através do OpenStreatMap.\n",
        "\n",
        "## Carregando o conjunto de dados"
      ]
    },
    {
      "cell_type": "code",
      "metadata": {
        "id": "NZ5O5NHwkDbr",
        "colab_type": "code",
        "colab": {}
      },
      "source": [
        "import pandas as pd"
      ],
      "execution_count": 0,
      "outputs": []
    },
    {
      "cell_type": "code",
      "metadata": {
        "id": "1INITE-GkDbz",
        "colab_type": "code",
        "colab": {}
      },
      "source": [
        "df = pd.read_csv('tweets_10min.csv', sep=';')"
      ],
      "execution_count": 0,
      "outputs": []
    },
    {
      "cell_type": "code",
      "metadata": {
        "id": "-UUwMNbwkDb5",
        "colab_type": "code",
        "colab": {}
      },
      "source": [
        "df.head(1)"
      ],
      "execution_count": 0,
      "outputs": []
    },
    {
      "cell_type": "code",
      "metadata": {
        "id": "_qMmKGxjkDb_",
        "colab_type": "code",
        "colab": {}
      },
      "source": [
        "df_aux = df[['created_at', 'lat', 'long','location' ,'screen_name', 'text']].copy()"
      ],
      "execution_count": 0,
      "outputs": []
    },
    {
      "cell_type": "code",
      "metadata": {
        "id": "BJ68aa--kDcE",
        "colab_type": "code",
        "colab": {}
      },
      "source": [
        "df_aux = df_aux.rename(columns={'created_at':'date', 'screen_name':'user', 'long':'lon'})"
      ],
      "execution_count": 0,
      "outputs": []
    },
    {
      "cell_type": "code",
      "metadata": {
        "id": "jVycnPURkDcI",
        "colab_type": "code",
        "colab": {}
      },
      "source": [
        "df_aux.head(3)"
      ],
      "execution_count": 0,
      "outputs": []
    },
    {
      "cell_type": "markdown",
      "metadata": {
        "id": "hUHkHGaLkDcO",
        "colab_type": "text"
      },
      "source": [
        "## Criando o Mapa\n",
        "\n",
        "Primeiro iremos utilizar o padrão mais comum na web, o WTMS (Web Map Tile Service). A ideia principal é que após criado o mapa é possível determinar o nível de zoom e as informações relacionadas a uma determinada região irá aparecer.\n",
        "\n",
        "WTMS utiliza o formato de Web Mercator, que mede a distâncias de Greenwich, Inglaterra.\n",
        "\n",
        "Primeiro vamos criar um plot com o mapa mundi."
      ]
    },
    {
      "cell_type": "code",
      "metadata": {
        "id": "raYlJFj7kDcP",
        "colab_type": "code",
        "colab": {}
      },
      "source": [
        "from bokeh.io import output_notebook, show"
      ],
      "execution_count": 0,
      "outputs": []
    },
    {
      "cell_type": "code",
      "metadata": {
        "id": "6L00BoVYkDcU",
        "colab_type": "code",
        "colab": {}
      },
      "source": [
        "output_notebook()"
      ],
      "execution_count": 0,
      "outputs": []
    },
    {
      "cell_type": "code",
      "metadata": {
        "id": "IkP0LZ2XkDcY",
        "colab_type": "code",
        "colab": {}
      },
      "source": [
        "from bokeh.plotting import figure\n",
        "from bokeh.tile_providers import CARTODBPOSITRON"
      ],
      "execution_count": 0,
      "outputs": []
    },
    {
      "cell_type": "code",
      "metadata": {
        "id": "x0jiNQAFkDcf",
        "colab_type": "code",
        "colab": {}
      },
      "source": [
        "bound=20000000 # metros para ter a visão do mundo todo."
      ],
      "execution_count": 0,
      "outputs": []
    },
    {
      "cell_type": "code",
      "metadata": {
        "id": "N7jEZQMDkDcj",
        "colab_type": "code",
        "colab": {}
      },
      "source": [
        "plot = figure(x_range=(-bound,bound), y_range=(-bound,bound))\n",
        "plot.axis.visible = False"
      ],
      "execution_count": 0,
      "outputs": []
    },
    {
      "cell_type": "code",
      "metadata": {
        "id": "dr5P3gWDkDcn",
        "colab_type": "code",
        "colab": {}
      },
      "source": [
        "plot.title.text = \"Mostrando a região de {} tweets\".format(len(df_aux.index))\n",
        "plot.title.text_font_size=\"20pt\""
      ],
      "execution_count": 0,
      "outputs": []
    },
    {
      "cell_type": "code",
      "metadata": {
        "id": "W9yexEf3kDcr",
        "colab_type": "code",
        "colab": {}
      },
      "source": [
        "plot.add_tile(CARTODBPOSITRON)"
      ],
      "execution_count": 0,
      "outputs": []
    },
    {
      "cell_type": "markdown",
      "metadata": {
        "id": "ux0axHJLkDcv",
        "colab_type": "text"
      },
      "source": [
        "Outros tipos de mapa pode ser visualizado em https://bokeh.pydata.org/en/latest/docs/reference/tile_providers.html"
      ]
    },
    {
      "cell_type": "code",
      "metadata": {
        "id": "FhYiySYmkDcx",
        "colab_type": "code",
        "colab": {}
      },
      "source": [
        "show(plot)"
      ],
      "execution_count": 0,
      "outputs": []
    },
    {
      "cell_type": "markdown",
      "metadata": {
        "id": "We8PkWhEkDc1",
        "colab_type": "text"
      },
      "source": [
        "Ótimo já temos o nosso mapa, agora precisamos adicionar os pontos que queremos. É possível adicionar qualquer coisa utilizando o Bokeh, porém é necessário obter as coordenadas no formato de Web Mercator.\n",
        "\n",
        "Nesse caso temos que aplicar a seguinte função no campo de latitude e longitude para converter de decimal.\n",
        "\n",
        "Essa função foi retirada de: https://goo.gl/sWRnwT"
      ]
    },
    {
      "cell_type": "code",
      "metadata": {
        "id": "pHvTUO8gkDc3",
        "colab_type": "code",
        "colab": {}
      },
      "source": [
        "import numpy as np\n",
        "def converter_web_mercator(df, lon=\"lon\", lat=\"lat\"):\n",
        "    k = 6378137\n",
        "    df[\"x\"] = df[lon] * (k * np.pi/180.0)\n",
        "    df[\"y\"] = np.log(np.tan((90 + df[lat]) * np.pi/360.0)) * k\n",
        "    return df"
      ],
      "execution_count": 0,
      "outputs": []
    },
    {
      "cell_type": "code",
      "metadata": {
        "id": "L8f32XNVkDdD",
        "colab_type": "code",
        "colab": {}
      },
      "source": [
        "df_novo = converter_web_mercator(df_aux)"
      ],
      "execution_count": 0,
      "outputs": []
    },
    {
      "cell_type": "code",
      "metadata": {
        "id": "KHgBOFVQkDdI",
        "colab_type": "code",
        "colab": {}
      },
      "source": [
        "df_novo.tail()"
      ],
      "execution_count": 0,
      "outputs": []
    },
    {
      "cell_type": "code",
      "metadata": {
        "id": "-F7BGAyckDdL",
        "colab_type": "code",
        "colab": {}
      },
      "source": [
        "plot.circle('x', 'y', \n",
        "            fill_color=\"blue\", \n",
        "            line_color=None, \n",
        "            size=10,\n",
        "            source=df_novo)"
      ],
      "execution_count": 0,
      "outputs": []
    },
    {
      "cell_type": "code",
      "metadata": {
        "id": "jQlvEY0ekDdP",
        "colab_type": "code",
        "colab": {}
      },
      "source": [
        "show(plot)"
      ],
      "execution_count": 0,
      "outputs": []
    },
    {
      "cell_type": "markdown",
      "metadata": {
        "id": "5bL1ax1dkDdT",
        "colab_type": "text"
      },
      "source": [
        "### Adicionando as informações complementares.\n",
        "\n",
        "Para isso iremos utilizar a ferramenta chamada HoverTool, que irá gerar uma \"janela de dicas\" com as informações de cada linha que contém o rótulo (user, location, etc). Em nosso caso, é o nome da coluna do DataFrame."
      ]
    },
    {
      "cell_type": "code",
      "metadata": {
        "id": "4pG6JhrVkDdV",
        "colab_type": "code",
        "colab": {}
      },
      "source": [
        "from bokeh.models import HoverTool"
      ],
      "execution_count": 0,
      "outputs": []
    },
    {
      "cell_type": "code",
      "metadata": {
        "id": "goF7J77ikDdZ",
        "colab_type": "code",
        "colab": {}
      },
      "source": [
        "plot.add_tools(HoverTool(tooltips=[(\"user\", \"@user\"),(\"local\", \"@location\")]))"
      ],
      "execution_count": 0,
      "outputs": []
    },
    {
      "cell_type": "code",
      "metadata": {
        "id": "vDpQ8RWLkDde",
        "colab_type": "code",
        "colab": {}
      },
      "source": [
        "show(plot)"
      ],
      "execution_count": 0,
      "outputs": []
    },
    {
      "cell_type": "code",
      "metadata": {
        "id": "2bLeOWoCkDdh",
        "colab_type": "code",
        "colab": {}
      },
      "source": [
        ""
      ],
      "execution_count": 0,
      "outputs": []
    }
  ]
}