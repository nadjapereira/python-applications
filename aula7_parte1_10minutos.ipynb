{
  "nbformat": 4,
  "nbformat_minor": 0,
  "metadata": {
    "kernelspec": {
      "display_name": "Python 3",
      "language": "python",
      "name": "python3"
    },
    "language_info": {
      "codemirror_mode": {
        "name": "ipython",
        "version": 3
      },
      "file_extension": ".py",
      "mimetype": "text/x-python",
      "name": "python",
      "nbconvert_exporter": "python",
      "pygments_lexer": "ipython3",
      "version": "3.6.5"
    },
    "colab": {
      "name": "aula7-parte1-10minutos.ipynb",
      "provenance": [],
      "include_colab_link": true
    }
  },
  "cells": [
    {
      "cell_type": "markdown",
      "metadata": {
        "id": "view-in-github",
        "colab_type": "text"
      },
      "source": [
        "<a href=\"https://colab.research.google.com/github/nadjapereira/python-applications/blob/master/aula7_parte1_10minutos.ipynb\" target=\"_parent\"><img src=\"https://colab.research.google.com/assets/colab-badge.svg\" alt=\"Open In Colab\"/></a>"
      ]
    },
    {
      "cell_type": "markdown",
      "metadata": {
        "id": "Q8R1eMc9j8A-",
        "colab_type": "text"
      },
      "source": [
        "# Parte 1 - 10 minutos com Bokeh\n",
        "\n",
        "## Gráfico de Linhas"
      ]
    },
    {
      "cell_type": "code",
      "metadata": {
        "id": "1qs2igN_j8BD",
        "colab_type": "code",
        "colab": {}
      },
      "source": [
        "from bokeh.io import output_notebook, show"
      ],
      "execution_count": 0,
      "outputs": []
    },
    {
      "cell_type": "code",
      "metadata": {
        "id": "VfzanhzMj8BL",
        "colab_type": "code",
        "colab": {}
      },
      "source": [
        "from bokeh.plotting import figure"
      ],
      "execution_count": 0,
      "outputs": []
    },
    {
      "cell_type": "code",
      "metadata": {
        "id": "BeADYLoej8BX",
        "colab_type": "code",
        "colab": {}
      },
      "source": [
        "output_notebook()"
      ],
      "execution_count": 0,
      "outputs": []
    },
    {
      "cell_type": "markdown",
      "metadata": {
        "id": "Wim2rxW3j8Bf",
        "colab_type": "text"
      },
      "source": [
        "Primeiramente iremos criar um gráfico simples para plotar dados de duas listas (x, y), além disso iremos incluir as ferramentas que permitem ações no gráfico gerado."
      ]
    },
    {
      "cell_type": "code",
      "metadata": {
        "id": "JBPi0Xunj8Bh",
        "colab_type": "code",
        "colab": {}
      },
      "source": [
        "p = figure(\n",
        "    title='Gráfico de Linha',\n",
        "    width = 400,\n",
        "    height = 400,\n",
        "    x_axis_label='Dias',\n",
        "    y_axis_label='Graus',\n",
        ")"
      ],
      "execution_count": 0,
      "outputs": []
    },
    {
      "cell_type": "code",
      "metadata": {
        "id": "H9RRzUG3j8Bp",
        "colab_type": "code",
        "colab": {}
      },
      "source": [
        "dias = [1,2,3,4,5]\n",
        "celsius = [22,18,15,18, 37]"
      ],
      "execution_count": 0,
      "outputs": []
    },
    {
      "cell_type": "code",
      "metadata": {
        "id": "vKh61VPTj8By",
        "colab_type": "code",
        "colab": {}
      },
      "source": [
        "p.line(x=dias, y=celsius,\n",
        "       legend='Celsius',\n",
        "       line_width=2,\n",
        "       line_color=\"green\"\n",
        ")"
      ],
      "execution_count": 0,
      "outputs": []
    },
    {
      "cell_type": "code",
      "metadata": {
        "id": "1MPaXlS2j8B-",
        "colab_type": "code",
        "colab": {}
      },
      "source": [
        "show(p)"
      ],
      "execution_count": 0,
      "outputs": []
    },
    {
      "cell_type": "code",
      "metadata": {
        "id": "md_AZyXRj8CF",
        "colab_type": "code",
        "colab": {}
      },
      "source": [
        "kelvin = []\n",
        "for i in celsius:\n",
        "    kelvin.append(i+273)"
      ],
      "execution_count": 0,
      "outputs": []
    },
    {
      "cell_type": "code",
      "metadata": {
        "id": "AmUY-Sdrj8CM",
        "colab_type": "code",
        "colab": {}
      },
      "source": [
        "p.line(x=dias, y=kelvin, line_width=5)\n",
        "p.triangle(x=dias, y=kelvin,\n",
        "        legend='Kelvin',\n",
        "        size=15\n",
        ")"
      ],
      "execution_count": 0,
      "outputs": []
    },
    {
      "cell_type": "code",
      "metadata": {
        "id": "F9hODd6Uj8CT",
        "colab_type": "code",
        "colab": {}
      },
      "source": [
        "show(p)"
      ],
      "execution_count": 0,
      "outputs": []
    },
    {
      "cell_type": "code",
      "metadata": {
        "id": "TcowfH_Vj8Ca",
        "colab_type": "code",
        "colab": {}
      },
      "source": [
        "fahrenheit = []\n",
        "for i in celsius:\n",
        "    fahrenheit.append((160+(9*i))/5)"
      ],
      "execution_count": 0,
      "outputs": []
    },
    {
      "cell_type": "code",
      "metadata": {
        "id": "OrpKlhTMj8Ch",
        "colab_type": "code",
        "colab": {}
      },
      "source": [
        "print(fahrenheit)"
      ],
      "execution_count": 0,
      "outputs": []
    },
    {
      "cell_type": "code",
      "metadata": {
        "id": "1khv0e9nj8Cm",
        "colab_type": "code",
        "colab": {}
      },
      "source": [
        "p.line(x=dias, y=fahrenheit, line_color='red')\n",
        "p.circle(x=dias, y=fahrenheit,\n",
        "         legend='Fahrenheit',\n",
        "         fill_color='white',\n",
        "         line_color='red',\n",
        "         size=10       \n",
        ")"
      ],
      "execution_count": 0,
      "outputs": []
    },
    {
      "cell_type": "code",
      "metadata": {
        "id": "-HtEHyjkj8Cr",
        "colab_type": "code",
        "colab": {}
      },
      "source": [
        "show(p)"
      ],
      "execution_count": 0,
      "outputs": []
    },
    {
      "cell_type": "code",
      "metadata": {
        "id": "zliHmIRhj8Cz",
        "colab_type": "code",
        "colab": {}
      },
      "source": [
        "p.legend.location = 'center_left'"
      ],
      "execution_count": 0,
      "outputs": []
    },
    {
      "cell_type": "markdown",
      "metadata": {
        "id": "XjiRe_0kj8C9",
        "colab_type": "text"
      },
      "source": [
        "http://bokeh.pydata.org/en/latest/docs/user_guide/styling.html#legends"
      ]
    },
    {
      "cell_type": "code",
      "metadata": {
        "id": "6rt73UNEj8C_",
        "colab_type": "code",
        "colab": {}
      },
      "source": [
        "show(p)"
      ],
      "execution_count": 0,
      "outputs": []
    },
    {
      "cell_type": "code",
      "metadata": {
        "id": "S0oN6OmYj8DF",
        "colab_type": "code",
        "colab": {}
      },
      "source": [
        "p.background_fill_color = 'beige'\n",
        "p.background_fill_alpha = 0.8"
      ],
      "execution_count": 0,
      "outputs": []
    },
    {
      "cell_type": "code",
      "metadata": {
        "id": "EV8A_EWOj8DK",
        "colab_type": "code",
        "colab": {}
      },
      "source": [
        "show(p)"
      ],
      "execution_count": 0,
      "outputs": []
    },
    {
      "cell_type": "markdown",
      "metadata": {
        "id": "pGrP7Vzyj8Df",
        "colab_type": "text"
      },
      "source": [
        "http://bokeh.pydata.org/en/latest/docs/user_guide/styling.html"
      ]
    },
    {
      "cell_type": "markdown",
      "metadata": {
        "id": "GqKn8_Qej8Dg",
        "colab_type": "text"
      },
      "source": [
        "## Gráfico de Dispersão\n",
        "\n",
        "Vamos visualizar alguns exemplos de como utilizar o Bokeh para gerar os gráficos de dispersão."
      ]
    },
    {
      "cell_type": "code",
      "metadata": {
        "id": "jooD3uGTj8Di",
        "colab_type": "code",
        "colab": {}
      },
      "source": [
        "from bokeh.io import output_notebook, show\n",
        "from bokeh.plotting import figure"
      ],
      "execution_count": 0,
      "outputs": []
    },
    {
      "cell_type": "code",
      "metadata": {
        "id": "hmsb10cZj8Dn",
        "colab_type": "code",
        "colab": {}
      },
      "source": [
        "output_notebook()"
      ],
      "execution_count": 0,
      "outputs": []
    },
    {
      "cell_type": "code",
      "metadata": {
        "id": "dzdNpmpvj8Ds",
        "colab_type": "code",
        "colab": {}
      },
      "source": [
        "fig = figure(\n",
        "    title='Gráfico de Dispersão',\n",
        "    width = 400,\n",
        "    height = 400,\n",
        "    tools='box_zoom,reset,save,crosshair'\n",
        ")"
      ],
      "execution_count": 0,
      "outputs": []
    },
    {
      "cell_type": "code",
      "metadata": {
        "id": "iYyimLlUj8Dx",
        "colab_type": "code",
        "colab": {}
      },
      "source": [
        "fig.circle([1, 2, 3, 4, 5], [6, 7, 2, 4, 5], \n",
        "           size=15, # size=[10,15,25,50,10],\n",
        "           line_color=\"navy\", \n",
        "           fill_color=\"orange\", \n",
        "           fill_alpha=0.5)"
      ],
      "execution_count": 0,
      "outputs": []
    },
    {
      "cell_type": "code",
      "metadata": {
        "id": "byw3tFDPj8D0",
        "colab_type": "code",
        "colab": {}
      },
      "source": [
        "show(fig)"
      ],
      "execution_count": 0,
      "outputs": []
    },
    {
      "cell_type": "code",
      "metadata": {
        "id": "ta-gQzFWj8D4",
        "colab_type": "code",
        "colab": {}
      },
      "source": [
        "fig.square([1,2,3],[4,3,3], \n",
        "           size=[10,15,50],\n",
        "           fill_color=\"blue\", \n",
        "           fill_alpha=0.6)"
      ],
      "execution_count": 0,
      "outputs": []
    },
    {
      "cell_type": "code",
      "metadata": {
        "id": "rz2wJdK1j8D8",
        "colab_type": "code",
        "colab": {}
      },
      "source": [
        "show(fig)"
      ],
      "execution_count": 0,
      "outputs": []
    }
  ]
}