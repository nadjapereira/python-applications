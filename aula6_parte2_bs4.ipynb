{
  "nbformat": 4,
  "nbformat_minor": 0,
  "metadata": {
    "kernelspec": {
      "display_name": "Python 3",
      "language": "python",
      "name": "python3"
    },
    "language_info": {
      "codemirror_mode": {
        "name": "ipython",
        "version": 3
      },
      "file_extension": ".py",
      "mimetype": "text/x-python",
      "name": "python",
      "nbconvert_exporter": "python",
      "pygments_lexer": "ipython3",
      "version": "3.6.3"
    },
    "colab": {
      "name": "aula6-parte2-bs4.ipynb",
      "provenance": [],
      "include_colab_link": true
    }
  },
  "cells": [
    {
      "cell_type": "markdown",
      "metadata": {
        "id": "view-in-github",
        "colab_type": "text"
      },
      "source": [
        "<a href=\"https://colab.research.google.com/github/nadjapereira/python-applications/blob/master/aula6_parte2_bs4.ipynb\" target=\"_parent\"><img src=\"https://colab.research.google.com/assets/colab-badge.svg\" alt=\"Open In Colab\"/></a>"
      ]
    },
    {
      "cell_type": "markdown",
      "metadata": {
        "id": "MGElq6Wcifhw",
        "colab_type": "text"
      },
      "source": [
        "# BeautifulSoup\n",
        "\n",
        "Para utilizar esse notebook será necessário instalar o BeautilSoup, abra o terminal ou CMD e digite:\n",
        "\n",
        "```base\n",
        "pip3 install bs4\n",
        "```\n",
        "\n",
        "Utilizando a função desenvolvida no notebook anterior para recuperar HTML de uma URL."
      ]
    },
    {
      "cell_type": "code",
      "metadata": {
        "id": "9iq8HVJqifh4",
        "colab_type": "code",
        "colab": {}
      },
      "source": [
        "import requests\n",
        "from requests.exceptions import ConnectionError"
      ],
      "execution_count": 0,
      "outputs": []
    },
    {
      "cell_type": "code",
      "metadata": {
        "id": "RpoA101WifiD",
        "colab_type": "code",
        "colab": {}
      },
      "source": [
        "def download_html(url, numero_tentativas=2):\n",
        "    print(\"Realizando o download da página:\", url)\n",
        "    try:\n",
        "        req = requests.get(url)\n",
        "        if req.status_code != 200:\n",
        "            if numero_tentativas > 0:\n",
        "                print(\"Não foi possível realizar o download. Erro:\", req.status_code)\n",
        "                print(\"\\nRealizando nova tentativa:\")\n",
        "                return download_html(url, numero_tentativas - 1)\n",
        "            else:\n",
        "                print(\"Número de tentativas excedidas. Erro: {}\".format(req.status_code))\n",
        "                html = None\n",
        "                return html\n",
        "        html = req.text\n",
        "        return html\n",
        "    except ConnectionError as e:\n",
        "        print(\"Erro no download:\", e)\n",
        "        html = None"
      ],
      "execution_count": 0,
      "outputs": []
    },
    {
      "cell_type": "code",
      "metadata": {
        "id": "n_ONFOVdifii",
        "colab_type": "code",
        "colab": {}
      },
      "source": [
        "html = download_html(\"http://pythonscraping.com/pages/page1.html\")"
      ],
      "execution_count": 0,
      "outputs": []
    },
    {
      "cell_type": "code",
      "metadata": {
        "id": "w2kN-VKKifit",
        "colab_type": "code",
        "colab": {}
      },
      "source": [
        "print(html)"
      ],
      "execution_count": 0,
      "outputs": []
    },
    {
      "cell_type": "markdown",
      "metadata": {
        "id": "SCrRUhnRifjI",
        "colab_type": "text"
      },
      "source": [
        "## Analisando HTML\n",
        "\n",
        "Para analisar e processar o HTML que foi recuperado anteriormente, iremos utilizar a biblioteca BeautifulSoup para essa tarefa."
      ]
    },
    {
      "cell_type": "code",
      "metadata": {
        "id": "AQfWcRn-ifjM",
        "colab_type": "code",
        "colab": {}
      },
      "source": [
        "from bs4 import BeautifulSoup"
      ],
      "execution_count": 0,
      "outputs": []
    },
    {
      "cell_type": "code",
      "metadata": {
        "id": "wGEfaO-yifjc",
        "colab_type": "code",
        "colab": {}
      },
      "source": [
        "bs = BeautifulSoup(html, \"html.parser\")"
      ],
      "execution_count": 0,
      "outputs": []
    },
    {
      "cell_type": "code",
      "metadata": {
        "id": "3Vxr2mQmifj9",
        "colab_type": "code",
        "colab": {}
      },
      "source": [
        "print(type(bs))"
      ],
      "execution_count": 0,
      "outputs": []
    },
    {
      "cell_type": "code",
      "metadata": {
        "id": "whFeGLLWifkT",
        "colab_type": "code",
        "colab": {}
      },
      "source": [
        "print(bs)"
      ],
      "execution_count": 0,
      "outputs": []
    },
    {
      "cell_type": "code",
      "metadata": {
        "id": "JsvQoyXXifkn",
        "colab_type": "code",
        "colab": {}
      },
      "source": [
        "print(bs.html)"
      ],
      "execution_count": 0,
      "outputs": []
    },
    {
      "cell_type": "code",
      "metadata": {
        "id": "O8jaiZ7Zifk2",
        "colab_type": "code",
        "colab": {}
      },
      "source": [
        "print(bs.head)"
      ],
      "execution_count": 0,
      "outputs": []
    },
    {
      "cell_type": "code",
      "metadata": {
        "id": "8TGJ-FCeiflB",
        "colab_type": "code",
        "colab": {}
      },
      "source": [
        "print(type(bs.head))"
      ],
      "execution_count": 0,
      "outputs": []
    },
    {
      "cell_type": "code",
      "metadata": {
        "id": "xjnfU4EQiflP",
        "colab_type": "code",
        "colab": {}
      },
      "source": [
        "print(bs.body)"
      ],
      "execution_count": 0,
      "outputs": []
    },
    {
      "cell_type": "code",
      "metadata": {
        "id": "JPkQ4hlpifld",
        "colab_type": "code",
        "colab": {}
      },
      "source": [
        "print(bs.body.h1)"
      ],
      "execution_count": 0,
      "outputs": []
    },
    {
      "cell_type": "code",
      "metadata": {
        "id": "ts9SDZ67iflm",
        "colab_type": "code",
        "colab": {}
      },
      "source": [
        "print(bs.body.h1.text)"
      ],
      "execution_count": 0,
      "outputs": []
    },
    {
      "cell_type": "code",
      "metadata": {
        "id": "ouZU-7kYifly",
        "colab_type": "code",
        "colab": {}
      },
      "source": [
        "print(bs.body.h4)"
      ],
      "execution_count": 0,
      "outputs": []
    },
    {
      "cell_type": "markdown",
      "metadata": {
        "id": "SF0vr-BCifl8",
        "colab_type": "text"
      },
      "source": [
        "**Crie uma função chamada ```recuperar_titulo(url)```, que deverá retornar o título da URL (página) passada por parâmetro. Lembre-se de tratar os erros necessários. Reutilize códigos!**"
      ]
    },
    {
      "cell_type": "code",
      "metadata": {
        "id": "tS2Wq3UvifmA",
        "colab_type": "code",
        "colab": {}
      },
      "source": [
        "import requests"
      ],
      "execution_count": 0,
      "outputs": []
    },
    {
      "cell_type": "code",
      "metadata": {
        "id": "VyXvH7hXifmP",
        "colab_type": "code",
        "colab": {}
      },
      "source": [
        "def recuperar_titulo(url):\n",
        "    html = download_html(url)\n",
        "    if html:\n",
        "        bs = BeautifulSoup(html, \"html.parser\")\n",
        "        if bs.h1 != None:\n",
        "            return bs.h1.text\n",
        "    else:\n",
        "        return None"
      ],
      "execution_count": 0,
      "outputs": []
    },
    {
      "cell_type": "markdown",
      "metadata": {
        "id": "1JMNwU6rifmY",
        "colab_type": "text"
      },
      "source": [
        "#### Teste a função com as seguintes URLs:"
      ]
    },
    {
      "cell_type": "code",
      "metadata": {
        "id": "cf2-QF0eifmb",
        "colab_type": "code",
        "colab": {}
      },
      "source": [
        "recuperar_titulo(\"http://pythonscrapingxxx.com/pages/page1.html\")"
      ],
      "execution_count": 0,
      "outputs": []
    },
    {
      "cell_type": "code",
      "metadata": {
        "id": "kbE5mvHlifmk",
        "colab_type": "code",
        "colab": {}
      },
      "source": [
        "recuperar_titulo(\"http://pythonscraping.com/pages/page12.html\")"
      ],
      "execution_count": 0,
      "outputs": []
    },
    {
      "cell_type": "code",
      "metadata": {
        "id": "G_hvN8w5ifnA",
        "colab_type": "code",
        "colab": {}
      },
      "source": [
        "titulo = recuperar_titulo(\"http://pythonscraping.com/pages/page3.html\")"
      ],
      "execution_count": 0,
      "outputs": []
    },
    {
      "cell_type": "code",
      "metadata": {
        "id": "4_3KJ_jwifnL",
        "colab_type": "code",
        "colab": {}
      },
      "source": [
        "print(titulo)"
      ],
      "execution_count": 0,
      "outputs": []
    },
    {
      "cell_type": "markdown",
      "metadata": {
        "id": "WclXEiNAifnU",
        "colab_type": "text"
      },
      "source": [
        "**Testando as funções em diversas URLs**"
      ]
    },
    {
      "cell_type": "code",
      "metadata": {
        "id": "j5EKUDgTifnW",
        "colab_type": "code",
        "colab": {}
      },
      "source": [
        "urls = [\"http://pythonscraping.com/pages/page1.html\", \n",
        "        \"http://pythonscraping.com/pages/page2.html\", \n",
        "        \"http://pythonscraping.com/pages/page3.html\",\n",
        "        \"http://globo.com\",\n",
        "        \"http://terra.com.br\", \n",
        "        \"https://submarino.com.br\"]"
      ],
      "execution_count": 0,
      "outputs": []
    },
    {
      "cell_type": "code",
      "metadata": {
        "id": "tpcu0qD8ifoc",
        "colab_type": "code",
        "colab": {}
      },
      "source": [
        "for url in urls:\n",
        "    print(recuperar_titulo(url))\n",
        "    print()"
      ],
      "execution_count": 0,
      "outputs": []
    },
    {
      "cell_type": "code",
      "metadata": {
        "id": "bgk2MYi6ifoj",
        "colab_type": "code",
        "colab": {}
      },
      "source": [
        ""
      ],
      "execution_count": 0,
      "outputs": []
    }
  ]
}