{
  "nbformat": 4,
  "nbformat_minor": 0,
  "metadata": {
    "kernelspec": {
      "display_name": "Python 3",
      "language": "python",
      "name": "python3"
    },
    "language_info": {
      "codemirror_mode": {
        "name": "ipython",
        "version": 3
      },
      "file_extension": ".py",
      "mimetype": "text/x-python",
      "name": "python",
      "nbconvert_exporter": "python",
      "pygments_lexer": "ipython3",
      "version": "3.6.3"
    },
    "colab": {
      "name": "aula7-parte6-extra-criando-o-proprio-mapa.ipynb",
      "provenance": [],
      "include_colab_link": true
    }
  },
  "cells": [
    {
      "cell_type": "markdown",
      "metadata": {
        "id": "view-in-github",
        "colab_type": "text"
      },
      "source": [
        "<a href=\"https://colab.research.google.com/github/nadjapereira/python-applications/blob/master/aula7_parte6_extra_criando_o_proprio_mapa.ipynb\" target=\"_parent\"><img src=\"https://colab.research.google.com/assets/colab-badge.svg\" alt=\"Open In Colab\"/></a>"
      ]
    },
    {
      "cell_type": "markdown",
      "metadata": {
        "id": "JOgJocELkFDR",
        "colab_type": "text"
      },
      "source": [
        "# Criando o próprio mapa \n",
        "\n",
        "Primeiro iremos criar um mapa mundi onde iremos utilizar a geolocalização dos tweets que convertemos.\n",
        "\n",
        "Além disso iremos visualizar informações quando passarmos o mouse sobre o ponto.\n",
        "\n",
        "Iremos passar por três passos para construir essa visualização interativa:\n",
        "\n",
        "* Passo 1. Criar um fundo com o mapa do mundo adicionando todas as fronteiras dos paises definidas pela latitude e longitude.\n",
        "* Passo 2. Carregar os tweets que queremos visuailizar com as coordenadas e autor.\n",
        "* Passo 3. Plotar no map as coordenadas dos tweets.\n",
        "* Passo 4. Finalmente, iremos ativar a opção para visualizar as informações.\n",
        "\n"
      ]
    },
    {
      "cell_type": "markdown",
      "metadata": {
        "id": "yMiWUyNYkFDV",
        "colab_type": "text"
      },
      "source": [
        "## Passo 1\n",
        "\n",
        "Iremos criar uma lista chamada ```dados``` que contém todas as fronteiras dos paises com as respectivas latitude e longitude. Com esses dados iremos criar um mapa com todos os paises.\n",
        "\n",
        "O arquivo [```World_Country_Boundaries.csv.gz```](https://github.com/hargup/WIGI-website/blob/master/World_Country_Boundaries.csv.gz) contém esses dados. Segue um exemplo dos dados.\n",
        "\n",
        "```xml\n",
        "\"<MultiGeometry><Polygon><outerBoundaryIs><LinearRing><coordinates>-44.951391,-1.601664 -44.858891,-1.430627 -45.158755,-1.480418 -45.3507,-1.736809 -45.324727,-1.314718 -45.462227,-1.545555 -45.446946,-1.310836 -45.696182,-1.368682 -45.735555,-1.18 -45.861527,-1.259518 -45.9757,-1.0775 -46.046673,-1.210282 -46.259446,-1.177782 -46.191946,-0.9575 \n",
        "...Dados omitidos...\n",
        "-43.477709,-2.382782 -43.448336,-2.537782 -43.928336,-2.548473 -44.198336,-2.868891 -44.338373,-2.7808 -44.033891,-2.413609 -44.356946,-2.526664 -44.423064,-2.934446 -44.786391,-3.2975 -44.582091,-2.566809 -44.360555,-2.341946 -44.450836,-2.146391 -44.654936,-2.323682 -44.489727,-1.986664 -44.695009,-1.817782</coordinates></LinearRing></outerBoundaryIs></Polygon><Polygon><outerBoundaryIs><LinearRing><coordinates>-50.814309,-1.329518 -50.723918,-1.510146 -50.579518,-1.798682 -50.054309,-1.708473 -49.812991,-1.814446 -49.757573,-1.638755 -49.6725,-1.776664 -48.876673,-1.487782 -48.539173,-0.900282 -48.410282,-0.262127 -50.3289,-0.100282 -50.646664,-0.2625 -50.726391,-0.497782 -50.557427,-0.678609 -50.775,-0.644164 -50.796955,-0.971946 -50.569455,-1.101946 -50.781109,-1.151946 -50.790582,-1.202591</coordinates></LinearRing></outerBoundaryIs></Polygon><Polygon><outerBoundaryIs><LinearRing><coordinates>-51.901391,-1.476664 -51.276809,-1.02 -51.198336,-0.530282 -51.5914,-0.724818 -51.609727,-0.733891 -51.6428,-0.818109</coordinates></LinearRing></outerBoundaryIs></Polygon><Polygon><outerBoundaryIs><LinearRing><coordinates>-49.643618,0.210282 -49.703891,0.335 -50.391946,0.189718 -50.349864,0.021809 -49.895018,0</coordinates></LinearRing></outerBoundaryIs></Polygon><Polygon><outerBoundaryIs><LinearRing><coordinates>-50.5625,-0.054164 -50.972782,-0.09 -51.027227,-0.224164 -50.857782,-0.283055</coordinates></LinearRing></outerBoundaryIs></Polygon><Polygon><outerBoundaryIs><LinearRing><coordinates>-49.650982,0.077364 -49.8525,-0.064446 -49.525555,-0.134446 -49.397809,0</coordinates></LinearRing></outerBoundaryIs></Polygon><Polygon><outerBoundaryIs><LinearRing><coordinates>-50.317782,0.308891 -50.377782,0.618336 -50.536391,0.222364 -50.441118,0.171109</coordinates></LinearRing></outerBoundaryIs></Polygon><Polygon><outerBoundaryIs><LinearRing><coordinates>-50.813609,-0.576109 -51.070282,-0.694446 -51.140009,-0.962218</coordinates></LinearRing></outerBoundaryIs></Polygon><Polygon><outerBoundaryIs><LinearRing><coordinates>-50.059864,0.643054 -50.308064,0.506391 -50.254173,0.341945</coordinates></LinearRing></outerBoundaryIs></Polygon><Polygon><outerBoundaryIs><LinearRing><coordinates>-45.321946,-23.726946 -45.447918,-23.9175 -45.243336,-23.967227</coordinates></LinearRing></outerBoundaryIs></Polygon></MultiGeometry>\",BR,Brazil\n",
        "```\n",
        "\n",
        "Primeiro teremos que importar alguns bibliotecas para lidar com esse tipo de dado.\n",
        "\n",
        "O primeiro módulo que iremos importar é o gzip. Esse módulo fornece uma interface simples para comprimir ou descomprimir arquivos.\n",
        "\n",
        "Iremos utilizar o método ```open``` do módulo para abrir o arquivo binário.\n",
        "\n",
        "https://docs.python.org/3/library/gzip.html"
      ]
    },
    {
      "cell_type": "code",
      "metadata": {
        "id": "CWPIfFoekFDY",
        "colab_type": "code",
        "colab": {}
      },
      "source": [
        "import gzip"
      ],
      "execution_count": 0,
      "outputs": []
    },
    {
      "cell_type": "markdown",
      "metadata": {
        "id": "O6wqJjy6kFDh",
        "colab_type": "text"
      },
      "source": [
        "O segundo módulo é o codecs. Esse módulo permite realizar a codificação e decodificação de strings. Lembrando que nosso arquivo está na codificação do UTF-8.\n",
        "\n",
        "https://docs.python.org/3/library/codecs.html\n",
        "\n",
        "Iremos utilizar o método chamado ```iterdecode``` que utilizar um decodificador incremental para decodificar iterativamente a entrada fornecida pelo arquivo.\n",
        "\n",
        "Em conjunto com o decodificador, iremos utilizar a função ```next```, que recuperar o próximo item do arquivo chamando o método especial ```__next__()```. \n",
        "\n",
        "https://docs.python.org/3/library/functions.html?highlight=next#next"
      ]
    },
    {
      "cell_type": "code",
      "metadata": {
        "id": "mlTGX9cokFDk",
        "colab_type": "code",
        "colab": {}
      },
      "source": [
        "import codecs"
      ],
      "execution_count": 0,
      "outputs": []
    },
    {
      "cell_type": "markdown",
      "metadata": {
        "id": "axWORirukFDt",
        "colab_type": "text"
      },
      "source": [
        "O próximo módulo, é o CSV, esse módulo possibilita carregar dados no formato separado por virgula.\n",
        "\n",
        "https://docs.python.org/3/library/csv.html"
      ]
    },
    {
      "cell_type": "code",
      "metadata": {
        "id": "-Bnsb-0HkFDv",
        "colab_type": "code",
        "colab": {}
      },
      "source": [
        "import csv"
      ],
      "execution_count": 0,
      "outputs": []
    },
    {
      "cell_type": "markdown",
      "metadata": {
        "id": "tK3nFlcPkFD2",
        "colab_type": "text"
      },
      "source": [
        "Por fim o último módulo para trabalhar com tags XML, que temos dentro do nosso arquivo para cada país (conforme visto anteriormente).\n",
        "\n",
        "O módulo ```xml.etree.ElementTree``` implementa uma API simples e eficiente para analisar e criar dados XML.\n",
        "\n",
        "Iremos utilizar o método ```fromstring``` para pegar o texto com as tags e passar para o analisador XML.\n",
        "\n",
        "https://docs.python.org/3.5/library/xml.etree.elementtree.html"
      ]
    },
    {
      "cell_type": "code",
      "metadata": {
        "id": "rcP-wiTxkFD5",
        "colab_type": "code",
        "colab": {}
      },
      "source": [
        "import xml.etree.cElementTree as et"
      ],
      "execution_count": 0,
      "outputs": []
    },
    {
      "cell_type": "code",
      "metadata": {
        "id": "2X4zChT_kFEE",
        "colab_type": "code",
        "colab": {}
      },
      "source": [
        "from bokeh.models import ColumnDataSource\n",
        "def gerar_mapa(arquivo):\n",
        "    nan = float('NaN')\n",
        "    data = {}\n",
        "    with gzip.open(arquivo) as f:\n",
        "        decoded = codecs.iterdecode(f, \"utf-8\")\n",
        "        next(decoded)\n",
        "        reader = csv.reader(decoded, delimiter=',', quotechar='\"')\n",
        "        for row in reader:\n",
        "            geometry, code, name = row\n",
        "            xml = et.fromstring(geometry)\n",
        "            lats = []\n",
        "            lons = []\n",
        "            for i, poly in enumerate(xml.findall('.//outerBoundaryIs/LinearRing/coordinates')):\n",
        "                if i > 0:\n",
        "                    lats.append(nan)\n",
        "                    lons.append(nan)\n",
        "                coords = (c.split(',')[:2] for c in poly.text.split())\n",
        "                lat, lon = list(zip(*[(float(lat), float(lon)) for lon, lat in coords]))\n",
        "                lats.extend(lat)\n",
        "                lons.extend(lon)\n",
        "                print(lats)\n",
        "                data[code] = {\n",
        "                    'name' : name,\n",
        "                    'lats' : lats,\n",
        "                    'lons' : lons,\n",
        "                }\n",
        "    \n",
        "    world_countries = data.copy()\n",
        "    countries_source = ColumnDataSource(data= dict(\n",
        "            countries_xs=[world_countries[code]['lons'] for code in world_countries],\n",
        "            countries_ys=[world_countries[code]['lats'] for code in world_countries],\n",
        "            country = [world_countries[code]['name'] for code in world_countries],\n",
        "    ))\n",
        "    \n",
        "    return countries_source"
      ],
      "execution_count": 0,
      "outputs": []
    },
    {
      "cell_type": "code",
      "metadata": {
        "id": "gTKRDJyYkFEM",
        "colab_type": "code",
        "colab": {}
      },
      "source": [
        "origem_paises = gerar_mapa('World_Country_Boundaries.csv.gz')"
      ],
      "execution_count": 0,
      "outputs": []
    },
    {
      "cell_type": "code",
      "metadata": {
        "id": "SxfSiazqkFEQ",
        "colab_type": "code",
        "colab": {}
      },
      "source": [
        "from bokeh.plotting import figure, show, output_notebook"
      ],
      "execution_count": 0,
      "outputs": []
    },
    {
      "cell_type": "code",
      "metadata": {
        "id": "e9nS6yHCkFET",
        "colab_type": "code",
        "colab": {}
      },
      "source": [
        "output_notebook()"
      ],
      "execution_count": 0,
      "outputs": []
    },
    {
      "cell_type": "code",
      "metadata": {
        "id": "3H_XU661kFEa",
        "colab_type": "code",
        "colab": {}
      },
      "source": [
        "p = figure(\n",
        "    plot_width=1000,\n",
        "    plot_height=600,\n",
        "    tools=\"pan,wheel_zoom,box_zoom,reset,hover,save\"\n",
        ")"
      ],
      "execution_count": 0,
      "outputs": []
    },
    {
      "cell_type": "code",
      "metadata": {
        "id": "ReF5aPfIkFEe",
        "colab_type": "code",
        "colab": {}
      },
      "source": [
        "p.patches(xs=\"countries_xs\", ys=\"countries_ys\", source = origem_paises, fill_color=\"#F1EEF6\", fill_alpha=0.3,\n",
        "line_color=\"#999999\", line_width=0.5)"
      ],
      "execution_count": 0,
      "outputs": []
    },
    {
      "cell_type": "code",
      "metadata": {
        "id": "lZNDxjMtkFEh",
        "colab_type": "code",
        "colab": {}
      },
      "source": [
        "show(p)"
      ],
      "execution_count": 0,
      "outputs": []
    },
    {
      "cell_type": "markdown",
      "metadata": {
        "collapsed": true,
        "id": "jDdZNJbdkFEl",
        "colab_type": "text"
      },
      "source": [
        "## Passo 2 - Separando os Tweets"
      ]
    },
    {
      "cell_type": "code",
      "metadata": {
        "id": "f4uV5YYkkFEm",
        "colab_type": "code",
        "colab": {}
      },
      "source": [
        "import pandas as pd"
      ],
      "execution_count": 0,
      "outputs": []
    },
    {
      "cell_type": "code",
      "metadata": {
        "id": "mjPCL5HukFEr",
        "colab_type": "code",
        "colab": {}
      },
      "source": [
        "df = pd.read_csv('tweets_10min.csv', sep=';')"
      ],
      "execution_count": 0,
      "outputs": []
    },
    {
      "cell_type": "code",
      "metadata": {
        "id": "LRYIE91VkFEv",
        "colab_type": "code",
        "colab": {}
      },
      "source": [
        "df.head(1)"
      ],
      "execution_count": 0,
      "outputs": []
    },
    {
      "cell_type": "code",
      "metadata": {
        "id": "ZmPtRSU-kFEz",
        "colab_type": "code",
        "colab": {}
      },
      "source": [
        "df_aux = df[['created_at', 'lat', 'long','location' ,'screen_name', 'text']].copy()"
      ],
      "execution_count": 0,
      "outputs": []
    },
    {
      "cell_type": "code",
      "metadata": {
        "id": "JE5r2zuIkFE4",
        "colab_type": "code",
        "colab": {}
      },
      "source": [
        "df_aux = df_aux.rename(columns={'created_at':'date', 'screen_name':'user'})"
      ],
      "execution_count": 0,
      "outputs": []
    },
    {
      "cell_type": "code",
      "metadata": {
        "id": "a3IG468_kFE8",
        "colab_type": "code",
        "colab": {}
      },
      "source": [
        "df_aux.head(3)"
      ],
      "execution_count": 0,
      "outputs": []
    },
    {
      "cell_type": "markdown",
      "metadata": {
        "id": "j-KsHC9PkFE_",
        "colab_type": "text"
      },
      "source": [
        "## Passo 3 - Adicionando os Tweets no Mapa"
      ]
    },
    {
      "cell_type": "code",
      "metadata": {
        "id": "J6REs4tQkFFA",
        "colab_type": "code",
        "colab": {}
      },
      "source": [
        "tweets_source = ColumnDataSource(df_aux)"
      ],
      "execution_count": 0,
      "outputs": []
    },
    {
      "cell_type": "code",
      "metadata": {
        "id": "WJH5RY4hkFFE",
        "colab_type": "code",
        "colab": {}
      },
      "source": [
        "p.title.text=\"{} tweets\".format(len(df_aux.index))\n",
        "p.title.text_font_size=\"20pt\""
      ],
      "execution_count": 0,
      "outputs": []
    },
    {
      "cell_type": "code",
      "metadata": {
        "id": "zvelE43HkFFJ",
        "colab_type": "code",
        "colab": {}
      },
      "source": [
        "p.scatter(x=\"long\", y=\"lat\", source=tweets_source, fill_color=\"#FF0000\", line_color=\"#FF0000\")"
      ],
      "execution_count": 0,
      "outputs": []
    },
    {
      "cell_type": "code",
      "metadata": {
        "id": "FFFb6iQskFFN",
        "colab_type": "code",
        "colab": {}
      },
      "source": [
        "show(p)"
      ],
      "execution_count": 0,
      "outputs": []
    },
    {
      "cell_type": "markdown",
      "metadata": {
        "id": "9GiqVoCskFFR",
        "colab_type": "text"
      },
      "source": [
        "# Passo 4 - Adicionar as informações complementares"
      ]
    },
    {
      "cell_type": "code",
      "metadata": {
        "id": "Lhkiv5tSkFFS",
        "colab_type": "code",
        "colab": {}
      },
      "source": [
        "from bokeh.models import HoverTool\n",
        "from collections import OrderedDict"
      ],
      "execution_count": 0,
      "outputs": []
    },
    {
      "cell_type": "code",
      "metadata": {
        "id": "DZIHh9GIkFFW",
        "colab_type": "code",
        "colab": {}
      },
      "source": [
        "hover = p.select(dict(type=HoverTool))\n",
        "hover.point_policy = \"follow_mouse\"\n",
        "hover.tooltips = OrderedDict([\n",
        "(\"user\", \"@user\"),\n",
        "(\"local\", \"@location\"),\n",
        "])"
      ],
      "execution_count": 0,
      "outputs": []
    },
    {
      "cell_type": "markdown",
      "metadata": {
        "id": "htv4kCXjkFFa",
        "colab_type": "text"
      },
      "source": [
        "The following code gives an overview of the world map with the red dots representing the locations of the tweets' origins:"
      ]
    },
    {
      "cell_type": "code",
      "metadata": {
        "scrolled": true,
        "id": "T3fOSX1WkFFc",
        "colab_type": "code",
        "colab": {}
      },
      "source": [
        "show(p)"
      ],
      "execution_count": 0,
      "outputs": []
    },
    {
      "cell_type": "code",
      "metadata": {
        "id": "L5ep0blmkFFg",
        "colab_type": "code",
        "colab": {}
      },
      "source": [
        ""
      ],
      "execution_count": 0,
      "outputs": []
    }
  ]
}