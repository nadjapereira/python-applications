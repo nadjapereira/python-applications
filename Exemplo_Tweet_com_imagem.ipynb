{
  "nbformat": 4,
  "nbformat_minor": 0,
  "metadata": {
    "colab": {
      "name": "Exemplo_Tweet_com_imagem.ipynb",
      "provenance": [],
      "include_colab_link": true
    },
    "kernelspec": {
      "display_name": "Python 3",
      "language": "python",
      "name": "python3"
    }
  },
  "cells": [
    {
      "cell_type": "markdown",
      "metadata": {
        "id": "view-in-github",
        "colab_type": "text"
      },
      "source": [
        "<a href=\"https://colab.research.google.com/github/nadjapereira/python-applications/blob/master/Exemplo_Tweet_com_imagem.ipynb\" target=\"_parent\"><img src=\"https://colab.research.google.com/assets/colab-badge.svg\" alt=\"Open In Colab\"/></a>"
      ]
    },
    {
      "cell_type": "markdown",
      "metadata": {
        "id": "OzZVjoob1zhW",
        "colab_type": "text"
      },
      "source": [
        "# Atualizando Status\n",
        "\n",
        "Para utilizar qualquer API do Twitter temos que importar os módulos e definir as chaves e tokens de acesso."
      ]
    },
    {
      "cell_type": "code",
      "metadata": {
        "id": "yr6axdik1zhX",
        "colab_type": "code",
        "colab": {}
      },
      "source": [
        "import tweepy"
      ],
      "execution_count": 0,
      "outputs": []
    },
    {
      "cell_type": "code",
      "metadata": {
        "id": "ybk47IFg1zhb",
        "colab_type": "code",
        "colab": {}
      },
      "source": [
        "consumer_key = '1ZQG1zLaiCK2Mpjg3yylBqoeg'\n",
        "consumer_secret = 'YXFqFy4kIXyq5mZ4aXV9wFZ7m85cVzPyJxadoHnBpNNcBKfdfa'\n",
        "access_token = '1008087601893593088-HBpldwAM058tBhQrcjMDZuE8JRKFFp'\n",
        "access_token_secret = 'oCFOKRi2b1moh8jU8i4TBMGRPEsluCe7bpL0R28jwaQOw'"
      ],
      "execution_count": 0,
      "outputs": []
    },
    {
      "cell_type": "markdown",
      "metadata": {
        "id": "jJLyK6aY1zhd",
        "colab_type": "text"
      },
      "source": [
        "Com as chaves e tokens de acesso, iremos criar a autenticação e definir o token de acesso."
      ]
    },
    {
      "cell_type": "code",
      "metadata": {
        "id": "SPVvAyFz1zhe",
        "colab_type": "code",
        "colab": {}
      },
      "source": [
        "autorizar = tweepy.OAuthHandler(consumer_key, consumer_secret)\n",
        "autorizar.set_access_token(access_token, access_token_secret)"
      ],
      "execution_count": 0,
      "outputs": []
    },
    {
      "cell_type": "markdown",
      "metadata": {
        "id": "UEfpyo4O1zhg",
        "colab_type": "text"
      },
      "source": [
        "Com a autorização criada, vamos passar as credenciais de acesso para a API do Tweepy. Desta forma, teremos acesso aos métodos disponíveis na API."
      ]
    },
    {
      "cell_type": "code",
      "metadata": {
        "id": "-WycsbJH1zhg",
        "colab_type": "code",
        "colab": {}
      },
      "source": [
        "api = tweepy.API(autorizar)"
      ],
      "execution_count": 0,
      "outputs": []
    },
    {
      "cell_type": "markdown",
      "metadata": {
        "id": "28iN-hYJ1zhj",
        "colab_type": "text"
      },
      "source": [
        "Exemplo de publicação de tweet com um GIF obtido na internet:"
      ]
    },
    {
      "cell_type": "code",
      "metadata": {
        "id": "Vc6XiKXJ1zhj",
        "colab_type": "code",
        "colab": {}
      },
      "source": [
        "import requests\n",
        "import os\n",
        "\n",
        "def tweet_image(url, message):\n",
        "    #api = twitter_api()\n",
        "    filename = 'temp.jpg'\n",
        "    request = requests.get(url, stream=True)\n",
        "    if request.status_code == 200:\n",
        "        with open(filename, 'wb') as image:\n",
        "            for chunk in request:\n",
        "                image.write(chunk)\n",
        "\n",
        "        api.update_with_media(filename, status=message)\n",
        "        os.remove(filename)\n",
        "    else:\n",
        "        print(\"Unable to download image\")\n",
        "\n",
        "\n",
        "url = \"https://media1.tenor.com/images/8dd2f5811711a610e6ad24a7d36ac79d/tenor.gif?itemid=7320811\"\n",
        "message = \"Nice one\"\n",
        "tweet_image(url, message)"
      ],
      "execution_count": 0,
      "outputs": []
    }
  ]
}