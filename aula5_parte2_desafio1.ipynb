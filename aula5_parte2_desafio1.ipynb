{
  "nbformat": 4,
  "nbformat_minor": 0,
  "metadata": {
    "kernelspec": {
      "display_name": "Python 3",
      "language": "python",
      "name": "python3"
    },
    "language_info": {
      "codemirror_mode": {
        "name": "ipython",
        "version": 3
      },
      "file_extension": ".py",
      "mimetype": "text/x-python",
      "name": "python",
      "nbconvert_exporter": "python",
      "pygments_lexer": "ipython3",
      "version": "3.6.3"
    },
    "colab": {
      "name": "aula5-parte2-desafio1.ipynb",
      "provenance": [],
      "include_colab_link": true
    }
  },
  "cells": [
    {
      "cell_type": "markdown",
      "metadata": {
        "id": "view-in-github",
        "colab_type": "text"
      },
      "source": [
        "<a href=\"https://colab.research.google.com/github/nadjapereira/python-applications/blob/master/aula5_parte2_desafio1.ipynb\" target=\"_parent\"><img src=\"https://colab.research.google.com/assets/colab-badge.svg\" alt=\"Open In Colab\"/></a>"
      ]
    },
    {
      "cell_type": "markdown",
      "metadata": {
        "collapsed": true,
        "id": "J9ZC4YJHN0Xr",
        "colab_type": "text"
      },
      "source": [
        "# Desafio 1\n",
        "\n",
        "\n",
        "## 1. Entender a API de Streaming do Twitter\n",
        "\n",
        "Ver slides 14 até 21.\n",
        "\n",
        "Da mesma forma que fizemos na API REST do Twitter, temos que salvar as chaves de acesso, bem como definir o objeto OAuthHandler para cuidar da autenticação e validação do acesso."
      ]
    },
    {
      "cell_type": "code",
      "metadata": {
        "collapsed": true,
        "id": "mzrCR4vRN0Xy",
        "colab_type": "code",
        "colab": {}
      },
      "source": [
        "import tweepy"
      ],
      "execution_count": 0,
      "outputs": []
    },
    {
      "cell_type": "code",
      "metadata": {
        "collapsed": true,
        "id": "Mwb-8ZYYN0X9",
        "colab_type": "code",
        "colab": {}
      },
      "source": [
        "consumer_key = ''\n",
        "consumer_secret = ''\n",
        "access_token = ''\n",
        "access_token_secret = ''"
      ],
      "execution_count": 0,
      "outputs": []
    },
    {
      "cell_type": "code",
      "metadata": {
        "collapsed": true,
        "id": "Ze_82Bp_N0YT",
        "colab_type": "code",
        "colab": {}
      },
      "source": [
        "autorizar = tweepy.OAuthHandler(consumer_key, consumer_secret)\n",
        "autorizar.set_access_token(access_token, access_token_secret)"
      ],
      "execution_count": 0,
      "outputs": []
    },
    {
      "cell_type": "markdown",
      "metadata": {
        "id": "FZc60gmpN0Yn",
        "colab_type": "text"
      },
      "source": [
        "## 2 .Criar uma classe herdando os atributos da classe StreamListener"
      ]
    },
    {
      "cell_type": "code",
      "metadata": {
        "id": "ojOkmeY8N0Yq",
        "colab_type": "code",
        "colab": {}
      },
      "source": [
        "tweepy.StreamListener.on_status"
      ],
      "execution_count": 0,
      "outputs": []
    },
    {
      "cell_type": "code",
      "metadata": {
        "collapsed": true,
        "id": "R_m-KIqlN0Y6",
        "colab_type": "code",
        "colab": {}
      },
      "source": [
        "class DadosPublicosTwitter(tweepy.StreamListener):\n",
        "    def on_status(self, dados):\n",
        "        print(\"---> \", dados.text)"
      ],
      "execution_count": 0,
      "outputs": []
    },
    {
      "cell_type": "markdown",
      "metadata": {
        "id": "rjfVdxxqN0ZN",
        "colab_type": "text"
      },
      "source": [
        "## 3. Instanciar essa classe e utilizá-la para se conectar a API através de um objeto de Stream."
      ]
    },
    {
      "cell_type": "code",
      "metadata": {
        "collapsed": true,
        "id": "735kXgpLN0ZX",
        "colab_type": "code",
        "colab": {}
      },
      "source": [
        "dados_twitter = DadosPublicosTwitter()"
      ],
      "execution_count": 0,
      "outputs": []
    },
    {
      "cell_type": "code",
      "metadata": {
        "collapsed": true,
        "id": "rq5oRFIYN0Zj",
        "colab_type": "code",
        "colab": {}
      },
      "source": [
        "fluxo = tweepy.Stream(autorizar, dados_twitter)"
      ],
      "execution_count": 0,
      "outputs": []
    },
    {
      "cell_type": "markdown",
      "metadata": {
        "id": "kIYK9FyuN0Z7",
        "colab_type": "text"
      },
      "source": [
        "## 4. Iniciar um fluxo (Stream)\n",
        "\n",
        "O parâmetro track aceita uma lista como argumento e cada elemento da lista é um termo que será filtrado.\n",
        "\n",
        "Para parar a execução do código será necessário clicar em **Kernel -> Interrupt** ou no botão de parar, representado por um quadrado.\n",
        "\n",
        "**<span style=\"color:red;\">Um erro será gerado:</span>** Provavelmente o ```KeyboardInterrupt```."
      ]
    },
    {
      "cell_type": "code",
      "metadata": {
        "collapsed": true,
        "id": "SJa5kwRgN0aE",
        "colab_type": "code",
        "colab": {}
      },
      "source": [
        "#fluxo.filter(track=['Big Data'])"
      ],
      "execution_count": 0,
      "outputs": []
    },
    {
      "cell_type": "markdown",
      "metadata": {
        "collapsed": true,
        "id": "XEnHqC3LN0aw",
        "colab_type": "text"
      },
      "source": [
        "## Exercício\n",
        "\n",
        "Modifique o código do item ```4. Iniciar um fluxo (Stream)``` para tratar o erro que apareceu quando interrompemos a execução do código: ```KeyboardInterrupt```.\n",
        "\n",
        "Lembre-se antes de rodar esse exercício de reiniciar a execução desse notebook. (Kernel -> Restart)."
      ]
    },
    {
      "cell_type": "code",
      "metadata": {
        "id": "TN2Z3ZnON0a7",
        "colab_type": "code",
        "colab": {}
      },
      "source": [
        ""
      ],
      "execution_count": 0,
      "outputs": []
    },
    {
      "cell_type": "code",
      "metadata": {
        "collapsed": true,
        "id": "vKMp1QD6N0bF",
        "colab_type": "code",
        "colab": {}
      },
      "source": [
        ""
      ],
      "execution_count": 0,
      "outputs": []
    }
  ]
}