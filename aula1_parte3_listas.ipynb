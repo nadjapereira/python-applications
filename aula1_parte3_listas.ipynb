{
  "nbformat": 4,
  "nbformat_minor": 0,
  "metadata": {
    "kernelspec": {
      "display_name": "Python 3",
      "language": "python",
      "name": "python3"
    },
    "language_info": {
      "codemirror_mode": {
        "name": "ipython",
        "version": 3
      },
      "file_extension": ".py",
      "mimetype": "text/x-python",
      "name": "python",
      "nbconvert_exporter": "python",
      "pygments_lexer": "ipython3",
      "version": "3.6.2"
    },
    "colab": {
      "name": "aula1-parte3-listas.ipynb",
      "provenance": [],
      "include_colab_link": true
    }
  },
  "cells": [
    {
      "cell_type": "markdown",
      "metadata": {
        "id": "view-in-github",
        "colab_type": "text"
      },
      "source": [
        "<a href=\"https://colab.research.google.com/github/nadjapereira/python-applications/blob/master/aula1_parte3_listas.ipynb\" target=\"_parent\"><img src=\"https://colab.research.google.com/assets/colab-badge.svg\" alt=\"Open In Colab\"/></a>"
      ]
    },
    {
      "cell_type": "markdown",
      "metadata": {
        "id": "tUFs1s2KJQcd",
        "colab_type": "text"
      },
      "source": [
        "# Listas\n",
        "\n",
        "* Conjunto linear de valores indexados por um número inteiro:\n",
        "    * Índices são iniciados em zero\n",
        "    * Tipos mistos\n",
        "    * E até outras listas"
      ]
    },
    {
      "cell_type": "code",
      "metadata": {
        "id": "4B7TjFvhJQcf",
        "colab_type": "code",
        "colab": {}
      },
      "source": [
        "numeros = [1,2,3,4,5,6]\n",
        "print(numeros)"
      ],
      "execution_count": 0,
      "outputs": []
    },
    {
      "cell_type": "code",
      "metadata": {
        "id": "awoX_mf3JQck",
        "colab_type": "code",
        "colab": {}
      },
      "source": [
        "letras = list(\"abcd\")\n",
        "print(letras)"
      ],
      "execution_count": 0,
      "outputs": []
    },
    {
      "cell_type": "markdown",
      "metadata": {
        "id": "hNT97NY0JQcn",
        "colab_type": "text"
      },
      "source": [
        "* Listas também suportam operações de concatenação"
      ]
    },
    {
      "cell_type": "code",
      "metadata": {
        "id": "8EGFnKtKJQco",
        "colab_type": "code",
        "colab": {}
      },
      "source": [
        "numeros = numeros + [7,8,9,10]\n",
        "print(numeros)"
      ],
      "execution_count": 0,
      "outputs": []
    },
    {
      "cell_type": "markdown",
      "metadata": {
        "id": "JIIpMPNvJQcr",
        "colab_type": "text"
      },
      "source": [
        "* Por ser do tipo mutável, é possível modificar o seu conteúdo"
      ]
    },
    {
      "cell_type": "code",
      "metadata": {
        "collapsed": true,
        "id": "Rk_fKg3zJQcs",
        "colab_type": "code",
        "colab": {}
      },
      "source": [
        "cubos = [1, 8, 27, 65, 125]"
      ],
      "execution_count": 0,
      "outputs": []
    },
    {
      "cell_type": "code",
      "metadata": {
        "id": "6YdCFt1mJQcv",
        "colab_type": "code",
        "colab": {}
      },
      "source": [
        "print(cubos[3])"
      ],
      "execution_count": 0,
      "outputs": []
    },
    {
      "cell_type": "code",
      "metadata": {
        "id": "kE5pdrcYJQcy",
        "colab_type": "code",
        "colab": {}
      },
      "source": [
        "cubos[3] = 64\n",
        "print(cubos)"
      ],
      "execution_count": 0,
      "outputs": []
    },
    {
      "cell_type": "markdown",
      "metadata": {
        "id": "Z5qTm2OpJQc1",
        "colab_type": "text"
      },
      "source": [
        "* Também é possível utilizar o método append() para adicionar valores"
      ]
    },
    {
      "cell_type": "code",
      "metadata": {
        "collapsed": true,
        "id": "liDTDSEjJQc1",
        "colab_type": "code",
        "colab": {}
      },
      "source": [
        "cubos.append(216) # cubo de 6"
      ],
      "execution_count": 0,
      "outputs": []
    },
    {
      "cell_type": "code",
      "metadata": {
        "collapsed": true,
        "id": "b5kRFMSZJQc4",
        "colab_type": "code",
        "colab": {}
      },
      "source": [
        "cubos.append(7 ** 3) # cubo de 7"
      ],
      "execution_count": 0,
      "outputs": []
    },
    {
      "cell_type": "code",
      "metadata": {
        "id": "DiKqAFqxJQc6",
        "colab_type": "code",
        "colab": {}
      },
      "source": [
        "print(cubos)"
      ],
      "execution_count": 0,
      "outputs": []
    },
    {
      "cell_type": "markdown",
      "metadata": {
        "id": "FdvrSOhLJQc8",
        "colab_type": "text"
      },
      "source": [
        "* Podemos contar quantos elementos tem na lista utilizando o método len()"
      ]
    },
    {
      "cell_type": "code",
      "metadata": {
        "id": "SmhCIEmVJQc9",
        "colab_type": "code",
        "colab": {}
      },
      "source": [
        "print(len(cubos))"
      ],
      "execution_count": 0,
      "outputs": []
    },
    {
      "cell_type": "markdown",
      "metadata": {
        "id": "WaAYeCwPJQc_",
        "colab_type": "text"
      },
      "source": [
        "## É possível criar lista com diversos tipos\n",
        "\n",
        "Podemos criar listas com números, strings e outras listas."
      ]
    },
    {
      "cell_type": "code",
      "metadata": {
        "collapsed": true,
        "id": "Bv05fxWoJQdA",
        "colab_type": "code",
        "colab": {}
      },
      "source": [
        "num = [1, 2, 3]\n",
        "prod = ['Ipad','S7', 'Notebook', 'Tablet']"
      ],
      "execution_count": 0,
      "outputs": []
    },
    {
      "cell_type": "code",
      "metadata": {
        "collapsed": true,
        "id": "qk_d8aOxJQdC",
        "colab_type": "code",
        "colab": {}
      },
      "source": [
        "lst = [num, prod]"
      ],
      "execution_count": 0,
      "outputs": []
    },
    {
      "cell_type": "code",
      "metadata": {
        "id": "g8EQT3apJQdE",
        "colab_type": "code",
        "colab": {}
      },
      "source": [
        "print(lst)"
      ],
      "execution_count": 0,
      "outputs": []
    },
    {
      "cell_type": "code",
      "metadata": {
        "id": "omnCaKk8JQdH",
        "colab_type": "code",
        "colab": {}
      },
      "source": [
        "print(lst[0])"
      ],
      "execution_count": 0,
      "outputs": []
    },
    {
      "cell_type": "code",
      "metadata": {
        "id": "Ez4E2q0TJQdJ",
        "colab_type": "code",
        "colab": {}
      },
      "source": [
        "print(lst[1])"
      ],
      "execution_count": 0,
      "outputs": []
    },
    {
      "cell_type": "code",
      "metadata": {
        "id": "c7wgx_4lJQdL",
        "colab_type": "code",
        "colab": {}
      },
      "source": [
        "print(lst[1][0])"
      ],
      "execution_count": 0,
      "outputs": []
    },
    {
      "cell_type": "markdown",
      "metadata": {
        "id": "Xq7ZamotJQdN",
        "colab_type": "text"
      },
      "source": [
        "## Métodos do tipo lista\n",
        "\n",
        "Como no Python, tudo é um objeto, uma lista possui um conjunto de operações próprias que permitem manipular os valores da lista. Isso é chamado de método.\n"
      ]
    },
    {
      "cell_type": "code",
      "metadata": {
        "collapsed": true,
        "id": "uwcILAjJJQdN",
        "colab_type": "code",
        "colab": {}
      },
      "source": [
        "n = ['c','a', 'b']\n",
        "n.sort()"
      ],
      "execution_count": 0,
      "outputs": []
    },
    {
      "cell_type": "code",
      "metadata": {
        "id": "T6Rdxu6rJQdP",
        "colab_type": "code",
        "colab": {}
      },
      "source": [
        "print(n)"
      ],
      "execution_count": 0,
      "outputs": []
    },
    {
      "cell_type": "code",
      "metadata": {
        "id": "YVR_WByvJQdS",
        "colab_type": "code",
        "colab": {}
      },
      "source": [
        "print(dir(n))"
      ],
      "execution_count": 0,
      "outputs": []
    },
    {
      "cell_type": "markdown",
      "metadata": {
        "id": "TsWYAndZJQdU",
        "colab_type": "text"
      },
      "source": [
        "## Alguns métodos\n",
        "\n",
        "Alguns métodos listados abaixo. Acesse a lista completa em https://docs.python.org/3/tutorial/datastructures.html#more-on-lists\n",
        "\n",
        "\n",
        "Método | Descrição\n",
        "---- | ----\n",
        "```list.append(x)``` | Adiciona um item ao fim da lista; equivalente a a[len(a):] = [x]\n",
        "```list.extend(L)``` | Prolonga a lista, adicionando no fim todos os elementos da lista L passada como argumento; equivalente a a[len(a):] = L\n",
        "```list.insert(i, x)``` | Insere um item em uma posição especificada\n",
        "```list.remove(x)``` | Remove o primeiro item encontrado na lista cujo valor é igual a x\n",
        "```list.pop([i])``` | Remove o item na posição dada e o devolve.\n",
        "```list.index(x)``` | Devolve o índice do primeiro item cujo valor é igual a x, gerando ValueError se este valor não existe\n",
        "```list.count(x)``` | Devolve o número de vezes que o valor x aparece na lista\n",
        "```list.sort()``` | Ordena os itens na própria lista\n",
        "```list.reverse()``` | Inverte a ordem dos elementos na lista\n"
      ]
    },
    {
      "cell_type": "code",
      "metadata": {
        "id": "NdkiefPSJQdV",
        "colab_type": "code",
        "colab": {}
      },
      "source": [
        "print(n)"
      ],
      "execution_count": 0,
      "outputs": []
    },
    {
      "cell_type": "code",
      "metadata": {
        "id": "DwfJx6XiJQdW",
        "colab_type": "code",
        "colab": {}
      },
      "source": [
        "n.append('d')\n",
        "print(n)"
      ],
      "execution_count": 0,
      "outputs": []
    },
    {
      "cell_type": "code",
      "metadata": {
        "collapsed": true,
        "id": "dmWD9WrUJQdY",
        "colab_type": "code",
        "colab": {}
      },
      "source": [
        "lista2 = ['e', 'f', 'a']\n",
        "n.extend(lista2)"
      ],
      "execution_count": 0,
      "outputs": []
    },
    {
      "cell_type": "code",
      "metadata": {
        "id": "jGFTDOsEJQda",
        "colab_type": "code",
        "colab": {}
      },
      "source": [
        "print(n)"
      ],
      "execution_count": 0,
      "outputs": []
    },
    {
      "cell_type": "code",
      "metadata": {
        "collapsed": true,
        "id": "O6LxXk_JJQdc",
        "colab_type": "code",
        "colab": {}
      },
      "source": [
        "n.remove('f')"
      ],
      "execution_count": 0,
      "outputs": []
    },
    {
      "cell_type": "code",
      "metadata": {
        "id": "6Wg8NnhWJQde",
        "colab_type": "code",
        "colab": {}
      },
      "source": [
        "print(n)"
      ],
      "execution_count": 0,
      "outputs": []
    },
    {
      "cell_type": "code",
      "metadata": {
        "collapsed": true,
        "id": "sR9PoE3JJQdg",
        "colab_type": "code",
        "colab": {}
      },
      "source": [
        "item = n.pop(4)"
      ],
      "execution_count": 0,
      "outputs": []
    },
    {
      "cell_type": "code",
      "metadata": {
        "id": "t__0ZR-gJQdj",
        "colab_type": "code",
        "colab": {}
      },
      "source": [
        "print(item)\n",
        "print(n)"
      ],
      "execution_count": 0,
      "outputs": []
    },
    {
      "cell_type": "code",
      "metadata": {
        "id": "yXA_lUCEJQdl",
        "colab_type": "code",
        "colab": {}
      },
      "source": [
        "n.index('d')"
      ],
      "execution_count": 0,
      "outputs": []
    },
    {
      "cell_type": "code",
      "metadata": {
        "id": "lsfwdT-nJQdn",
        "colab_type": "code",
        "colab": {}
      },
      "source": [
        "n.count('a')"
      ],
      "execution_count": 0,
      "outputs": []
    },
    {
      "cell_type": "markdown",
      "metadata": {
        "id": "JgDquoxbJQdp",
        "colab_type": "text"
      },
      "source": [
        "## Exercícios"
      ]
    },
    {
      "cell_type": "markdown",
      "metadata": {
        "id": "nQWTjrk4JQdp",
        "colab_type": "text"
      },
      "source": [
        "**Exercício 1** - Crie uma lista chamada ```num``` com números de 1 a 5. Crie uma segunda lista chamada ```cores``` com 5 cores diferentes. Junte as duas listas em uma terceira lista chamada ```total``` e imprima cada uma das três listas utilizando a lista chamada ```total```.\n"
      ]
    },
    {
      "cell_type": "code",
      "metadata": {
        "collapsed": true,
        "id": "M2LxA2xFJQdq",
        "colab_type": "code",
        "colab": {}
      },
      "source": [
        ""
      ],
      "execution_count": 0,
      "outputs": []
    },
    {
      "cell_type": "code",
      "metadata": {
        "collapsed": true,
        "id": "Z-8JVSHcJQds",
        "colab_type": "code",
        "colab": {}
      },
      "source": [
        ""
      ],
      "execution_count": 0,
      "outputs": []
    },
    {
      "cell_type": "code",
      "metadata": {
        "collapsed": true,
        "id": "QCmWTnHbJQdx",
        "colab_type": "code",
        "colab": {}
      },
      "source": [
        ""
      ],
      "execution_count": 0,
      "outputs": []
    },
    {
      "cell_type": "code",
      "metadata": {
        "id": "bK0zVQ41JQd0",
        "colab_type": "code",
        "colab": {}
      },
      "source": [
        ""
      ],
      "execution_count": 0,
      "outputs": []
    },
    {
      "cell_type": "markdown",
      "metadata": {
        "id": "TV9QCfiFJQd2",
        "colab_type": "text"
      },
      "source": [
        "**Exercício 2** - Crie uma lista e adicione o seu nome e sobrenome. Agora crie uma string e utilize os placeholders para imprimir seu nome completo. A mensagem deve estar no seguinte formato: \"Olá, Dino Magri!\""
      ]
    },
    {
      "cell_type": "code",
      "metadata": {
        "collapsed": true,
        "id": "PseYKxIQJQd2",
        "colab_type": "code",
        "colab": {}
      },
      "source": [
        ""
      ],
      "execution_count": 0,
      "outputs": []
    },
    {
      "cell_type": "code",
      "metadata": {
        "id": "lyZx0QzUJQd3",
        "colab_type": "code",
        "colab": {}
      },
      "source": [
        ""
      ],
      "execution_count": 0,
      "outputs": []
    },
    {
      "cell_type": "code",
      "metadata": {
        "collapsed": true,
        "id": "hU01cN3oJQd5",
        "colab_type": "code",
        "colab": {}
      },
      "source": [
        ""
      ],
      "execution_count": 0,
      "outputs": []
    }
  ]
}