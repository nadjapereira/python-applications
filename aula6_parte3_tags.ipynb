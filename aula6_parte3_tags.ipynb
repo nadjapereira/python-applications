{
  "nbformat": 4,
  "nbformat_minor": 0,
  "metadata": {
    "kernelspec": {
      "display_name": "Python 3",
      "language": "python",
      "name": "python3"
    },
    "language_info": {
      "codemirror_mode": {
        "name": "ipython",
        "version": 3
      },
      "file_extension": ".py",
      "mimetype": "text/x-python",
      "name": "python",
      "nbconvert_exporter": "python",
      "pygments_lexer": "ipython3",
      "version": "3.6.3"
    },
    "colab": {
      "name": "aula6-parte3-tags.ipynb",
      "provenance": [],
      "include_colab_link": true
    }
  },
  "cells": [
    {
      "cell_type": "markdown",
      "metadata": {
        "id": "view-in-github",
        "colab_type": "text"
      },
      "source": [
        "<a href=\"https://colab.research.google.com/github/nadjapereira/python-applications/blob/master/aula6_parte3_tags.ipynb\" target=\"_parent\"><img src=\"https://colab.research.google.com/assets/colab-badge.svg\" alt=\"Open In Colab\"/></a>"
      ]
    },
    {
      "cell_type": "markdown",
      "metadata": {
        "id": "JcvL2aB_iiFD",
        "colab_type": "text"
      },
      "source": [
        "# BeautifulSoup - Tags"
      ]
    },
    {
      "cell_type": "code",
      "metadata": {
        "id": "0SydxmHziiFG",
        "colab_type": "code",
        "colab": {}
      },
      "source": [
        "import requests\n",
        "from bs4 import BeautifulSoup\n",
        "from requests.exceptions import ConnectionError"
      ],
      "execution_count": 0,
      "outputs": []
    },
    {
      "cell_type": "code",
      "metadata": {
        "id": "S1zTWKwQiiFR",
        "colab_type": "code",
        "colab": {}
      },
      "source": [
        "def download_html(url, numero_tentativas=2):\n",
        "    print(\"Realizando o download da página:\", url)\n",
        "    try:\n",
        "        req = requests.get(url)\n",
        "        if req.status_code != 200:\n",
        "            if numero_tentativas > 0:\n",
        "                print(\"Não foi possível realizar o download. Erro:\", req.status_code)\n",
        "                print(\"\\nRealizando nova tentativa:\")\n",
        "                return download_html(url, numero_tentativas - 1)\n",
        "            else:\n",
        "                print(\"Número de tentativas excedidas. Erro: {}\".format(req.status_code))\n",
        "                html = None\n",
        "                return html\n",
        "        html = req.text\n",
        "        return html\n",
        "    except ConnectionError as e:\n",
        "        print(\"Erro no download:\", e)\n",
        "        html = None"
      ],
      "execution_count": 0,
      "outputs": []
    },
    {
      "cell_type": "code",
      "metadata": {
        "id": "RngLEbSNiiFY",
        "colab_type": "code",
        "colab": {},
        "outputId": "539acac5-e44e-4992-8ea1-43dd0344f99d"
      },
      "source": [
        "html = download_html(\"http://pythonscraping.com/pages/page3.html\")"
      ],
      "execution_count": 0,
      "outputs": [
        {
          "output_type": "stream",
          "text": [
            "Realizando o download da página: http://pythonscraping.com/pages/page3.html\n"
          ],
          "name": "stdout"
        }
      ]
    },
    {
      "cell_type": "code",
      "metadata": {
        "id": "dIZOuF9EiiFf",
        "colab_type": "code",
        "colab": {}
      },
      "source": [
        "bs = BeautifulSoup(html, \"html.parser\")"
      ],
      "execution_count": 0,
      "outputs": []
    },
    {
      "cell_type": "code",
      "metadata": {
        "id": "mPkRnfEdiiFk",
        "colab_type": "code",
        "colab": {},
        "outputId": "db7406a0-8525-4b8a-f126-60c97182c2d9"
      },
      "source": [
        "bs.find({\"span\"})"
      ],
      "execution_count": 0,
      "outputs": [
        {
          "output_type": "execute_result",
          "data": {
            "text/plain": [
              "<span class=\"excitingNote\">Now with super-colorful bell peppers!</span>"
            ]
          },
          "metadata": {
            "tags": []
          },
          "execution_count": 5
        }
      ]
    },
    {
      "cell_type": "code",
      "metadata": {
        "id": "hhPaxHx_iiFq",
        "colab_type": "code",
        "colab": {},
        "outputId": "02b18613-52fc-4877-973c-ac3734f80d95"
      },
      "source": [
        "bs.findAll(name={\"span\"})"
      ],
      "execution_count": 0,
      "outputs": [
        {
          "output_type": "execute_result",
          "data": {
            "text/plain": [
              "[<span class=\"excitingNote\">Now with super-colorful bell peppers!</span>,\n",
              " <span class=\"excitingNote\">8 entire dolls per set! Octuple the presents!</span>,\n",
              " <span class=\"excitingNote\">Also hand-painted by trained monkeys!</span>,\n",
              " <span class=\"excitingNote\">Or maybe he's only resting?</span>,\n",
              " <span class=\"excitingNote\">Keep your friends guessing!</span>]"
            ]
          },
          "metadata": {
            "tags": []
          },
          "execution_count": 6
        }
      ]
    },
    {
      "cell_type": "markdown",
      "metadata": {
        "id": "ODj5PtDgiiFy",
        "colab_type": "text"
      },
      "source": [
        "Além do parâmetro ```name``` utilizado anteriormente, é possível utilizar os seguintes parâmetros:\n",
        "- ```attrs={}``` – Caso o nome a ser procurado seja uma palavra reservada do Python, utiliza-se o atributo attrs.\n",
        "- ```recursive``` – Se a recursão for definida como True, a função descerá aos filhos e aos filhos dos filhos procurando tags que coincidam com seus parâmetros.\n",
        "- ```text``` – procurar ocorrências de acordo com o conteúdo de texto das tags.\n",
        "- ```limit``` – é utilizado no findAll e recupera os n primeiros itens da página."
      ]
    },
    {
      "cell_type": "code",
      "metadata": {
        "id": "6dwd-sQKiiFz",
        "colab_type": "code",
        "colab": {},
        "outputId": "d240346a-f601-45c9-fbbf-a70f8b01234a"
      },
      "source": [
        "for item in bs.findAll({\"span\"}):\n",
        "    print(\"-->\", item.text)"
      ],
      "execution_count": 0,
      "outputs": [
        {
          "output_type": "stream",
          "text": [
            "--> Now with super-colorful bell peppers!\n",
            "--> 8 entire dolls per set! Octuple the presents!\n",
            "--> Also hand-painted by trained monkeys!\n",
            "--> Or maybe he's only resting?\n",
            "--> Keep your friends guessing!\n"
          ],
          "name": "stdout"
        }
      ]
    },
    {
      "cell_type": "markdown",
      "metadata": {
        "id": "eS3uTGUeiiF4",
        "colab_type": "text"
      },
      "source": [
        "## Lidando com filhos e outros descendentes\n",
        "\n",
        "Se você o escrevesse usando a função ```descendants()``` em vez da função ```children()```, outras tags seriam encontradas (img, span, entre outros). **É muito importante diferenciar filhos e descendentes!**\n",
        "\n",
        "Para listar as linhas de produtos da tabela ```giftList```, temos que criar um iterador e imprimir todos os filhos de uma tag."
      ]
    },
    {
      "cell_type": "code",
      "metadata": {
        "id": "WNlMMb7xiiF5",
        "colab_type": "code",
        "colab": {},
        "outputId": "8988c44d-3855-4da7-ae59-e3a8c769e4ac"
      },
      "source": [
        "bs.find(\"table\", {\"id\":\"giftList\"}).children"
      ],
      "execution_count": 0,
      "outputs": [
        {
          "output_type": "execute_result",
          "data": {
            "text/plain": [
              "<list_iterator at 0x188d21950b8>"
            ]
          },
          "metadata": {
            "tags": []
          },
          "execution_count": 8
        }
      ]
    },
    {
      "cell_type": "code",
      "metadata": {
        "id": "aKjxbNLniiF_",
        "colab_type": "code",
        "colab": {},
        "outputId": "6054f334-e093-43a5-eecb-08df7963738f"
      },
      "source": [
        "# Recupera todas as linhas, inclusive a linha de titulo\n",
        "for filho in bs.find(\"table\", {\"id\":\"giftList\"}).children:\n",
        "    print(filho)"
      ],
      "execution_count": 0,
      "outputs": [
        {
          "output_type": "stream",
          "text": [
            "\n",
            "\n",
            "<tr><th>\n",
            "Item Title\n",
            "</th><th>\n",
            "Description\n",
            "</th><th>\n",
            "Cost\n",
            "</th><th>\n",
            "Image\n",
            "</th></tr>\n",
            "\n",
            "\n",
            "<tr class=\"gift\" id=\"gift1\"><td>\n",
            "Vegetable Basket\n",
            "</td><td>\n",
            "This vegetable basket is the perfect gift for your health conscious (or overweight) friends!\n",
            "<span class=\"excitingNote\">Now with super-colorful bell peppers!</span>\n",
            "</td><td>\n",
            "$15.00\n",
            "</td><td>\n",
            "<img src=\"../img/gifts/img1.jpg\"/>\n",
            "</td></tr>\n",
            "\n",
            "\n",
            "<tr class=\"gift\" id=\"gift2\"><td>\n",
            "Russian Nesting Dolls\n",
            "</td><td>\n",
            "Hand-painted by trained monkeys, these exquisite dolls are priceless! And by \"priceless,\" we mean \"extremely expensive\"! <span class=\"excitingNote\">8 entire dolls per set! Octuple the presents!</span>\n",
            "</td><td>\n",
            "$10,000.52\n",
            "</td><td>\n",
            "<img src=\"../img/gifts/img2.jpg\"/>\n",
            "</td></tr>\n",
            "\n",
            "\n",
            "<tr class=\"gift\" id=\"gift3\"><td>\n",
            "Fish Painting\n",
            "</td><td>\n",
            "If something seems fishy about this painting, it's because it's a fish! <span class=\"excitingNote\">Also hand-painted by trained monkeys!</span>\n",
            "</td><td>\n",
            "$10,005.00\n",
            "</td><td>\n",
            "<img src=\"../img/gifts/img3.jpg\"/>\n",
            "</td></tr>\n",
            "\n",
            "\n",
            "<tr class=\"gift\" id=\"gift4\"><td>\n",
            "Dead Parrot\n",
            "</td><td>\n",
            "This is an ex-parrot! <span class=\"excitingNote\">Or maybe he's only resting?</span>\n",
            "</td><td>\n",
            "$0.50\n",
            "</td><td>\n",
            "<img src=\"../img/gifts/img4.jpg\"/>\n",
            "</td></tr>\n",
            "\n",
            "\n",
            "<tr class=\"gift\" id=\"gift5\"><td>\n",
            "Mystery Box\n",
            "</td><td>\n",
            "If you love suprises, this mystery box is for you! Do not place on light-colored surfaces. May cause oil staining. <span class=\"excitingNote\">Keep your friends guessing!</span>\n",
            "</td><td>\n",
            "$1.50\n",
            "</td><td>\n",
            "<img src=\"../img/gifts/img6.jpg\"/>\n",
            "</td></tr>\n",
            "\n",
            "\n"
          ],
          "name": "stdout"
        }
      ]
    },
    {
      "cell_type": "markdown",
      "metadata": {
        "id": "sGD-FV13iiGF",
        "colab_type": "text"
      },
      "source": [
        "## Lidando com irmãos\n",
        "Para exibir todas as linhas de produtos da tabela."
      ]
    },
    {
      "cell_type": "code",
      "metadata": {
        "id": "JoTUxFh-iiGH",
        "colab_type": "code",
        "colab": {},
        "outputId": "d558d7c0-f983-471c-8ef8-2ccc8e325860"
      },
      "source": [
        "for irmao in bs.find(\"table\", {\"id\":\"giftList\"}).tr.next_siblings:\n",
        "    print(irmao)"
      ],
      "execution_count": 0,
      "outputs": [
        {
          "output_type": "stream",
          "text": [
            "\n",
            "\n",
            "<tr class=\"gift\" id=\"gift1\"><td>\n",
            "Vegetable Basket\n",
            "</td><td>\n",
            "This vegetable basket is the perfect gift for your health conscious (or overweight) friends!\n",
            "<span class=\"excitingNote\">Now with super-colorful bell peppers!</span>\n",
            "</td><td>\n",
            "$15.00\n",
            "</td><td>\n",
            "<img src=\"../img/gifts/img1.jpg\"/>\n",
            "</td></tr>\n",
            "\n",
            "\n",
            "<tr class=\"gift\" id=\"gift2\"><td>\n",
            "Russian Nesting Dolls\n",
            "</td><td>\n",
            "Hand-painted by trained monkeys, these exquisite dolls are priceless! And by \"priceless,\" we mean \"extremely expensive\"! <span class=\"excitingNote\">8 entire dolls per set! Octuple the presents!</span>\n",
            "</td><td>\n",
            "$10,000.52\n",
            "</td><td>\n",
            "<img src=\"../img/gifts/img2.jpg\"/>\n",
            "</td></tr>\n",
            "\n",
            "\n",
            "<tr class=\"gift\" id=\"gift3\"><td>\n",
            "Fish Painting\n",
            "</td><td>\n",
            "If something seems fishy about this painting, it's because it's a fish! <span class=\"excitingNote\">Also hand-painted by trained monkeys!</span>\n",
            "</td><td>\n",
            "$10,005.00\n",
            "</td><td>\n",
            "<img src=\"../img/gifts/img3.jpg\"/>\n",
            "</td></tr>\n",
            "\n",
            "\n",
            "<tr class=\"gift\" id=\"gift4\"><td>\n",
            "Dead Parrot\n",
            "</td><td>\n",
            "This is an ex-parrot! <span class=\"excitingNote\">Or maybe he's only resting?</span>\n",
            "</td><td>\n",
            "$0.50\n",
            "</td><td>\n",
            "<img src=\"../img/gifts/img4.jpg\"/>\n",
            "</td></tr>\n",
            "\n",
            "\n",
            "<tr class=\"gift\" id=\"gift5\"><td>\n",
            "Mystery Box\n",
            "</td><td>\n",
            "If you love suprises, this mystery box is for you! Do not place on light-colored surfaces. May cause oil staining. <span class=\"excitingNote\">Keep your friends guessing!</span>\n",
            "</td><td>\n",
            "$1.50\n",
            "</td><td>\n",
            "<img src=\"../img/gifts/img6.jpg\"/>\n",
            "</td></tr>\n",
            "\n",
            "\n"
          ],
          "name": "stdout"
        }
      ]
    },
    {
      "cell_type": "markdown",
      "metadata": {
        "id": "TAcZzTEQiiGL",
        "colab_type": "text"
      },
      "source": [
        "### Acessando os elementos e estruturando com o Pandas\n"
      ]
    },
    {
      "cell_type": "code",
      "metadata": {
        "id": "LOA2eX68iiGM",
        "colab_type": "code",
        "colab": {}
      },
      "source": [
        "import pandas as pd"
      ],
      "execution_count": 0,
      "outputs": []
    },
    {
      "cell_type": "code",
      "metadata": {
        "id": "Cj5osnD9iiGR",
        "colab_type": "code",
        "colab": {}
      },
      "source": [
        "aux = []\n",
        "\n",
        "for filho in bs.find(\"table\", {\"id\":\"giftList\"}).children:\n",
        "    aux.append(filho)"
      ],
      "execution_count": 0,
      "outputs": []
    },
    {
      "cell_type": "code",
      "metadata": {
        "id": "AS9CufqYiiGV",
        "colab_type": "code",
        "colab": {}
      },
      "source": [
        "aux_final = []\n",
        "for i in range(1, len(aux), 2):\n",
        "    aux_final.append(aux[i])"
      ],
      "execution_count": 0,
      "outputs": []
    },
    {
      "cell_type": "code",
      "metadata": {
        "id": "lPt8TXaKiiGZ",
        "colab_type": "code",
        "colab": {}
      },
      "source": [
        "colunas = [th.text.replace('\\n', '') for th in aux_final[0].findAll('th')]\n",
        "print(colunas)"
      ],
      "execution_count": 0,
      "outputs": []
    },
    {
      "cell_type": "code",
      "metadata": {
        "id": "y4tsUhIaiiGj",
        "colab_type": "code",
        "colab": {}
      },
      "source": [
        "estrutura = {}\n",
        "# Remove a coluna de Imagem\n",
        "for col in colunas[:-1]:\n",
        "    estrutura[col] = []"
      ],
      "execution_count": 0,
      "outputs": []
    },
    {
      "cell_type": "code",
      "metadata": {
        "id": "MF0cicLXiiGp",
        "colab_type": "code",
        "colab": {}
      },
      "source": [
        "for item in aux_final[1:]:\n",
        "    aux = [td.text.replace('\\n', '') for td in item.findAll('td')]\n",
        "    estrutura['Item Title'].append(aux[0])\n",
        "    estrutura['Description'].append(aux[1])\n",
        "    str_aux = [\"$\", \",\"]\n",
        "    preco = aux[2]\n",
        "    for c in str_aux:\n",
        "        preco = preco.replace(c, '')\n",
        "    estrutura['Cost'].append(float(preco))"
      ],
      "execution_count": 0,
      "outputs": []
    },
    {
      "cell_type": "code",
      "metadata": {
        "id": "sl8uuxP8iiGz",
        "colab_type": "code",
        "colab": {}
      },
      "source": [
        "estrutura"
      ],
      "execution_count": 0,
      "outputs": []
    },
    {
      "cell_type": "code",
      "metadata": {
        "id": "Zm_IYC4AiiG4",
        "colab_type": "code",
        "colab": {}
      },
      "source": [
        "df = pd.DataFrame(estrutura)"
      ],
      "execution_count": 0,
      "outputs": []
    },
    {
      "cell_type": "code",
      "metadata": {
        "id": "zgbcTESLiiG8",
        "colab_type": "code",
        "colab": {}
      },
      "source": [
        "df"
      ],
      "execution_count": 0,
      "outputs": []
    },
    {
      "cell_type": "code",
      "metadata": {
        "id": "2SrUYCQWiiHA",
        "colab_type": "code",
        "colab": {}
      },
      "source": [
        "df.describe()"
      ],
      "execution_count": 0,
      "outputs": []
    }
  ]
}