{
  "nbformat": 4,
  "nbformat_minor": 0,
  "metadata": {
    "kernelspec": {
      "display_name": "Python 3",
      "language": "python",
      "name": "python3"
    },
    "language_info": {
      "codemirror_mode": {
        "name": "ipython",
        "version": 3
      },
      "file_extension": ".py",
      "mimetype": "text/x-python",
      "name": "python",
      "nbconvert_exporter": "python",
      "pygments_lexer": "ipython3",
      "version": "3.6.3"
    },
    "colab": {
      "name": "aula4-parte1-atualizando-status.ipynb",
      "provenance": [],
      "include_colab_link": true
    }
  },
  "cells": [
    {
      "cell_type": "markdown",
      "metadata": {
        "id": "view-in-github",
        "colab_type": "text"
      },
      "source": [
        "<a href=\"https://colab.research.google.com/github/nadjapereira/python-applications/blob/master/aula4_parte1_atualizando_status.ipynb\" target=\"_parent\"><img src=\"https://colab.research.google.com/assets/colab-badge.svg\" alt=\"Open In Colab\"/></a>"
      ]
    },
    {
      "cell_type": "markdown",
      "metadata": {
        "id": "T-qDTmMkLhBU",
        "colab_type": "text"
      },
      "source": [
        "# Atualizando Status\n",
        "\n",
        "Para utilizar qualquer API do Twitter temos que importar os módulos e definir as chaves e tokens de acesso."
      ]
    },
    {
      "cell_type": "code",
      "metadata": {
        "id": "g9wwrxCoLhBa",
        "colab_type": "code",
        "colab": {}
      },
      "source": [
        "import tweepy"
      ],
      "execution_count": 0,
      "outputs": []
    },
    {
      "cell_type": "code",
      "metadata": {
        "id": "EIk7mWyhLhBh",
        "colab_type": "code",
        "colab": {}
      },
      "source": [
        "consumer_key = '1ZQG1zLaiCK2Mpjg3yylBqoeg'\n",
        "consumer_secret = 'YXFqFy4kIXyq5mZ4aXV9wFZ7m85cVzPyJxadoHnBpNNcBKfdfa'\n",
        "access_token = '1008087601893593088-HBpldwAM058tBhQrcjMDZuE8JRKFFp'\n",
        "access_token_secret = 'oCFOKRi2b1moh8jU8i4TBMGRPEsluCe7bpL0R28jwaQOw'"
      ],
      "execution_count": 0,
      "outputs": []
    },
    {
      "cell_type": "markdown",
      "metadata": {
        "id": "0AQalG6ULhBm",
        "colab_type": "text"
      },
      "source": [
        "Com as chaves e tokens de acesso, iremos criar a autenticação e definir o token de acesso."
      ]
    },
    {
      "cell_type": "code",
      "metadata": {
        "id": "d9EsurgpLhBp",
        "colab_type": "code",
        "colab": {}
      },
      "source": [
        "autorizar = tweepy.OAuthHandler(consumer_key, consumer_secret)\n",
        "autorizar.set_access_token(access_token, access_token_secret)"
      ],
      "execution_count": 0,
      "outputs": []
    },
    {
      "cell_type": "markdown",
      "metadata": {
        "id": "xJkyRRw7LhBw",
        "colab_type": "text"
      },
      "source": [
        "Com a autorização criada, vamos passar as credenciais de acesso para a API do Tweepy. Desta forma, teremos acesso aos métodos disponíveis na API."
      ]
    },
    {
      "cell_type": "code",
      "metadata": {
        "id": "4IybphZtLhBy",
        "colab_type": "code",
        "colab": {},
        "outputId": "2090057d-7352-4ca5-9db6-778889f7976c"
      },
      "source": [
        "api = tweepy.API(autorizar)\n",
        "print(api)"
      ],
      "execution_count": 0,
      "outputs": [
        {
          "output_type": "stream",
          "text": [
            "<tweepy.api.API object at 0x000002A963DFC7B8>\n"
          ],
          "name": "stdout"
        }
      ]
    },
    {
      "cell_type": "code",
      "metadata": {
        "id": "0faHSuIpLhB6",
        "colab_type": "code",
        "colab": {},
        "outputId": "c92ff2a1-9ec7-4ef5-b258-86932fafecb7"
      },
      "source": [
        "tweepy.api"
      ],
      "execution_count": 0,
      "outputs": [
        {
          "output_type": "execute_result",
          "data": {
            "text/plain": [
              "<tweepy.api.API at 0x2a963a3e588>"
            ]
          },
          "metadata": {
            "tags": []
          },
          "execution_count": 5
        }
      ]
    },
    {
      "cell_type": "code",
      "metadata": {
        "id": "y0UCFwnkLhCB",
        "colab_type": "code",
        "colab": {},
        "outputId": "3c4412dd-ee0a-4265-ac19-3a6d31f47c53"
      },
      "source": [
        "api.update_status(status=\"Big Data com Python na FIA 2017\")"
      ],
      "execution_count": 0,
      "outputs": [
        {
          "output_type": "execute_result",
          "data": {
            "text/plain": [
              "Status(_api=<tweepy.api.API object at 0x000002A963DFC7B8>, _json={'created_at': 'Sat Aug 04 15:31:08 +0000 2018', 'id': 1025766089668681728, 'id_str': '1025766089668681728', 'text': 'Big Data com Python na FIA 2017', 'truncated': False, 'entities': {'hashtags': [], 'symbols': [], 'user_mentions': [], 'urls': []}, 'source': '<a href=\"http://www.fia.com.br\" rel=\"nofollow\">labfia</a>', 'in_reply_to_status_id': None, 'in_reply_to_status_id_str': None, 'in_reply_to_user_id': None, 'in_reply_to_user_id_str': None, 'in_reply_to_screen_name': None, 'user': {'id': 1008087601893593088, 'id_str': '1008087601893593088', 'name': 'Everton Portela', 'screen_name': 'portela_everton', 'location': '', 'description': '', 'url': None, 'entities': {'description': {'urls': []}}, 'protected': False, 'followers_count': 0, 'friends_count': 1, 'listed_count': 0, 'created_at': 'Sat Jun 16 20:43:08 +0000 2018', 'favourites_count': 0, 'utc_offset': None, 'time_zone': None, 'geo_enabled': False, 'verified': False, 'statuses_count': 1, 'lang': 'en', 'contributors_enabled': False, 'is_translator': False, 'is_translation_enabled': False, 'profile_background_color': 'F5F8FA', 'profile_background_image_url': None, 'profile_background_image_url_https': None, 'profile_background_tile': False, 'profile_image_url': 'http://pbs.twimg.com/profile_images/1025751603935158274/34uqbVBM_normal.jpg', 'profile_image_url_https': 'https://pbs.twimg.com/profile_images/1025751603935158274/34uqbVBM_normal.jpg', 'profile_link_color': '1DA1F2', 'profile_sidebar_border_color': 'C0DEED', 'profile_sidebar_fill_color': 'DDEEF6', 'profile_text_color': '333333', 'profile_use_background_image': True, 'has_extended_profile': False, 'default_profile': True, 'default_profile_image': False, 'following': False, 'follow_request_sent': False, 'notifications': False, 'translator_type': 'none'}, 'geo': None, 'coordinates': None, 'place': None, 'contributors': None, 'is_quote_status': False, 'retweet_count': 0, 'favorite_count': 0, 'favorited': False, 'retweeted': False, 'lang': 'ht'}, created_at=datetime.datetime(2018, 8, 4, 15, 31, 8), id=1025766089668681728, id_str='1025766089668681728', text='Big Data com Python na FIA 2017', truncated=False, entities={'hashtags': [], 'symbols': [], 'user_mentions': [], 'urls': []}, source='labfia', source_url='http://www.fia.com.br', in_reply_to_status_id=None, in_reply_to_status_id_str=None, in_reply_to_user_id=None, in_reply_to_user_id_str=None, in_reply_to_screen_name=None, author=User(_api=<tweepy.api.API object at 0x000002A963DFC7B8>, _json={'id': 1008087601893593088, 'id_str': '1008087601893593088', 'name': 'Everton Portela', 'screen_name': 'portela_everton', 'location': '', 'description': '', 'url': None, 'entities': {'description': {'urls': []}}, 'protected': False, 'followers_count': 0, 'friends_count': 1, 'listed_count': 0, 'created_at': 'Sat Jun 16 20:43:08 +0000 2018', 'favourites_count': 0, 'utc_offset': None, 'time_zone': None, 'geo_enabled': False, 'verified': False, 'statuses_count': 1, 'lang': 'en', 'contributors_enabled': False, 'is_translator': False, 'is_translation_enabled': False, 'profile_background_color': 'F5F8FA', 'profile_background_image_url': None, 'profile_background_image_url_https': None, 'profile_background_tile': False, 'profile_image_url': 'http://pbs.twimg.com/profile_images/1025751603935158274/34uqbVBM_normal.jpg', 'profile_image_url_https': 'https://pbs.twimg.com/profile_images/1025751603935158274/34uqbVBM_normal.jpg', 'profile_link_color': '1DA1F2', 'profile_sidebar_border_color': 'C0DEED', 'profile_sidebar_fill_color': 'DDEEF6', 'profile_text_color': '333333', 'profile_use_background_image': True, 'has_extended_profile': False, 'default_profile': True, 'default_profile_image': False, 'following': False, 'follow_request_sent': False, 'notifications': False, 'translator_type': 'none'}, id=1008087601893593088, id_str='1008087601893593088', name='Everton Portela', screen_name='portela_everton', location='', description='', url=None, entities={'description': {'urls': []}}, protected=False, followers_count=0, friends_count=1, listed_count=0, created_at=datetime.datetime(2018, 6, 16, 20, 43, 8), favourites_count=0, utc_offset=None, time_zone=None, geo_enabled=False, verified=False, statuses_count=1, lang='en', contributors_enabled=False, is_translator=False, is_translation_enabled=False, profile_background_color='F5F8FA', profile_background_image_url=None, profile_background_image_url_https=None, profile_background_tile=False, profile_image_url='http://pbs.twimg.com/profile_images/1025751603935158274/34uqbVBM_normal.jpg', profile_image_url_https='https://pbs.twimg.com/profile_images/1025751603935158274/34uqbVBM_normal.jpg', profile_link_color='1DA1F2', profile_sidebar_border_color='C0DEED', profile_sidebar_fill_color='DDEEF6', profile_text_color='333333', profile_use_background_image=True, has_extended_profile=False, default_profile=True, default_profile_image=False, following=False, follow_request_sent=False, notifications=False, translator_type='none'), user=User(_api=<tweepy.api.API object at 0x000002A963DFC7B8>, _json={'id': 1008087601893593088, 'id_str': '1008087601893593088', 'name': 'Everton Portela', 'screen_name': 'portela_everton', 'location': '', 'description': '', 'url': None, 'entities': {'description': {'urls': []}}, 'protected': False, 'followers_count': 0, 'friends_count': 1, 'listed_count': 0, 'created_at': 'Sat Jun 16 20:43:08 +0000 2018', 'favourites_count': 0, 'utc_offset': None, 'time_zone': None, 'geo_enabled': False, 'verified': False, 'statuses_count': 1, 'lang': 'en', 'contributors_enabled': False, 'is_translator': False, 'is_translation_enabled': False, 'profile_background_color': 'F5F8FA', 'profile_background_image_url': None, 'profile_background_image_url_https': None, 'profile_background_tile': False, 'profile_image_url': 'http://pbs.twimg.com/profile_images/1025751603935158274/34uqbVBM_normal.jpg', 'profile_image_url_https': 'https://pbs.twimg.com/profile_images/1025751603935158274/34uqbVBM_normal.jpg', 'profile_link_color': '1DA1F2', 'profile_sidebar_border_color': 'C0DEED', 'profile_sidebar_fill_color': 'DDEEF6', 'profile_text_color': '333333', 'profile_use_background_image': True, 'has_extended_profile': False, 'default_profile': True, 'default_profile_image': False, 'following': False, 'follow_request_sent': False, 'notifications': False, 'translator_type': 'none'}, id=1008087601893593088, id_str='1008087601893593088', name='Everton Portela', screen_name='portela_everton', location='', description='', url=None, entities={'description': {'urls': []}}, protected=False, followers_count=0, friends_count=1, listed_count=0, created_at=datetime.datetime(2018, 6, 16, 20, 43, 8), favourites_count=0, utc_offset=None, time_zone=None, geo_enabled=False, verified=False, statuses_count=1, lang='en', contributors_enabled=False, is_translator=False, is_translation_enabled=False, profile_background_color='F5F8FA', profile_background_image_url=None, profile_background_image_url_https=None, profile_background_tile=False, profile_image_url='http://pbs.twimg.com/profile_images/1025751603935158274/34uqbVBM_normal.jpg', profile_image_url_https='https://pbs.twimg.com/profile_images/1025751603935158274/34uqbVBM_normal.jpg', profile_link_color='1DA1F2', profile_sidebar_border_color='C0DEED', profile_sidebar_fill_color='DDEEF6', profile_text_color='333333', profile_use_background_image=True, has_extended_profile=False, default_profile=True, default_profile_image=False, following=False, follow_request_sent=False, notifications=False, translator_type='none'), geo=None, coordinates=None, place=None, contributors=None, is_quote_status=False, retweet_count=0, favorite_count=0, favorited=False, retweeted=False, lang='ht')"
            ]
          },
          "metadata": {
            "tags": []
          },
          "execution_count": 6
        }
      ]
    },
    {
      "cell_type": "markdown",
      "metadata": {
        "id": "OojhpQZlLhCG",
        "colab_type": "text"
      },
      "source": [
        "## Salvando o retorno da publicação"
      ]
    },
    {
      "cell_type": "code",
      "metadata": {
        "collapsed": true,
        "id": "52G8EIl9LhCI",
        "colab_type": "code",
        "colab": {}
      },
      "source": [
        "info_tweet = api.update_status(status=\"O que é big data?\")"
      ],
      "execution_count": 0,
      "outputs": []
    },
    {
      "cell_type": "code",
      "metadata": {
        "id": "f1NYKgZgLhCP",
        "colab_type": "code",
        "colab": {}
      },
      "source": [
        "print(type(info_tweet))"
      ],
      "execution_count": 0,
      "outputs": []
    },
    {
      "cell_type": "code",
      "metadata": {
        "id": "2MNYHMdRLhCV",
        "colab_type": "code",
        "colab": {}
      },
      "source": [
        "print(dir(info_tweet))"
      ],
      "execution_count": 0,
      "outputs": []
    },
    {
      "cell_type": "code",
      "metadata": {
        "id": "HG2nmR4hLhCa",
        "colab_type": "code",
        "colab": {}
      },
      "source": [
        "print(info_tweet.text) # Mensagem do tweet"
      ],
      "execution_count": 0,
      "outputs": []
    },
    {
      "cell_type": "code",
      "metadata": {
        "id": "6lmW7TEHLhCg",
        "colab_type": "code",
        "colab": {}
      },
      "source": [
        "print(info_tweet.id) # Id do Tweet"
      ],
      "execution_count": 0,
      "outputs": []
    },
    {
      "cell_type": "code",
      "metadata": {
        "id": "77UL394WLhCk",
        "colab_type": "code",
        "colab": {}
      },
      "source": [
        "print(info_tweet.created_at) # Data da criação do Twitter"
      ],
      "execution_count": 0,
      "outputs": []
    },
    {
      "cell_type": "code",
      "metadata": {
        "id": "z3X4HZvqLhCo",
        "colab_type": "code",
        "colab": {}
      },
      "source": [
        "print(info_tweet.source) # De onde veio o Twitter"
      ],
      "execution_count": 0,
      "outputs": []
    },
    {
      "cell_type": "code",
      "metadata": {
        "id": "E5ve6_ViLhCs",
        "colab_type": "code",
        "colab": {}
      },
      "source": [
        "print(info_tweet.lang) # Idioma do Twitter"
      ],
      "execution_count": 0,
      "outputs": []
    },
    {
      "cell_type": "markdown",
      "metadata": {
        "id": "ApsLEex3LhCz",
        "colab_type": "text"
      },
      "source": [
        "### Informações do Usuário que realizou o Tweet.\n",
        "\n",
        "O comando abaixo ilustra todos os atributos disponíveis para o usuário que realizou o tweet."
      ]
    },
    {
      "cell_type": "code",
      "metadata": {
        "id": "A9xB0LveLhC0",
        "colab_type": "code",
        "colab": {}
      },
      "source": [
        "print(dir(info_tweet.user))"
      ],
      "execution_count": 0,
      "outputs": []
    },
    {
      "cell_type": "markdown",
      "metadata": {
        "id": "pcD1ZG-eLhC4",
        "colab_type": "text"
      },
      "source": [
        "#### Visualizar a data da criação do usuário"
      ]
    },
    {
      "cell_type": "code",
      "metadata": {
        "id": "Hnc6PLcdLhC5",
        "colab_type": "code",
        "colab": {}
      },
      "source": [
        "print(info_tweet.user.created_at) "
      ],
      "execution_count": 0,
      "outputs": []
    },
    {
      "cell_type": "markdown",
      "metadata": {
        "id": "jqnV22FvLhC9",
        "colab_type": "text"
      },
      "source": [
        "#### Visualizar a localização do usuário"
      ]
    },
    {
      "cell_type": "code",
      "metadata": {
        "id": "1IxOIpsiLhC_",
        "colab_type": "code",
        "colab": {}
      },
      "source": [
        "print(info_tweet.user.location)"
      ],
      "execution_count": 0,
      "outputs": []
    },
    {
      "cell_type": "markdown",
      "metadata": {
        "id": "B_LwvgxtLhDC",
        "colab_type": "text"
      },
      "source": [
        "#### Visualizar a quantidade de amigos"
      ]
    },
    {
      "cell_type": "code",
      "metadata": {
        "id": "Sg5dv56tLhDD",
        "colab_type": "code",
        "colab": {}
      },
      "source": [
        "print(info_tweet.user.friends_count) "
      ],
      "execution_count": 0,
      "outputs": []
    },
    {
      "cell_type": "markdown",
      "metadata": {
        "id": "cgiWqz_zLhDL",
        "colab_type": "text"
      },
      "source": [
        "#### Visualizar a quantidade de seguidores"
      ]
    },
    {
      "cell_type": "code",
      "metadata": {
        "id": "IGxbIzeOLhDM",
        "colab_type": "code",
        "colab": {}
      },
      "source": [
        "print(info_tweet.user.followers_count) "
      ],
      "execution_count": 0,
      "outputs": []
    },
    {
      "cell_type": "markdown",
      "metadata": {
        "id": "wga-s2ayLhDR",
        "colab_type": "text"
      },
      "source": [
        "#### Visualizar o nome do perfil do usuário"
      ]
    },
    {
      "cell_type": "code",
      "metadata": {
        "id": "YQnXCht4LhDS",
        "colab_type": "code",
        "colab": {}
      },
      "source": [
        "print(info_tweet.user.name) "
      ],
      "execution_count": 0,
      "outputs": []
    },
    {
      "cell_type": "markdown",
      "metadata": {
        "id": "UTnoniwcLhDV",
        "colab_type": "text"
      },
      "source": [
        "#### Visualizar  o nome do usuário - @prof_dinomagri"
      ]
    },
    {
      "cell_type": "code",
      "metadata": {
        "id": "YxXQeZjcLhDW",
        "colab_type": "code",
        "colab": {}
      },
      "source": [
        "print(info_tweet.user.screen_name)"
      ],
      "execution_count": 0,
      "outputs": []
    },
    {
      "cell_type": "markdown",
      "metadata": {
        "id": "vKmYJN-vLhDZ",
        "colab_type": "text"
      },
      "source": [
        "#### Visualizar o id do usuário"
      ]
    },
    {
      "cell_type": "code",
      "metadata": {
        "id": "xVHUXRKELhDa",
        "colab_type": "code",
        "colab": {}
      },
      "source": [
        "print(info_tweet.user.id)"
      ],
      "execution_count": 0,
      "outputs": []
    },
    {
      "cell_type": "markdown",
      "metadata": {
        "id": "YYOXxJlxLhDd",
        "colab_type": "text"
      },
      "source": [
        "#### Visualizar quantidade tweets feitos"
      ]
    },
    {
      "cell_type": "code",
      "metadata": {
        "id": "PvOdlKkLLhDf",
        "colab_type": "code",
        "colab": {}
      },
      "source": [
        "print(info_tweet.user.statuses_count) "
      ],
      "execution_count": 0,
      "outputs": []
    },
    {
      "cell_type": "markdown",
      "metadata": {
        "id": "TBL0FkgiLhDi",
        "colab_type": "text"
      },
      "source": [
        "### Removendo o tweet\n",
        "\n",
        "Note que quando aplicamos o método destroy_status, um objeto será retornado com os dados da remoção do Tweet. O acesso aos dados é da mesma forma que fizemos anteriormente."
      ]
    },
    {
      "cell_type": "code",
      "metadata": {
        "id": "WTRVSLH-LhDj",
        "colab_type": "code",
        "colab": {}
      },
      "source": [
        "api.destroy_status(id=info_tweet.id_str)"
      ],
      "execution_count": 0,
      "outputs": []
    },
    {
      "cell_type": "code",
      "metadata": {
        "id": "y9wcQXIGLhDn",
        "colab_type": "code",
        "colab": {}
      },
      "source": [
        "api.search?"
      ],
      "execution_count": 0,
      "outputs": []
    },
    {
      "cell_type": "code",
      "metadata": {
        "id": "NYytCqPyLhDq",
        "colab_type": "code",
        "colab": {}
      },
      "source": [
        ""
      ],
      "execution_count": 0,
      "outputs": []
    }
  ]
}