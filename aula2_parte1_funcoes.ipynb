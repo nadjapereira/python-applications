{
  "nbformat": 4,
  "nbformat_minor": 0,
  "metadata": {
    "kernelspec": {
      "display_name": "Python 3",
      "language": "python",
      "name": "python3"
    },
    "language_info": {
      "codemirror_mode": {
        "name": "ipython",
        "version": 3
      },
      "file_extension": ".py",
      "mimetype": "text/x-python",
      "name": "python",
      "nbconvert_exporter": "python",
      "pygments_lexer": "ipython3",
      "version": "3.6.2"
    },
    "colab": {
      "name": "aula2-parte1-funcoes.ipynb",
      "provenance": [],
      "include_colab_link": true
    }
  },
  "cells": [
    {
      "cell_type": "markdown",
      "metadata": {
        "id": "view-in-github",
        "colab_type": "text"
      },
      "source": [
        "<a href=\"https://colab.research.google.com/github/nadjapereira/python-applications/blob/master/aula2_parte1_funcoes.ipynb\" target=\"_parent\"><img src=\"https://colab.research.google.com/assets/colab-badge.svg\" alt=\"Open In Colab\"/></a>"
      ]
    },
    {
      "cell_type": "markdown",
      "metadata": {
        "id": "kkYFxj_ECuGH",
        "colab_type": "text"
      },
      "source": [
        "# Funções\n",
        "\n",
        "* Até agora, vimos diversos tipos de dados, atribuições, comparações e estruturas de controle.\n",
        "* A ideia da função é dividir para conquistar, onde:\n",
        "    * Um problema é dividido em diversos subproblemas\n",
        "    * As soluções dos subproblemas são combinadas numa solução do problema maior.\n",
        "* Esses subproblemas têm o nome de funções.\n",
        "\n",
        "\n",
        "* Uma função tem 3 partes importantes:\n",
        "```\n",
        "def <nome> ( <parametros> ):\n",
        "        <corpo da função>\n",
        "```\n",
        "\n",
        "* ```def``` é uma palavra chave\n",
        "* ```<nome>``` é qualquer nome aceito pelo Python\n",
        "* ```<parametros>``` é a quantidade de parâmetros que será passado para a função (pode ser nenhum).\n",
        "* ```<corpo da função>``` contém o código da função.\n",
        "\n",
        "Exemplo de função para calcular o máximo entre dois número:"
      ]
    },
    {
      "cell_type": "code",
      "metadata": {
        "id": "wfE2d8p6CuGK",
        "colab_type": "code",
        "colab": {}
      },
      "source": [
        "def maximo(x, y):\n",
        "    if x > y:\n",
        "        return x\n",
        "    else:\n",
        "        return y"
      ],
      "execution_count": 0,
      "outputs": []
    },
    {
      "cell_type": "markdown",
      "metadata": {
        "id": "xIhz5JHyCuGO",
        "colab_type": "text"
      },
      "source": [
        "Utilizando a função:"
      ]
    },
    {
      "cell_type": "code",
      "metadata": {
        "id": "sNZeWjeJCuGP",
        "colab_type": "code",
        "colab": {}
      },
      "source": [
        "z = maximo(3, 4)"
      ],
      "execution_count": 0,
      "outputs": []
    },
    {
      "cell_type": "code",
      "metadata": {
        "id": "0WBu9kLvCuGS",
        "colab_type": "code",
        "colab": {}
      },
      "source": [
        "print(z)"
      ],
      "execution_count": 0,
      "outputs": []
    },
    {
      "cell_type": "code",
      "metadata": {
        "id": "1w7SN1gPCuGV",
        "colab_type": "code",
        "colab": {}
      },
      "source": [
        "print(\"O maximo é {}\".format(maximo(10,30)))"
      ],
      "execution_count": 0,
      "outputs": []
    },
    {
      "cell_type": "code",
      "metadata": {
        "id": "gtmV2mAHCuGY",
        "colab_type": "code",
        "colab": {}
      },
      "source": [
        "print(\"O maximo é {}\".format(maximo(10,5)))"
      ],
      "execution_count": 0,
      "outputs": []
    },
    {
      "cell_type": "markdown",
      "metadata": {
        "id": "-K4m5SeXCuGb",
        "colab_type": "text"
      },
      "source": [
        "Já entendemos o que é e como criar funções. \n",
        "\n",
        "Para testar vamos criar uma função que irá realizar uma conta."
      ]
    },
    {
      "cell_type": "code",
      "metadata": {
        "id": "gZDvqc3yCuGc",
        "colab_type": "code",
        "colab": {}
      },
      "source": [
        "def economias (dinheiro, conta, gastos):\n",
        "    total = (dinheiro + conta) - gastos\n",
        "    return (total)"
      ],
      "execution_count": 0,
      "outputs": []
    },
    {
      "cell_type": "code",
      "metadata": {
        "id": "qL9wNilqCuGf",
        "colab_type": "code",
        "colab": {}
      },
      "source": [
        "eco = economias(10, 20, 10)\n",
        "print(eco)"
      ],
      "execution_count": 0,
      "outputs": []
    },
    {
      "cell_type": "markdown",
      "metadata": {
        "id": "uUChxuCCCuGh",
        "colab_type": "text"
      },
      "source": [
        "**Também podemos definir um valor padrão para um ou mais argumentos**\n",
        "\n",
        "Vamos reescrever a função economias para que os gastos sejam fixados em 150, caso não seja passado nenhum valor por padrão."
      ]
    },
    {
      "cell_type": "code",
      "metadata": {
        "id": "fa_SylOYCuGi",
        "colab_type": "code",
        "colab": {}
      },
      "source": [
        "def economias(dinheiro, conta, gastos=150):\n",
        "    total = (dinheiro + conta) - gastos\n",
        "    return(total)"
      ],
      "execution_count": 0,
      "outputs": []
    },
    {
      "cell_type": "code",
      "metadata": {
        "id": "ucUeAGklCuGl",
        "colab_type": "code",
        "colab": {}
      },
      "source": [
        "print(economias(100, 60))"
      ],
      "execution_count": 0,
      "outputs": []
    },
    {
      "cell_type": "code",
      "metadata": {
        "id": "GZQomgU3CuGn",
        "colab_type": "code",
        "colab": {}
      },
      "source": [
        "print(economias(100, 60, 10))"
      ],
      "execution_count": 0,
      "outputs": []
    },
    {
      "cell_type": "markdown",
      "metadata": {
        "id": "c4--1gVzCuGq",
        "colab_type": "text"
      },
      "source": [
        "É importante notar que uma variável que está dentro de uma função, não pode ser utilizada novamente enquanto a função não terminar de ser executada. \n",
        "\n",
        "No mundo da programação, isso é chamado de escopo. Vamos tentar imprimir o valor da variável dinheiro."
      ]
    },
    {
      "cell_type": "code",
      "metadata": {
        "id": "yeYaeuCACuGq",
        "colab_type": "code",
        "colab": {}
      },
      "source": [
        "print(dinheiro)"
      ],
      "execution_count": 0,
      "outputs": []
    },
    {
      "cell_type": "markdown",
      "metadata": {
        "id": "7UL0ZevrCuGt",
        "colab_type": "text"
      },
      "source": [
        "**<span style=\"color:blue;\">Por que isso aconteceu?</span>**\n",
        "\n",
        "Esse erro acontece pois a variável dinheiro somente existe dentro da função economias, ou seja, ela existe apenas no contexto local dessa função.\n",
        "\n",
        "Vamos modificar novamente a função economias:"
      ]
    },
    {
      "cell_type": "code",
      "metadata": {
        "id": "CK__DUCjCuGu",
        "colab_type": "code",
        "colab": {}
      },
      "source": [
        "def economias(dinheiro, conta, gastos=150):\n",
        "    total = (dinheiro + conta) - gastos\n",
        "    total = total + eco\n",
        "    return(total)"
      ],
      "execution_count": 0,
      "outputs": []
    },
    {
      "cell_type": "code",
      "metadata": {
        "id": "zPe_CKBHCuGw",
        "colab_type": "code",
        "colab": {}
      },
      "source": [
        "print(economias(100,60))"
      ],
      "execution_count": 0,
      "outputs": []
    },
    {
      "cell_type": "markdown",
      "metadata": {
        "id": "vNU2D2aiCuG0",
        "colab_type": "text"
      },
      "source": [
        "**<span style=\"color:blue;\">Por que não deu problema?</span>**\n",
        "\n",
        "Quando utilizamos uma variável que não está dentro da função, mas foi definida antes, o erro não acontece. Pois nesse caso estamos utilizando a ideia de variáveis globais, onde dentro do contexto geral do programa essa variável foi criada com algum valor e portanto pode ser utilizada dentro da função.\n",
        "\n",
        "<span style=\"color:red;\">Isso não é recomendado! O correto seria ter um novo argumento!</span>"
      ]
    },
    {
      "cell_type": "markdown",
      "metadata": {
        "id": "PUQJ60rDCuG1",
        "colab_type": "text"
      },
      "source": [
        "#### Exercício de Funções\n",
        "\n",
        "Crie uma função que receba dois argumentos.\n",
        "* O primeiro argumento é o valor de um determinado serviço\n",
        "* O segundo é a porcentagem da multa por atraso do pagamento. O valor padrão da porcentagem, se não passado, é de 7%. A função deve retornar o valor final da conta com o juros. Lembre-se de converter 7%."
      ]
    },
    {
      "cell_type": "code",
      "metadata": {
        "collapsed": true,
        "id": "RGR_cs9iCuG1",
        "colab_type": "code",
        "colab": {}
      },
      "source": [
        "def conta(valor, multa=7):\n",
        "    # seu código aqui"
      ],
      "execution_count": 0,
      "outputs": []
    },
    {
      "cell_type": "code",
      "metadata": {
        "id": "ZuuTNAuECuG4",
        "colab_type": "code",
        "colab": {}
      },
      "source": [
        "# Execute essa cedula para testar\n",
        "print(conta(100))"
      ],
      "execution_count": 0,
      "outputs": []
    },
    {
      "cell_type": "code",
      "metadata": {
        "id": "FmFFpmroCuG7",
        "colab_type": "code",
        "colab": {}
      },
      "source": [
        "# Execute essa cedula para testar\n",
        "print(conta(100, 10))"
      ],
      "execution_count": 0,
      "outputs": []
    },
    {
      "cell_type": "markdown",
      "metadata": {
        "id": "HKmZnMcZCuHD",
        "colab_type": "text"
      },
      "source": [
        "## Funções embutidas\n",
        "\n",
        "Python já vem com diversas funções embutidas, que estão prontas para serem utilizadas.\n",
        "\n",
        "Uma lista completa pode ser encontrada em https://docs.python.org/3/library/functions.html.\n",
        "\n",
        "<span style=\"color:blue;\">Já utilizamos algumas delas! Quais?</span>\n",
        "\n",
        "### input\n",
        "\n",
        "Uma outra função que é bem interessante, é a ```input```. Essa função permite que o usuário digite uma entrada, por exemplo:"
      ]
    },
    {
      "cell_type": "code",
      "metadata": {
        "id": "bIpxdp67CuHE",
        "colab_type": "code",
        "colab": {}
      },
      "source": [
        "idade = input('Digite sua idade:')\n",
        "print(idade)"
      ],
      "execution_count": 0,
      "outputs": []
    },
    {
      "cell_type": "code",
      "metadata": {
        "id": "9YlerDVsCuHH",
        "colab_type": "code",
        "colab": {}
      },
      "source": [
        "nome = input('Digite seu nome:')\n",
        "print(nome)"
      ],
      "execution_count": 0,
      "outputs": []
    },
    {
      "cell_type": "code",
      "metadata": {
        "id": "umpaA8dvCuHJ",
        "colab_type": "code",
        "colab": {}
      },
      "source": [
        "print(type(idade))"
      ],
      "execution_count": 0,
      "outputs": []
    },
    {
      "cell_type": "code",
      "metadata": {
        "id": "UKXP_-EBCuHL",
        "colab_type": "code",
        "colab": {}
      },
      "source": [
        "print(type(nome))"
      ],
      "execution_count": 0,
      "outputs": []
    },
    {
      "cell_type": "markdown",
      "metadata": {
        "id": "aBFs-gzdCuHO",
        "colab_type": "text"
      },
      "source": [
        "Note que ambas as variáveis são strings. Portanto precisamos converter para inteiro a idade."
      ]
    },
    {
      "cell_type": "code",
      "metadata": {
        "id": "ClfLgYupCuHP",
        "colab_type": "code",
        "colab": {}
      },
      "source": [
        "idade = int(input(\"Digite sua idade:\"))"
      ],
      "execution_count": 0,
      "outputs": []
    },
    {
      "cell_type": "code",
      "metadata": {
        "id": "40j9etxVCuHR",
        "colab_type": "code",
        "colab": {}
      },
      "source": [
        "print(type(idade))"
      ],
      "execution_count": 0,
      "outputs": []
    },
    {
      "cell_type": "markdown",
      "metadata": {
        "id": "h6ugniklCuHU",
        "colab_type": "text"
      },
      "source": [
        "### open"
      ]
    },
    {
      "cell_type": "markdown",
      "metadata": {
        "id": "rA3mlOJiCuHU",
        "colab_type": "text"
      },
      "source": [
        "A função ```open```, permite abrir um arquivo para leitura e escrita.\n",
        "\n",
        "    open(nome_do_arquivo, modo)\n",
        "    \n",
        "Modos:\n",
        "        * r - abre o arquivo para leitura.\n",
        "        * w - abre o arquivo para escrita.\n",
        "        * a - abre o arquivo para escrita acresentando os dados no final do arquivo.\n",
        "        * + - pode ser lido e escrito simultaneamente."
      ]
    },
    {
      "cell_type": "code",
      "metadata": {
        "id": "DGl1wft5CuHV",
        "colab_type": "code",
        "colab": {}
      },
      "source": [
        "import os\n",
        "os.remove(\"arquivo.txt\")"
      ],
      "execution_count": 0,
      "outputs": []
    },
    {
      "cell_type": "code",
      "metadata": {
        "id": "jJufsvgfCuHX",
        "colab_type": "code",
        "colab": {}
      },
      "source": [
        "arq = open(\"arquivo.txt\", \"w\")"
      ],
      "execution_count": 0,
      "outputs": []
    },
    {
      "cell_type": "code",
      "metadata": {
        "id": "YhjdaPICCuHa",
        "colab_type": "code",
        "colab": {}
      },
      "source": [
        "for i in range(1, 5):\n",
        "    arq.write('{}. Escrevendo em arquivo\\n'.format(i))"
      ],
      "execution_count": 0,
      "outputs": []
    },
    {
      "cell_type": "code",
      "metadata": {
        "id": "pQYxCiJ_CuHd",
        "colab_type": "code",
        "colab": {}
      },
      "source": [
        "arq.close()"
      ],
      "execution_count": 0,
      "outputs": []
    },
    {
      "cell_type": "markdown",
      "metadata": {
        "id": "yAN_UftHCuHg",
        "colab_type": "text"
      },
      "source": [
        "#### Métodos\n",
        "\n",
        "* ```read()``` - retorna uma string única com todo o conteúdo do arquivo.\n",
        "* ```readlines()``` - todo o conteúdo do arquivo é salvo em uma lista, onde cada linha do arquivo será uma elemento da lista."
      ]
    },
    {
      "cell_type": "code",
      "metadata": {
        "id": "90v8l4I-CuHh",
        "colab_type": "code",
        "colab": {}
      },
      "source": [
        "f = open(\"arquivo.txt\", \"r\")\n",
        "print(f, '\\n')\n",
        "texto = f.read()\n",
        "print(texto)\n",
        "f.close()"
      ],
      "execution_count": 0,
      "outputs": []
    },
    {
      "cell_type": "code",
      "metadata": {
        "id": "DbEppscDCuHj",
        "colab_type": "code",
        "colab": {}
      },
      "source": [
        "f = open(\"arquivo.txt\", \"r\")\n",
        "texto = f.readlines()\n",
        "print(texto)\n",
        "#f.close()"
      ],
      "execution_count": 0,
      "outputs": []
    },
    {
      "cell_type": "code",
      "metadata": {
        "id": "HEmSJ1zZCuHl",
        "colab_type": "code",
        "colab": {}
      },
      "source": [
        "help(f.readlines)"
      ],
      "execution_count": 0,
      "outputs": []
    },
    {
      "cell_type": "markdown",
      "metadata": {
        "id": "KbTDydbvCuHn",
        "colab_type": "text"
      },
      "source": [
        "Para remover o ```\\n``` podemos utilizar o método ```read``` que irá gerar uma única string e depois aplicamos o método ```splitlines```."
      ]
    },
    {
      "cell_type": "code",
      "metadata": {
        "id": "ARwVm93FCuHn",
        "colab_type": "code",
        "colab": {}
      },
      "source": [
        "f = open(\"arquivo.txt\", \"r\")\n",
        "texto = f.read().splitlines()\n",
        "print(texto)\n",
        "f.close()"
      ],
      "execution_count": 0,
      "outputs": []
    },
    {
      "cell_type": "code",
      "metadata": {
        "collapsed": true,
        "id": "Mg7a6VsFCuHr",
        "colab_type": "code",
        "colab": {}
      },
      "source": [
        ""
      ],
      "execution_count": 0,
      "outputs": []
    }
  ]
}