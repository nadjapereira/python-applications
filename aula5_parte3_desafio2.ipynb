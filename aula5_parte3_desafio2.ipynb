{
  "nbformat": 4,
  "nbformat_minor": 0,
  "metadata": {
    "kernelspec": {
      "display_name": "Python 3",
      "language": "python",
      "name": "python3"
    },
    "language_info": {
      "codemirror_mode": {
        "name": "ipython",
        "version": 3
      },
      "file_extension": ".py",
      "mimetype": "text/x-python",
      "name": "python",
      "nbconvert_exporter": "python",
      "pygments_lexer": "ipython3",
      "version": "3.6.2"
    },
    "colab": {
      "name": "aula5-parte3-desafio2.ipynb",
      "provenance": [],
      "include_colab_link": true
    }
  },
  "cells": [
    {
      "cell_type": "markdown",
      "metadata": {
        "id": "view-in-github",
        "colab_type": "text"
      },
      "source": [
        "<a href=\"https://colab.research.google.com/github/nadjapereira/python-applications/blob/master/aula5_parte3_desafio2.ipynb\" target=\"_parent\"><img src=\"https://colab.research.google.com/assets/colab-badge.svg\" alt=\"Open In Colab\"/></a>"
      ]
    },
    {
      "cell_type": "markdown",
      "metadata": {
        "collapsed": true,
        "id": "LlCzWLqdN5Vu",
        "colab_type": "text"
      },
      "source": [
        "# Desafio 2\n",
        "\n",
        "## 1. Entender a diferença entre os métodos on_status e on_data\n",
        "\n",
        "Ver slide 32\n",
        "\n",
        "Da mesma forma que fizemos na API REST do Twitter, temos que salvar as chaves de acesso, bem como definir o objeto OAuthHandler para cuidar da autenticação e validação do acesso."
      ]
    },
    {
      "cell_type": "code",
      "metadata": {
        "collapsed": true,
        "id": "JAw7xONKN5V1",
        "colab_type": "code",
        "colab": {}
      },
      "source": [
        "import tweepy"
      ],
      "execution_count": 0,
      "outputs": []
    },
    {
      "cell_type": "code",
      "metadata": {
        "collapsed": true,
        "id": "zsLxYsuVN5WU",
        "colab_type": "code",
        "colab": {}
      },
      "source": [
        "consumer_key = ''\n",
        "consumer_secret = ''\n",
        "access_token = ''\n",
        "access_token_secret = ''"
      ],
      "execution_count": 0,
      "outputs": []
    },
    {
      "cell_type": "code",
      "metadata": {
        "collapsed": true,
        "id": "bH1oy8vcN5Wp",
        "colab_type": "code",
        "colab": {}
      },
      "source": [
        "autorizar = tweepy.OAuthHandler(consumer_key, consumer_secret)\n",
        "autorizar.set_access_token(access_token, access_token_secret)"
      ],
      "execution_count": 0,
      "outputs": []
    },
    {
      "cell_type": "markdown",
      "metadata": {
        "id": "B52VF_f6N5XC",
        "colab_type": "text"
      },
      "source": [
        "## 2. Modificar nossa classe para utilizar o método on_data\n"
      ]
    },
    {
      "cell_type": "code",
      "metadata": {
        "collapsed": true,
        "id": "_dLsetrLN5XJ",
        "colab_type": "code",
        "colab": {}
      },
      "source": [
        "class DadosPublicosTwitter(tweepy.StreamListener):\n",
        "    def on_data(self, dados):\n",
        "        print(dados)\n",
        "        return False"
      ],
      "execution_count": 0,
      "outputs": []
    },
    {
      "cell_type": "code",
      "metadata": {
        "collapsed": true,
        "id": "ghbzEYCjN5Xk",
        "colab_type": "code",
        "colab": {}
      },
      "source": [
        "dados_twitter = DadosPublicosTwitter()\n",
        "fluxo = tweepy.Stream(autorizar, dados_twitter)"
      ],
      "execution_count": 0,
      "outputs": []
    },
    {
      "cell_type": "code",
      "metadata": {
        "id": "l3LMIamON5YF",
        "colab_type": "code",
        "colab": {}
      },
      "source": [
        "try:\n",
        "    fluxo.filter(track=['Big Data'])\n",
        "except KeyboardInterrupt:\n",
        "    print(\"\\n\\n **Execução foi encerrada via teclado (Ctrl+C)**\")"
      ],
      "execution_count": 0,
      "outputs": []
    },
    {
      "cell_type": "markdown",
      "metadata": {
        "id": "g9gQFEY2N5Yb",
        "colab_type": "text"
      },
      "source": [
        "Note que o retorno dos dados foi no formato JSON, veja o notebook sobre [JSON](aula5-parte3-json.ipynb)"
      ]
    },
    {
      "cell_type": "markdown",
      "metadata": {
        "id": "BssGlql-N5Yh",
        "colab_type": "text"
      },
      "source": [
        "## 3. Revisar a função embutida open para salvar os arquivos\n",
        "\n",
        "Vamos alterar a classe DadosPublicosTwitter para que quando a mesma for instanciada, crie um arquivo chamado ```tweets.json``` e que cada tweet seja adicionado no fim do arquivo. Para isso vamos utilizar o ```mode='a'```."
      ]
    },
    {
      "cell_type": "code",
      "metadata": {
        "collapsed": true,
        "id": "QhUwp1s7N5Ym",
        "colab_type": "code",
        "colab": {}
      },
      "source": [
        "class DadosPublicosTwitter(tweepy.StreamListener):\n",
        "    def __init__(self):\n",
        "        self.salvar_arquivo = open('tweets.json', mode='a')\n",
        "    \n",
        "    def on_data(self, dados):\n",
        "        self.salvar_arquivo.write(dados)"
      ],
      "execution_count": 0,
      "outputs": []
    },
    {
      "cell_type": "code",
      "metadata": {
        "collapsed": true,
        "id": "ZGcnkyMZN5Yx",
        "colab_type": "code",
        "colab": {}
      },
      "source": [
        "dados_twitter = DadosPublicosTwitter()"
      ],
      "execution_count": 0,
      "outputs": []
    },
    {
      "cell_type": "code",
      "metadata": {
        "collapsed": true,
        "id": "ZWR6K3mUN5ZO",
        "colab_type": "code",
        "colab": {}
      },
      "source": [
        "fluxo = tweepy.Stream(autorizar, dados_twitter)"
      ],
      "execution_count": 0,
      "outputs": []
    },
    {
      "cell_type": "code",
      "metadata": {
        "id": "20L2ZYPIN5Zk",
        "colab_type": "code",
        "colab": {}
      },
      "source": [
        "try:\n",
        "    fluxo.filter(track=['Big Data', 'Python'])\n",
        "except KeyboardInterrupt:\n",
        "    print(\"\\n\\n **Execução foi encerrada via teclado (Ctrl+C)**\")"
      ],
      "execution_count": 0,
      "outputs": []
    },
    {
      "cell_type": "markdown",
      "metadata": {
        "collapsed": true,
        "id": "_NfZ2VAIN5Z_",
        "colab_type": "text"
      },
      "source": [
        "Ótimo! Já estamos conseguindo salvar os tweets em um arquivo. **<span style=\"color:red;\">Porém ainda temos alguns tratamentos que precisam ser realizados:</span>**\n",
        "\n",
        "    1) Falta fechar o arquivo; \n",
        "    2) Falta finalizar a execução do Streaming; \n",
        "    3) Cada tweet deve ficar em uma linha; Abra o arquivo tweets.json e veja que existe uma linha em branco entre os tweets salvos.\n",
        "\n",
        "**<span style=\"color:blue;\">Vamos ao próximo Desafio!!!</span>**"
      ]
    },
    {
      "cell_type": "code",
      "metadata": {
        "collapsed": true,
        "id": "sAWAQb_oN5aE",
        "colab_type": "code",
        "colab": {}
      },
      "source": [
        ""
      ],
      "execution_count": 0,
      "outputs": []
    }
  ]
}