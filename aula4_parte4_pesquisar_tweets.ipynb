{
  "nbformat": 4,
  "nbformat_minor": 0,
  "metadata": {
    "kernelspec": {
      "display_name": "Python 3",
      "language": "python",
      "name": "python3"
    },
    "language_info": {
      "codemirror_mode": {
        "name": "ipython",
        "version": 3
      },
      "file_extension": ".py",
      "mimetype": "text/x-python",
      "name": "python",
      "nbconvert_exporter": "python",
      "pygments_lexer": "ipython3",
      "version": "3.6.5"
    },
    "colab": {
      "name": "aula4-parte4-pesquisar-tweets.ipynb",
      "provenance": [],
      "include_colab_link": true
    }
  },
  "cells": [
    {
      "cell_type": "markdown",
      "metadata": {
        "id": "view-in-github",
        "colab_type": "text"
      },
      "source": [
        "<a href=\"https://colab.research.google.com/github/nadjapereira/python-applications/blob/master/aula4_parte4_pesquisar_tweets.ipynb\" target=\"_parent\"><img src=\"https://colab.research.google.com/assets/colab-badge.svg\" alt=\"Open In Colab\"/></a>"
      ]
    },
    {
      "cell_type": "markdown",
      "metadata": {
        "id": "cSDlPBmEb8ha",
        "colab_type": "text"
      },
      "source": [
        "# Pesquisar por Tweets\n",
        "\n",
        "Na API Rest também podemos utilizar o método ```search``` para procurar por tweets que combinam com o termo definido.\n",
        "\n",
        "O método contém algumas opções como:\n",
        "\n",
        "    api.search(q, count, max_id, lang)\n",
        "    \n",
        "* ```q``` - é o parâmetro que terá o termo a ser pesquisado.\n",
        "* ```count``` - é a quantidade de tweets que serão retornados. O limite é 100 e o padrão é 15. \n",
        "* ```max_id``` - retorna apenas os tweets com o ID menor ou igual ao que foi especificado.\n",
        "* ```lang``` - restringe a busca por tweets de um determinado idioma.\n"
      ]
    },
    {
      "cell_type": "code",
      "metadata": {
        "collapsed": true,
        "id": "WjN2cijGb8he",
        "colab_type": "code",
        "colab": {}
      },
      "source": [
        "import tweepy"
      ],
      "execution_count": 0,
      "outputs": []
    },
    {
      "cell_type": "code",
      "metadata": {
        "collapsed": true,
        "id": "auQKgGFUb8hj",
        "colab_type": "code",
        "colab": {}
      },
      "source": [
        "consumer_key = ''\n",
        "consumer_secret = ''\n",
        "access_token = ''\n",
        "access_token_secret = ''\n",
        "\n",
        "autorizar = tweepy.OAuthHandler(consumer_key, consumer_secret)\n",
        "autorizar.set_access_token(access_token, access_token_secret)"
      ],
      "execution_count": 0,
      "outputs": []
    },
    {
      "cell_type": "code",
      "metadata": {
        "id": "QWHFbkyxb8hn",
        "colab_type": "code",
        "colab": {}
      },
      "source": [
        "api = tweepy.API(autorizar)\n",
        "print(api)"
      ],
      "execution_count": 0,
      "outputs": []
    },
    {
      "cell_type": "markdown",
      "metadata": {
        "id": "ZZfZvc41b8hp",
        "colab_type": "text"
      },
      "source": [
        "## Pesquisando ..."
      ]
    },
    {
      "cell_type": "code",
      "metadata": {
        "id": "KnUsDQlFb8hq",
        "colab_type": "code",
        "colab": {}
      },
      "source": [
        "tweets = api.search(q=['Python', 'Big Data'], lang='pt') # Teste o parâmetro count=150\n",
        "\n",
        "for i, tweet in enumerate(tweets, start=1):\n",
        "    print(\"%d ---- %s\" % (i, tweet.text))"
      ],
      "execution_count": 0,
      "outputs": []
    },
    {
      "cell_type": "markdown",
      "metadata": {
        "id": "-wq2VFdob8hu",
        "colab_type": "text"
      },
      "source": [
        "## Recuperar 1000 tweets\n",
        "\n"
      ]
    },
    {
      "cell_type": "code",
      "metadata": {
        "collapsed": true,
        "id": "Jjx_RgjDb8hv",
        "colab_type": "code",
        "colab": {}
      },
      "source": [
        "tweets_salvos = []\n",
        "ultimo_id = -1\n",
        "qtde_tweets = 1000"
      ],
      "execution_count": 0,
      "outputs": []
    },
    {
      "cell_type": "code",
      "metadata": {
        "collapsed": true,
        "id": "KkArEqjxb8hy",
        "colab_type": "code",
        "colab": {}
      },
      "source": [
        "while len(tweets_salvos) < qtde_tweets:\n",
        "    contador = qtde_tweets - len(tweets_salvos)\n",
        "    try:\n",
        "        novos_tweets = api.search(q='Python', count=contador, max_id=str(ultimo_id - 1)) # Teste com o parâmetro lang='pt'\n",
        "        if not novos_tweets:\n",
        "            print(\"Nenhum tweet para recuperar\")\n",
        "            break\n",
        "        tweets_salvos.extend(novos_tweets)\n",
        "        ultimo_id = novos_tweets[-1].id\n",
        "    except tweepy.TweepError as e:\n",
        "        print(\"Erro:\", (e))\n",
        "        break"
      ],
      "execution_count": 0,
      "outputs": []
    },
    {
      "cell_type": "code",
      "metadata": {
        "id": "nls33PvFb8h1",
        "colab_type": "code",
        "colab": {}
      },
      "source": [
        "for i, tweet in enumerate(tweets_salvos, start=1):\n",
        "    print(\"{} ---- {} -> {}\".format(i, tweet.created_at, tweet.text))"
      ],
      "execution_count": 0,
      "outputs": []
    },
    {
      "cell_type": "markdown",
      "metadata": {
        "id": "-9SASpCRb8h4",
        "colab_type": "text"
      },
      "source": [
        "Os códigos do parâmetro lang deve seguir a **ISO 639-1** - https://en.wikipedia.org/wiki/List_of_ISO_639-1_codes\n",
        "\n",
        "Maiores informações: https://dev.twitter.com/rest/public/timelines"
      ]
    },
    {
      "cell_type": "code",
      "metadata": {
        "id": "KID4ME4Zb8h5",
        "colab_type": "code",
        "colab": {}
      },
      "source": [
        "arq = open('saida.txt', 'a', encoding='utf-8')"
      ],
      "execution_count": 0,
      "outputs": []
    },
    {
      "cell_type": "code",
      "metadata": {
        "id": "0xzDpOHmb8h9",
        "colab_type": "code",
        "colab": {}
      },
      "source": [
        "for i, tweet in enumerate(tweets_salvos, start=1):\n",
        "    arq.write(\"{} - {}\\n\".format(i, tweet.text))"
      ],
      "execution_count": 0,
      "outputs": []
    },
    {
      "cell_type": "code",
      "metadata": {
        "id": "3NOSnh6ob8iB",
        "colab_type": "code",
        "colab": {}
      },
      "source": [
        "arq.close()"
      ],
      "execution_count": 0,
      "outputs": []
    },
    {
      "cell_type": "markdown",
      "metadata": {
        "id": "gNPZCnQKb8iD",
        "colab_type": "text"
      },
      "source": [
        "### Imprimindo"
      ]
    },
    {
      "cell_type": "code",
      "metadata": {
        "id": "uS8JFI4Xb8iE",
        "colab_type": "code",
        "colab": {}
      },
      "source": [
        "arq = open('saida.txt', 'r', encoding='utf-8')\n",
        "dados = arq.read().splitlines()\n",
        "arq.close()"
      ],
      "execution_count": 0,
      "outputs": []
    },
    {
      "cell_type": "code",
      "metadata": {
        "id": "SIpng3idb8iH",
        "colab_type": "code",
        "colab": {}
      },
      "source": [
        "print(dados)"
      ],
      "execution_count": 0,
      "outputs": []
    }
  ]
}