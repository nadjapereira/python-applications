{
  "nbformat": 4,
  "nbformat_minor": 0,
  "metadata": {
    "kernelspec": {
      "display_name": "Python 3",
      "language": "python",
      "name": "python3"
    },
    "language_info": {
      "codemirror_mode": {
        "name": "ipython",
        "version": 3
      },
      "file_extension": ".py",
      "mimetype": "text/x-python",
      "name": "python",
      "nbconvert_exporter": "python",
      "pygments_lexer": "ipython3",
      "version": "3.6.5"
    },
    "colab": {
      "name": "aula4-parte4-pesquisar-tweets.ipynb",
      "provenance": [],
      "include_colab_link": true
    }
  },
  "cells": [
    {
      "cell_type": "markdown",
      "metadata": {
        "id": "view-in-github",
        "colab_type": "text"
      },
      "source": [
        "<a href=\"https://colab.research.google.com/github/nadjapereira/python-applications/blob/master/aula4_parte4_pesquisar_tweets.ipynb\" target=\"_parent\"><img src=\"https://colab.research.google.com/assets/colab-badge.svg\" alt=\"Open In Colab\"/></a>"
      ]
    },
    {
      "cell_type": "markdown",
      "metadata": {
        "id": "kHq7mSHiLm3i",
        "colab_type": "text"
      },
      "source": [
        "# Pesquisar por Tweets\n",
        "\n",
        "Na API Rest também podemos utilizar o método ```search``` para procurar por tweets que combinam com o termo definido.\n",
        "\n",
        "O método contém algumas opções como:\n",
        "\n",
        "    api.search(q, count, max_id, lang)\n",
        "    \n",
        "* ```q``` - é o parâmetro que terá o termo a ser pesquisado.\n",
        "* ```count``` - é a quantidade de tweets que serão retornados. O limite é 100 e o padrão é 15. \n",
        "* ```max_id``` - retorna apenas os tweets com o ID menor ou igual ao que foi especificado.\n",
        "* ```lang``` - restringe a busca por tweets de um determinado idioma.\n"
      ]
    },
    {
      "cell_type": "code",
      "metadata": {
        "collapsed": true,
        "id": "H-crCYnzLm3k",
        "colab_type": "code",
        "colab": {}
      },
      "source": [
        "import tweepy"
      ],
      "execution_count": 0,
      "outputs": []
    },
    {
      "cell_type": "code",
      "metadata": {
        "collapsed": true,
        "id": "kjrH6npELm3x",
        "colab_type": "code",
        "colab": {}
      },
      "source": [
        "consumer_key = ''\n",
        "consumer_secret = ''\n",
        "access_token = ''\n",
        "access_token_secret = ''\n",
        "\n",
        "autorizar = tweepy.OAuthHandler(consumer_key, consumer_secret)\n",
        "autorizar.set_access_token(access_token, access_token_secret)"
      ],
      "execution_count": 0,
      "outputs": []
    },
    {
      "cell_type": "code",
      "metadata": {
        "id": "5JvAKHAsLm33",
        "colab_type": "code",
        "colab": {}
      },
      "source": [
        "api = tweepy.API(autorizar)\n",
        "print(api)"
      ],
      "execution_count": 0,
      "outputs": []
    },
    {
      "cell_type": "markdown",
      "metadata": {
        "id": "Kpjs26klLm3_",
        "colab_type": "text"
      },
      "source": [
        "## Pesquisando ..."
      ]
    },
    {
      "cell_type": "code",
      "metadata": {
        "id": "sll9BBtALm4B",
        "colab_type": "code",
        "colab": {}
      },
      "source": [
        "tweets = api.search(q=['Python', 'Big Data'], lang='pt') # Teste o parâmetro count=150\n",
        "\n",
        "for i, tweet in enumerate(tweets, start=1):\n",
        "    print(\"%d ---- %s\" % (i, tweet.text))"
      ],
      "execution_count": 0,
      "outputs": []
    },
    {
      "cell_type": "markdown",
      "metadata": {
        "id": "P4L3NyIzLm4F",
        "colab_type": "text"
      },
      "source": [
        "## Recuperar 1000 tweets\n",
        "\n"
      ]
    },
    {
      "cell_type": "code",
      "metadata": {
        "collapsed": true,
        "id": "oB1nTT1ELm4G",
        "colab_type": "code",
        "colab": {}
      },
      "source": [
        "tweets_salvos = []\n",
        "ultimo_id = -1\n",
        "qtde_tweets = 1000"
      ],
      "execution_count": 0,
      "outputs": []
    },
    {
      "cell_type": "code",
      "metadata": {
        "collapsed": true,
        "id": "uaFmo7DhLm4R",
        "colab_type": "code",
        "colab": {}
      },
      "source": [
        "while len(tweets_salvos) < qtde_tweets:\n",
        "    contador = qtde_tweets - len(tweets_salvos)\n",
        "    try:\n",
        "        novos_tweets = api.search(q='Python', count=contador, max_id=str(ultimo_id - 1)) # Teste com o parâmetro lang='pt'\n",
        "        if not novos_tweets:\n",
        "            print(\"Nenhum tweet para recuperar\")\n",
        "            break\n",
        "        tweets_salvos.extend(novos_tweets)\n",
        "        ultimo_id = novos_tweets[-1].id\n",
        "    except tweepy.TweepError as e:\n",
        "        print(\"Erro:\", (e))\n",
        "        break"
      ],
      "execution_count": 0,
      "outputs": []
    },
    {
      "cell_type": "code",
      "metadata": {
        "id": "U-FzA5LaLm4X",
        "colab_type": "code",
        "colab": {}
      },
      "source": [
        "for i, tweet in enumerate(tweets_salvos, start=1):\n",
        "    print(\"{} ---- {} -> {}\".format(i, tweet.created_at, tweet.text))"
      ],
      "execution_count": 0,
      "outputs": []
    },
    {
      "cell_type": "markdown",
      "metadata": {
        "id": "0Qx2pxUrLm4e",
        "colab_type": "text"
      },
      "source": [
        "Os códigos do parâmetro lang deve seguir a **ISO 639-1** - https://en.wikipedia.org/wiki/List_of_ISO_639-1_codes\n",
        "\n",
        "Maiores informações: https://dev.twitter.com/rest/public/timelines"
      ]
    },
    {
      "cell_type": "code",
      "metadata": {
        "id": "ftCoQWpULm4g",
        "colab_type": "code",
        "colab": {}
      },
      "source": [
        "arq = open('saida.txt', 'a', encoding='utf-8')"
      ],
      "execution_count": 0,
      "outputs": []
    },
    {
      "cell_type": "code",
      "metadata": {
        "id": "CODfNpcPLm4m",
        "colab_type": "code",
        "colab": {}
      },
      "source": [
        "for i, tweet in enumerate(tweets_salvos, start=1):\n",
        "    arq.write(\"{} - {}\\n\".format(i, tweet.text))"
      ],
      "execution_count": 0,
      "outputs": []
    },
    {
      "cell_type": "code",
      "metadata": {
        "id": "RAhQ7RyOLm4v",
        "colab_type": "code",
        "colab": {}
      },
      "source": [
        "arq.close()"
      ],
      "execution_count": 0,
      "outputs": []
    },
    {
      "cell_type": "markdown",
      "metadata": {
        "id": "IwRDBHRyLm40",
        "colab_type": "text"
      },
      "source": [
        "### Imprimindo"
      ]
    },
    {
      "cell_type": "code",
      "metadata": {
        "id": "UBq2cS10Lm41",
        "colab_type": "code",
        "colab": {}
      },
      "source": [
        "arq = open('saida.txt', 'r', encoding='utf-8')\n",
        "dados = arq.read().splitlines()\n",
        "arq.close()"
      ],
      "execution_count": 0,
      "outputs": []
    },
    {
      "cell_type": "code",
      "metadata": {
        "id": "UJNV2JGTLm48",
        "colab_type": "code",
        "colab": {}
      },
      "source": [
        "print(dados)"
      ],
      "execution_count": 0,
      "outputs": []
    }
  ]
}