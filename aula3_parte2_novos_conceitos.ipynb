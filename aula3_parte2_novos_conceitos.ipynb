{
  "nbformat": 4,
  "nbformat_minor": 0,
  "metadata": {
    "kernelspec": {
      "display_name": "Python 3",
      "language": "python",
      "name": "python3"
    },
    "language_info": {
      "codemirror_mode": {
        "name": "ipython",
        "version": 3
      },
      "file_extension": ".py",
      "mimetype": "text/x-python",
      "name": "python",
      "nbconvert_exporter": "python",
      "pygments_lexer": "ipython3",
      "version": "3.6.2"
    },
    "colab": {
      "name": "aula3-parte2-novos-conceitos.ipynb",
      "provenance": [],
      "include_colab_link": true
    }
  },
  "cells": [
    {
      "cell_type": "markdown",
      "metadata": {
        "id": "view-in-github",
        "colab_type": "text"
      },
      "source": [
        "<a href=\"https://colab.research.google.com/github/nadjapereira/python-applications/blob/master/aula3_parte2_novos_conceitos.ipynb\" target=\"_parent\"><img src=\"https://colab.research.google.com/assets/colab-badge.svg\" alt=\"Open In Colab\"/></a>"
      ]
    },
    {
      "cell_type": "markdown",
      "metadata": {
        "id": "cUMkWOk7KXYP",
        "colab_type": "text"
      },
      "source": [
        "# Compressão de Lista\n",
        "\n",
        "As listas podem ser filtradas através de compressões.\n",
        "\n",
        "A sintaxe básica é:\n",
        "\n",
        "```python\n",
        "[expressaoMapeamento for elemento in listaOrigim if expressaoDeFiltragem]\n",
        "```\n",
        "\n",
        "A compressão de lista é utilizada quando se deseja filtrar dados de uma lista avaliados pela condição expressaoDeFiltragem."
      ]
    },
    {
      "cell_type": "code",
      "metadata": {
        "id": "3RhjVsG5KXYa",
        "colab_type": "code",
        "colab": {}
      },
      "source": [
        "nome = \"João\""
      ],
      "execution_count": 0,
      "outputs": []
    },
    {
      "cell_type": "markdown",
      "metadata": {
        "id": "eCJ1UOmrKXYm",
        "colab_type": "text"
      },
      "source": [
        "- Sem compressão de lista"
      ]
    },
    {
      "cell_type": "code",
      "metadata": {
        "id": "QHHYlpZ8KXYp",
        "colab_type": "code",
        "colab": {}
      },
      "source": [
        "caracteres = []\n",
        "for letra in nome:\n",
        "    caracteres.append(letra)\n",
        "print(caracteres)"
      ],
      "execution_count": 0,
      "outputs": []
    },
    {
      "cell_type": "markdown",
      "metadata": {
        "id": "y99BvKZFKXY1",
        "colab_type": "text"
      },
      "source": [
        "- Com compressão de lista"
      ]
    },
    {
      "cell_type": "code",
      "metadata": {
        "id": "OX0qAIHNKXY4",
        "colab_type": "code",
        "colab": {}
      },
      "source": [
        "caracteres = [letra for letra in nome]\n",
        "print(caracteres)"
      ],
      "execution_count": 0,
      "outputs": []
    },
    {
      "cell_type": "markdown",
      "metadata": {
        "id": "LPkxm5OkKXZB",
        "colab_type": "text"
      },
      "source": [
        "Note que a saída é uma lista, podemos também condicionar os elementos que devem estar nessa nova lista. Vamos salvar apenas os elementos da lista que seja a letra ```'o'```."
      ]
    },
    {
      "cell_type": "code",
      "metadata": {
        "id": "QkKCf9mQKXZE",
        "colab_type": "code",
        "colab": {}
      },
      "source": [
        "[letra for letra in nome if letra == 'o']"
      ],
      "execution_count": 0,
      "outputs": []
    },
    {
      "cell_type": "markdown",
      "metadata": {
        "id": "ax9dSB6MKXZM",
        "colab_type": "text"
      },
      "source": [
        "**Outro exemplo**"
      ]
    },
    {
      "cell_type": "code",
      "metadata": {
        "id": "wxaDZMrLKXZO",
        "colab_type": "code",
        "colab": {}
      },
      "source": [
        "palavras = ['UM', 'Dois', 'PyTHOn']"
      ],
      "execution_count": 0,
      "outputs": []
    },
    {
      "cell_type": "markdown",
      "metadata": {
        "id": "jJUjyeEoKXZb",
        "colab_type": "text"
      },
      "source": [
        "- Sem compressão de lista"
      ]
    },
    {
      "cell_type": "code",
      "metadata": {
        "id": "x5Iq3Kh9KXZe",
        "colab_type": "code",
        "colab": {}
      },
      "source": [
        "aux = []\n",
        "for item in palavras:\n",
        "    aux.append(item.title())\n",
        "print(aux)"
      ],
      "execution_count": 0,
      "outputs": []
    },
    {
      "cell_type": "markdown",
      "metadata": {
        "id": "aBIcvwUJKXZp",
        "colab_type": "text"
      },
      "source": [
        "- Com compressão de lista"
      ]
    },
    {
      "cell_type": "code",
      "metadata": {
        "id": "z3D--jA1KXZt",
        "colab_type": "code",
        "colab": {}
      },
      "source": [
        "aux = [item.title() for item in palavras]\n",
        "print(aux)"
      ],
      "execution_count": 0,
      "outputs": []
    },
    {
      "cell_type": "markdown",
      "metadata": {
        "id": "4sakNcIRKXZ0",
        "colab_type": "text"
      },
      "source": [
        "# Funções Anônimas (Lambda)\n",
        "\n",
        "Python permite a criação de funções anônimas (i.e. funções que não tem um nome) em tempo de execução, utilizando a palavra lambda.\n",
        "\n",
        "É um conceito muito poderoso e funciona bem com filter, map e reduce."
      ]
    },
    {
      "cell_type": "code",
      "metadata": {
        "id": "qgXa3NzaKXZ4",
        "colab_type": "code",
        "colab": {}
      },
      "source": [
        "nums = [2, 6, 8, 12]"
      ],
      "execution_count": 0,
      "outputs": []
    },
    {
      "cell_type": "code",
      "metadata": {
        "id": "8O3LdVGnKXZ_",
        "colab_type": "code",
        "colab": {}
      },
      "source": [
        "r1 = filter(lambda x : x % 3 == 0, nums)\n",
        "print(list(r1))"
      ],
      "execution_count": 0,
      "outputs": []
    },
    {
      "cell_type": "code",
      "metadata": {
        "id": "X6lLMo0nKXaE",
        "colab_type": "code",
        "colab": {}
      },
      "source": [
        "r2 = map(lambda x : x * 2, nums)\n",
        "print(list(r2))"
      ],
      "execution_count": 0,
      "outputs": []
    },
    {
      "cell_type": "markdown",
      "metadata": {
        "id": "EIcrD_QBKXaN",
        "colab_type": "text"
      },
      "source": [
        "A função reduce foi removida da versão 3 do Python, para utiliza-la, é necessário importar o módulo functools."
      ]
    },
    {
      "cell_type": "code",
      "metadata": {
        "id": "ZBwaJn44KXaP",
        "colab_type": "code",
        "colab": {}
      },
      "source": [
        "import functools"
      ],
      "execution_count": 0,
      "outputs": []
    },
    {
      "cell_type": "code",
      "metadata": {
        "id": "Sbt2-wf1KXaT",
        "colab_type": "code",
        "colab": {}
      },
      "source": [
        "r3 = functools.reduce(lambda x, y : x + y, nums)\n",
        "print(r3)"
      ],
      "execution_count": 0,
      "outputs": []
    },
    {
      "cell_type": "markdown",
      "metadata": {
        "id": "OKzr4V6TKXab",
        "colab_type": "text"
      },
      "source": [
        "** Outros Exemplos **"
      ]
    },
    {
      "cell_type": "markdown",
      "metadata": {
        "id": "mZ5v2EV6KXac",
        "colab_type": "text"
      },
      "source": [
        "- Número impares"
      ]
    },
    {
      "cell_type": "code",
      "metadata": {
        "id": "96kdFj_5KXaf",
        "colab_type": "code",
        "colab": {}
      },
      "source": [
        "n_impares = filter(lambda x : x % 2 != 0, [1, 2, 3, 2, 4, 8])\n",
        "print(list(n_impares))"
      ],
      "execution_count": 0,
      "outputs": []
    },
    {
      "cell_type": "markdown",
      "metadata": {
        "id": "mPAfpJtVKXak",
        "colab_type": "text"
      },
      "source": [
        "- A função map pode ser aplicado em mais de uma lista. E as listas não precisam ser do mesmo tamanho."
      ]
    },
    {
      "cell_type": "code",
      "metadata": {
        "id": "_Ey7jeSQKXam",
        "colab_type": "code",
        "colab": {}
      },
      "source": [
        "a = [1, 2, 3, 4]\n",
        "b = [17, 12, 11, 10] # Remova o elemento 10 e execute novamente.\n",
        "c = [-1, -4, 5, 9]"
      ],
      "execution_count": 0,
      "outputs": []
    },
    {
      "cell_type": "code",
      "metadata": {
        "id": "ziLYRMBsKXap",
        "colab_type": "code",
        "colab": {}
      },
      "source": [
        "resultado = map(lambda x, y, z : 2.5*x + 2*y - z, a, b, c)\n",
        "print(list(resultado))"
      ],
      "execution_count": 0,
      "outputs": []
    },
    {
      "cell_type": "code",
      "metadata": {
        "id": "i8uK4sswKXau",
        "colab_type": "code",
        "colab": {}
      },
      "source": [
        "from functools import reduce"
      ],
      "execution_count": 0,
      "outputs": []
    },
    {
      "cell_type": "markdown",
      "metadata": {
        "id": "hBbdBunRKXay",
        "colab_type": "text"
      },
      "source": [
        "- Determinando o valor número máximo utilizando o reduce."
      ]
    },
    {
      "cell_type": "code",
      "metadata": {
        "id": "TCdfDsOnKXa0",
        "colab_type": "code",
        "colab": {}
      },
      "source": [
        "f = lambda a, b : a if (a > b) else b"
      ],
      "execution_count": 0,
      "outputs": []
    },
    {
      "cell_type": "code",
      "metadata": {
        "id": "bhsCNIGMKXa6",
        "colab_type": "code",
        "colab": {}
      },
      "source": [
        "reduce(f, [210, 30, 11, 51, 131])"
      ],
      "execution_count": 0,
      "outputs": []
    },
    {
      "cell_type": "markdown",
      "metadata": {
        "id": "HGO9RRxxKXa_",
        "colab_type": "text"
      },
      "source": [
        "- Calculando a soma dos número de 1 até 100 com reduce"
      ]
    },
    {
      "cell_type": "code",
      "metadata": {
        "id": "iy8pyeAyKXbA",
        "colab_type": "code",
        "colab": {}
      },
      "source": [
        "total_soma = reduce(lambda x, y : x + y, range(1, 101))\n",
        "print(total_soma)"
      ],
      "execution_count": 0,
      "outputs": []
    },
    {
      "cell_type": "code",
      "metadata": {
        "id": "DVboYVwfKXbE",
        "colab_type": "code",
        "colab": {}
      },
      "source": [
        ""
      ],
      "execution_count": 0,
      "outputs": []
    }
  ]
}