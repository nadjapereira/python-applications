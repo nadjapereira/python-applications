{
  "nbformat": 4,
  "nbformat_minor": 0,
  "metadata": {
    "kernelspec": {
      "display_name": "Python 3",
      "language": "python",
      "name": "python3"
    },
    "language_info": {
      "codemirror_mode": {
        "name": "ipython",
        "version": 3
      },
      "file_extension": ".py",
      "mimetype": "text/x-python",
      "name": "python",
      "nbconvert_exporter": "python",
      "pygments_lexer": "ipython3",
      "version": "3.6.3"
    },
    "colab": {
      "name": "aula6-parte1-web-scraping.ipynb",
      "provenance": [],
      "include_colab_link": true
    }
  },
  "cells": [
    {
      "cell_type": "markdown",
      "metadata": {
        "id": "view-in-github",
        "colab_type": "text"
      },
      "source": [
        "<a href=\"https://colab.research.google.com/github/nadjapereira/python-applications/blob/master/aula6_parte1_web_scraping.ipynb\" target=\"_parent\"><img src=\"https://colab.research.google.com/assets/colab-badge.svg\" alt=\"Open In Colab\"/></a>"
      ]
    },
    {
      "cell_type": "markdown",
      "metadata": {
        "id": "qDs9oIpZidz8",
        "colab_type": "text"
      },
      "source": [
        "# Aula 6 - Web Scraping\n",
        "\n",
        "Para realizar o download de páginas web iremos utilizar um módulo que já foi visto nas aulas anteriores."
      ]
    },
    {
      "cell_type": "code",
      "metadata": {
        "id": "R6D5sfB5id0C",
        "colab_type": "code",
        "colab": {}
      },
      "source": [
        "import requests"
      ],
      "execution_count": 0,
      "outputs": []
    },
    {
      "cell_type": "code",
      "metadata": {
        "id": "1GoUodPIid0K",
        "colab_type": "code",
        "colab": {}
      },
      "source": [
        "req = requests.get(\"http://www.python.org\")"
      ],
      "execution_count": 0,
      "outputs": []
    },
    {
      "cell_type": "code",
      "metadata": {
        "id": "hVjLRaFaid0O",
        "colab_type": "code",
        "colab": {}
      },
      "source": [
        "print(req.text)"
      ],
      "execution_count": 0,
      "outputs": []
    },
    {
      "cell_type": "markdown",
      "metadata": {
        "id": "XV3JA4ekid0T",
        "colab_type": "text"
      },
      "source": [
        "Iremos criar uma função que irá realizar o download de uma página web e iremos retornar o HTML.\n",
        "\n",
        "Quais problemas podemos ter?\n",
        "- ```HTTP Error```\n",
        "- ```Connection error```\n",
        "- Caso aconteça algum erro, podemos tentar novamente (número de tentativas)"
      ]
    },
    {
      "cell_type": "code",
      "metadata": {
        "id": "BqcZ-X9gid0V",
        "colab_type": "code",
        "colab": {}
      },
      "source": [
        "from requests.exceptions import ConnectionError"
      ],
      "execution_count": 0,
      "outputs": []
    },
    {
      "cell_type": "code",
      "metadata": {
        "id": "oTdLGsiGid0a",
        "colab_type": "code",
        "colab": {}
      },
      "source": [
        "def download_html(url, numero_tentativas=2):\n",
        "    print(\"Realizando o download da página:\", url)\n",
        "    try:\n",
        "        req = requests.get(url)\n",
        "        if req.status_code != 200:\n",
        "            if numero_tentativas > 0:\n",
        "                print(\"Não foi possível realizar o download. Erro:\", req.status_code)\n",
        "                print(\"\\nRealizando nova tentativa:\")\n",
        "                return download_html(url, numero_tentativas - 1)\n",
        "            else:\n",
        "                print(\"Número de tentativas excedidas. Erro: {}\".format(req.status_code))\n",
        "                html = None\n",
        "                return html\n",
        "        html = req.text\n",
        "        return html\n",
        "    except ConnectionError as e:\n",
        "        print(\"Erro no download:\", e)\n",
        "        html = None"
      ],
      "execution_count": 0,
      "outputs": []
    },
    {
      "cell_type": "markdown",
      "metadata": {
        "id": "geTuhFSvid0e",
        "colab_type": "text"
      },
      "source": [
        "Testando nosso código"
      ]
    },
    {
      "cell_type": "code",
      "metadata": {
        "id": "HTbvnY08id0g",
        "colab_type": "code",
        "colab": {}
      },
      "source": [
        "retorno = download_html('http://pythonscraping.com/pages/page1.html', 2)"
      ],
      "execution_count": 0,
      "outputs": []
    },
    {
      "cell_type": "code",
      "metadata": {
        "id": "y9c86pUhid0l",
        "colab_type": "code",
        "colab": {}
      },
      "source": [
        "print(retorno)"
      ],
      "execution_count": 0,
      "outputs": []
    },
    {
      "cell_type": "code",
      "metadata": {
        "id": "0T3tKtLVid0r",
        "colab_type": "code",
        "colab": {}
      },
      "source": [
        "retorno = download_html('http://pythonsxxxcraping.com/pages/page1.html', 2)"
      ],
      "execution_count": 0,
      "outputs": []
    },
    {
      "cell_type": "code",
      "metadata": {
        "id": "xCLNFDoLid0v",
        "colab_type": "code",
        "colab": {}
      },
      "source": [
        "retorno = download_html('http://pythonscraping.com/pages/page2221.html', 2)"
      ],
      "execution_count": 0,
      "outputs": []
    },
    {
      "cell_type": "code",
      "metadata": {
        "id": "plNspNq8id03",
        "colab_type": "code",
        "colab": {}
      },
      "source": [
        ""
      ],
      "execution_count": 0,
      "outputs": []
    }
  ]
}