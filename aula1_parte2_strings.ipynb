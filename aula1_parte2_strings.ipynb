{
  "nbformat": 4,
  "nbformat_minor": 0,
  "metadata": {
    "kernelspec": {
      "display_name": "Python 3",
      "language": "python",
      "name": "python3"
    },
    "language_info": {
      "codemirror_mode": {
        "name": "ipython",
        "version": 3
      },
      "file_extension": ".py",
      "mimetype": "text/x-python",
      "name": "python",
      "nbconvert_exporter": "python",
      "pygments_lexer": "ipython3",
      "version": "3.6.2"
    },
    "colab": {
      "name": "aula1-parte2-strings.ipynb",
      "provenance": [],
      "include_colab_link": true
    }
  },
  "cells": [
    {
      "cell_type": "markdown",
      "metadata": {
        "id": "view-in-github",
        "colab_type": "text"
      },
      "source": [
        "<a href=\"https://colab.research.google.com/github/nadjapereira/python-applications/blob/master/aula1_parte2_strings.ipynb\" target=\"_parent\"><img src=\"https://colab.research.google.com/assets/colab-badge.svg\" alt=\"Open In Colab\"/></a>"
      ]
    },
    {
      "cell_type": "markdown",
      "metadata": {
        "id": "Kd6DhodbJI4i",
        "colab_type": "text"
      },
      "source": [
        "# Strings\n",
        "\n",
        "Na programação, normalmente chamamos um conjunto de caracteres de strings. Para criar uma string é necessário delimitar com aspas duplas ou simples. Como por exemplo:"
      ]
    },
    {
      "cell_type": "code",
      "metadata": {
        "id": "Q1FR86EnJI4k",
        "colab_type": "code",
        "colab": {}
      },
      "source": [
        "print('Dino \"Magri')"
      ],
      "execution_count": 0,
      "outputs": []
    },
    {
      "cell_type": "code",
      "metadata": {
        "id": "tsE0nUD9JI4q",
        "colab_type": "code",
        "colab": {}
      },
      "source": [
        "print('Dino \\'Magri')"
      ],
      "execution_count": 0,
      "outputs": []
    },
    {
      "cell_type": "code",
      "metadata": {
        "id": "Zq-CzUYQJI4u",
        "colab_type": "code",
        "colab": {}
      },
      "source": [
        "print(\"Dino 'Magri \")"
      ],
      "execution_count": 0,
      "outputs": []
    },
    {
      "cell_type": "code",
      "metadata": {
        "id": "SjEQbEHbJI40",
        "colab_type": "code",
        "colab": {}
      },
      "source": [
        "print('Dino \"Magri')"
      ],
      "execution_count": 0,
      "outputs": []
    },
    {
      "cell_type": "code",
      "metadata": {
        "id": "O9AFyUXtJI44",
        "colab_type": "code",
        "colab": {}
      },
      "source": [
        "nome = \"Dino Magri"
      ],
      "execution_count": 0,
      "outputs": []
    },
    {
      "cell_type": "markdown",
      "metadata": {
        "id": "ddxca4g_JI46",
        "colab_type": "text"
      },
      "source": [
        "**<span style=\"color:red;\">O que faltou?</span>**\n",
        "\n",
        "Faltou fechar as aspas duplas."
      ]
    },
    {
      "cell_type": "code",
      "metadata": {
        "collapsed": true,
        "id": "xYHN6_72JI47",
        "colab_type": "code",
        "colab": {}
      },
      "source": [
        "nome = '''Dino\n",
        "Magri'''"
      ],
      "execution_count": 0,
      "outputs": []
    },
    {
      "cell_type": "code",
      "metadata": {
        "id": "2IM-WL6JJI4-",
        "colab_type": "code",
        "colab": {}
      },
      "source": [
        "print(nome)"
      ],
      "execution_count": 0,
      "outputs": []
    },
    {
      "cell_type": "markdown",
      "metadata": {
        "id": "DoQArKuYJI5A",
        "colab_type": "text"
      },
      "source": [
        "## O que podemos fazer com strings?\n",
        "\n",
        "* Podemos pular uma linha com o \\n e tabular com o \\t"
      ]
    },
    {
      "cell_type": "code",
      "metadata": {
        "id": "bp1Vzm69JI5A",
        "colab_type": "code",
        "colab": {}
      },
      "source": [
        "print(\"Eu \\n sou uma \\n\\t string\")"
      ],
      "execution_count": 0,
      "outputs": []
    },
    {
      "cell_type": "markdown",
      "metadata": {
        "id": "h5b4l_uWJI5D",
        "colab_type": "text"
      },
      "source": [
        "* Podemos utilizar o prefixo r para que os caracteres de escape não sejam processados (raw strings)"
      ]
    },
    {
      "cell_type": "code",
      "metadata": {
        "id": "mw4XTrRpJI5E",
        "colab_type": "code",
        "colab": {}
      },
      "source": [
        "teste = r\"Testando os caracteres de escape \\n e \\t\"\n",
        "print(teste)"
      ],
      "execution_count": 0,
      "outputs": []
    },
    {
      "cell_type": "markdown",
      "metadata": {
        "id": "tOkxZp8JJI5H",
        "colab_type": "text"
      },
      "source": [
        "### Placeholders"
      ]
    },
    {
      "cell_type": "markdown",
      "metadata": {
        "id": "3uw3T5VWJI5I",
        "colab_type": "text"
      },
      "source": [
        "* Para substituir símbolos em strings, podemos utilizar a função format"
      ]
    },
    {
      "cell_type": "code",
      "metadata": {
        "id": "jhEYUD03JI5J",
        "colab_type": "code",
        "colab": {}
      },
      "source": [
        "nome = \"FIA\"\n",
        "idade = 35\n",
        "print(\"A {} tem {} anos de idade\".format(nome, idade))"
      ],
      "execution_count": 0,
      "outputs": []
    },
    {
      "cell_type": "markdown",
      "metadata": {
        "id": "o7MkIjNHJI5L",
        "colab_type": "text"
      },
      "source": [
        "* Também podemos definir as casas decimais que queremos imprimir."
      ]
    },
    {
      "cell_type": "code",
      "metadata": {
        "id": "0iSL6HeKJI5M",
        "colab_type": "code",
        "colab": {}
      },
      "source": [
        "import math\n",
        "pi = math.pi\n",
        "print(pi)\n",
        "\n",
        "print(\"O número pi com {1} casas decimais é {0:1.4f}\".format(pi, 4))"
      ],
      "execution_count": 0,
      "outputs": []
    },
    {
      "cell_type": "markdown",
      "metadata": {
        "id": "-FvgPPBIJI5O",
        "colab_type": "text"
      },
      "source": [
        "### Conctenar Strings"
      ]
    },
    {
      "cell_type": "code",
      "metadata": {
        "collapsed": true,
        "id": "1mr0sNsEJI5O",
        "colab_type": "code",
        "colab": {}
      },
      "source": [
        "palavra = \"Teste\" + \"-\" + \"Z\""
      ],
      "execution_count": 0,
      "outputs": []
    },
    {
      "cell_type": "code",
      "metadata": {
        "id": "bfkfCSK0JI5S",
        "colab_type": "code",
        "colab": {}
      },
      "source": [
        "print(palavra)"
      ],
      "execution_count": 0,
      "outputs": []
    },
    {
      "cell_type": "markdown",
      "metadata": {
        "id": "OaroPQVzJI5U",
        "colab_type": "text"
      },
      "source": [
        "### Multiplicar Strings"
      ]
    },
    {
      "cell_type": "code",
      "metadata": {
        "id": "IzmlZ80aJI5V",
        "colab_type": "code",
        "colab": {}
      },
      "source": [
        "print(\"Multiplicando strings:\\n\" + palavra * 3)"
      ],
      "execution_count": 0,
      "outputs": []
    },
    {
      "cell_type": "markdown",
      "metadata": {
        "id": "zdoINV5pJI5Y",
        "colab_type": "text"
      },
      "source": [
        "### Quantidade de caracteres\n",
        "\n",
        "* Podemos saber quantos caracteres contém uma string, para isso utilizamos uma função ```len```."
      ]
    },
    {
      "cell_type": "code",
      "metadata": {
        "collapsed": true,
        "id": "Pu7PkcdcJI5Y",
        "colab_type": "code",
        "colab": {}
      },
      "source": [
        "mensagem = \"Big Data + FIA\""
      ],
      "execution_count": 0,
      "outputs": []
    },
    {
      "cell_type": "code",
      "metadata": {
        "collapsed": true,
        "id": "3oXonRHeJI5a",
        "colab_type": "code",
        "colab": {}
      },
      "source": [
        "tamanho = len(mensagem)"
      ],
      "execution_count": 0,
      "outputs": []
    },
    {
      "cell_type": "code",
      "metadata": {
        "id": "_zr9yWRLJI5c",
        "colab_type": "code",
        "colab": {}
      },
      "source": [
        "print(tamanho)"
      ],
      "execution_count": 0,
      "outputs": []
    },
    {
      "cell_type": "markdown",
      "metadata": {
        "id": "ETDIPDefJI5f",
        "colab_type": "text"
      },
      "source": [
        "## Como funciona o index e o fatiamento (slice) de strings?\n",
        "\n",
        "![Slices](slice.png)\n",
        "\n",
        "Fonte: http://goo.gl/agfSe5"
      ]
    },
    {
      "cell_type": "code",
      "metadata": {
        "collapsed": true,
        "id": "x2ylXXufJI5f",
        "colab_type": "code",
        "colab": {}
      },
      "source": [
        "a = \"Eu sou uma string\""
      ],
      "execution_count": 0,
      "outputs": []
    },
    {
      "cell_type": "code",
      "metadata": {
        "id": "-sT6CynOJI5h",
        "colab_type": "code",
        "colab": {}
      },
      "source": [
        "# Imprimindo o primeiro elemento\n",
        "print(a[0])"
      ],
      "execution_count": 0,
      "outputs": []
    },
    {
      "cell_type": "code",
      "metadata": {
        "id": "vyxajfQfJI5j",
        "colab_type": "code",
        "colab": {}
      },
      "source": [
        "# Imprimindo os 6 primeiros caracteres \n",
        "print(a[:6])"
      ],
      "execution_count": 0,
      "outputs": []
    },
    {
      "cell_type": "code",
      "metadata": {
        "id": "vAcilT9RJI5l",
        "colab_type": "code",
        "colab": {}
      },
      "source": [
        "# Imprimindo os 6 últimos caracteres\n",
        "print(a[-6:])"
      ],
      "execution_count": 0,
      "outputs": []
    },
    {
      "cell_type": "code",
      "metadata": {
        "id": "J1ets7sYJI5o",
        "colab_type": "code",
        "colab": {}
      },
      "source": [
        "# Imprimindo um intervalo\n",
        "print(a[1:5])"
      ],
      "execution_count": 0,
      "outputs": []
    },
    {
      "cell_type": "code",
      "metadata": {
        "id": "sj7wnwnMJI5v",
        "colab_type": "code",
        "colab": {}
      },
      "source": [
        "# Imprimindo tudo menos o último caractere\n",
        "print(a[:-1])"
      ],
      "execution_count": 0,
      "outputs": []
    },
    {
      "cell_type": "markdown",
      "metadata": {
        "id": "JrnLUQc1JI5z",
        "colab_type": "text"
      },
      "source": [
        "## Os métodos que existem por padrão em uma string!\n",
        "\n",
        "Métodos são blocos de código que tem um nome e realizam alguma tarefa.\n",
        "\n",
        "Por exemplo, quando criamos a variável ```nome```, definimos que seu valor era ```'Dino Magri'```. Quando o Python de fato definiu esse valor a variável nome, ele também definiu seu tipo.\n",
        "\n",
        "**Como ele fez isso?**\n",
        "\n",
        "Bom, como vimos na começo da aula Python tem tipagem dinâmica e forte, ou seja, ele realiza as conversões necessárias para identificar o tipo de um determinado valor. \n",
        "\n",
        "Para checar o tipo basta utilizar a função ```type(nome_variável)```"
      ]
    },
    {
      "cell_type": "code",
      "metadata": {
        "id": "uAyzkvQ0JI51",
        "colab_type": "code",
        "colab": {}
      },
      "source": [
        "print(type(nome))"
      ],
      "execution_count": 0,
      "outputs": []
    },
    {
      "cell_type": "markdown",
      "metadata": {
        "id": "w6kcIkRmJI57",
        "colab_type": "text"
      },
      "source": [
        "No momento da criação da variável e da atribuição de seu tipo, Python disponibiliza diversos métodos que realizam diferentes tipos de ações de acordo com esse tipo associado.\n",
        "\n",
        "Esses métodos tem nome e recebem argumentos como parâmetro. Lembre-se da função len(), que conta quantos caracteres tem em uma string, recebe 1 argumento. Ou seja, a variável que contêm o valor da string é passada como parâmetro. ```print(len(nome))```.\n",
        "\n",
        "Por exemplo, se quisermos alterar o nome todo para maiusculo, Python disponibiliza um método que faz isso.\n",
        "\n",
        "**Note que para chamar o método de uma variável, utilizamos o ponto seguido pelo nome do método.**"
      ]
    },
    {
      "cell_type": "code",
      "metadata": {
        "id": "xBqZnXYEJI59",
        "colab_type": "code",
        "colab": {}
      },
      "source": [
        "nome = 'Dino Magri'\n",
        "print(nome)\n",
        "print(nome.upper())"
      ],
      "execution_count": 0,
      "outputs": []
    },
    {
      "cell_type": "markdown",
      "metadata": {
        "id": "EpHiz5l4JI6A",
        "colab_type": "text"
      },
      "source": [
        "* Contar quantas vezes aparecer um determinado caractere"
      ]
    },
    {
      "cell_type": "code",
      "metadata": {
        "id": "YBUwMB5sJI6B",
        "colab_type": "code",
        "colab": {}
      },
      "source": [
        "mensagem.count('a')"
      ],
      "execution_count": 0,
      "outputs": []
    },
    {
      "cell_type": "markdown",
      "metadata": {
        "id": "cXKrtqAuJI6F",
        "colab_type": "text"
      },
      "source": [
        "* Podemos deixar tudo minúsculo"
      ]
    },
    {
      "cell_type": "code",
      "metadata": {
        "id": "s5oQSxDtJI6M",
        "colab_type": "code",
        "colab": {}
      },
      "source": [
        "mensagem.lower()"
      ],
      "execution_count": 0,
      "outputs": []
    },
    {
      "cell_type": "markdown",
      "metadata": {
        "id": "ax-PtZXAJI6U",
        "colab_type": "text"
      },
      "source": [
        "* Podemos modificar a string para ter uma versão no estilo de título"
      ]
    },
    {
      "cell_type": "code",
      "metadata": {
        "id": "OMruSc4dJI6V",
        "colab_type": "code",
        "colab": {}
      },
      "source": [
        "mensagem.title()"
      ],
      "execution_count": 0,
      "outputs": []
    },
    {
      "cell_type": "markdown",
      "metadata": {
        "id": "C22hM4v9JI6X",
        "colab_type": "text"
      },
      "source": [
        "* Podemos verificar se uma string começa ou termina com um determinado texto. Isso é útil para encontrar arquivos com determinadas extensões, URLs, entre outros."
      ]
    },
    {
      "cell_type": "code",
      "metadata": {
        "id": "SGty7RzTJI6X",
        "colab_type": "code",
        "colab": {}
      },
      "source": [
        "mensagem.startswith('b')"
      ],
      "execution_count": 0,
      "outputs": []
    },
    {
      "cell_type": "code",
      "metadata": {
        "id": "RJOQTY3vJI6c",
        "colab_type": "code",
        "colab": {}
      },
      "source": [
        "nomearquivo = 'spam.txt'\n",
        "nomearquivo.endswith('.txt')"
      ],
      "execution_count": 0,
      "outputs": []
    },
    {
      "cell_type": "code",
      "metadata": {
        "id": "0uPj-ouSJI6g",
        "colab_type": "code",
        "colab": {}
      },
      "source": [
        "url = 'http://dinomagri.com'\n",
        "url.startswith('http:')"
      ],
      "execution_count": 0,
      "outputs": []
    },
    {
      "cell_type": "markdown",
      "metadata": {
        "id": "cWCoS-1DJI6i",
        "colab_type": "text"
      },
      "source": [
        "* Outros métodos de strings podem ser encontradas em https://docs.python.org/3/library/stdtypes.html#string-methods\n",
        "\n",
        "## Exercício de strings\n",
        "\n",
        "### 1 - Crie um string \"Eu estou programando em Python\" na variável txt.\n",
        "\n",
        "#### a) Imprima a primeira letra de txt utilizando colchetes (e.g. txt[NUM])"
      ]
    },
    {
      "cell_type": "code",
      "metadata": {
        "id": "Y5kwnQRjJI6l",
        "colab_type": "code",
        "colab": {}
      },
      "source": [
        "txt = \n"
      ],
      "execution_count": 0,
      "outputs": []
    },
    {
      "cell_type": "markdown",
      "metadata": {
        "id": "RG_4dqPzJI6q",
        "colab_type": "text"
      },
      "source": [
        "#### b) Imprima a letra g."
      ]
    },
    {
      "cell_type": "code",
      "metadata": {
        "id": "lM9220BiJI6r",
        "colab_type": "code",
        "colab": {}
      },
      "source": [
        ""
      ],
      "execution_count": 0,
      "outputs": []
    },
    {
      "cell_type": "markdown",
      "metadata": {
        "id": "Rkb4hMf4JI6u",
        "colab_type": "text"
      },
      "source": [
        "#### c) Imprima a palavra estou"
      ]
    },
    {
      "cell_type": "code",
      "metadata": {
        "id": "ow-72VlDJI6v",
        "colab_type": "code",
        "colab": {}
      },
      "source": [
        ""
      ],
      "execution_count": 0,
      "outputs": []
    },
    {
      "cell_type": "markdown",
      "metadata": {
        "id": "b7QSWYEPJI6z",
        "colab_type": "text"
      },
      "source": [
        "#### d) Imprima as ultimas 4 letras"
      ]
    },
    {
      "cell_type": "code",
      "metadata": {
        "id": "HDNTPrkvJI60",
        "colab_type": "code",
        "colab": {}
      },
      "source": [
        ""
      ],
      "execution_count": 0,
      "outputs": []
    },
    {
      "cell_type": "markdown",
      "metadata": {
        "id": "q85P5as9JI6-",
        "colab_type": "text"
      },
      "source": [
        "#### e) Imprima o texto a partir do index 9 e mostre qual o texto resultante"
      ]
    },
    {
      "cell_type": "code",
      "metadata": {
        "id": "cS6e-x3UJI6_",
        "colab_type": "code",
        "colab": {}
      },
      "source": [
        ""
      ],
      "execution_count": 0,
      "outputs": []
    },
    {
      "cell_type": "markdown",
      "metadata": {
        "collapsed": true,
        "id": "7zIQdtLqJI7G",
        "colab_type": "text"
      },
      "source": [
        "### 2 - Utilize os seguintes métodos:\n",
        "\n",
        "#### a) Upper, lower, len e title"
      ]
    },
    {
      "cell_type": "code",
      "metadata": {
        "id": "ItktSCWoJI7H",
        "colab_type": "code",
        "colab": {}
      },
      "source": [
        ""
      ],
      "execution_count": 0,
      "outputs": []
    },
    {
      "cell_type": "markdown",
      "metadata": {
        "id": "zN5tjL5MJI7J",
        "colab_type": "text"
      },
      "source": [
        "#### b) Conte (count) quantas letras [a, o] existem"
      ]
    },
    {
      "cell_type": "code",
      "metadata": {
        "id": "IbQAmBwlJI7S",
        "colab_type": "code",
        "colab": {}
      },
      "source": [
        ""
      ],
      "execution_count": 0,
      "outputs": []
    },
    {
      "cell_type": "markdown",
      "metadata": {
        "id": "q1ysLPPHJI7U",
        "colab_type": "text"
      },
      "source": [
        "#### c) Retorne o index da letra g"
      ]
    },
    {
      "cell_type": "code",
      "metadata": {
        "id": "ISNCaud_JI7U",
        "colab_type": "code",
        "colab": {}
      },
      "source": [
        ""
      ],
      "execution_count": 0,
      "outputs": []
    },
    {
      "cell_type": "markdown",
      "metadata": {
        "id": "0oA3b9mpJI7W",
        "colab_type": "text"
      },
      "source": [
        "#### d) Procure (find) o index inicial da palavra Python"
      ]
    },
    {
      "cell_type": "code",
      "metadata": {
        "id": "RLXrYm3BJI7W",
        "colab_type": "code",
        "colab": {}
      },
      "source": [
        ""
      ],
      "execution_count": 0,
      "outputs": []
    },
    {
      "cell_type": "code",
      "metadata": {
        "collapsed": true,
        "id": "DbGfaWasJI7a",
        "colab_type": "code",
        "colab": {}
      },
      "source": [
        ""
      ],
      "execution_count": 0,
      "outputs": []
    }
  ]
}