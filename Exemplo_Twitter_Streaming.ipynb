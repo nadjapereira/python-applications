{
  "nbformat": 4,
  "nbformat_minor": 0,
  "metadata": {
    "kernelspec": {
      "display_name": "Python 3",
      "language": "python",
      "name": "python3"
    },
    "language_info": {
      "codemirror_mode": {
        "name": "ipython",
        "version": 3
      },
      "file_extension": ".py",
      "mimetype": "text/x-python",
      "name": "python",
      "nbconvert_exporter": "python",
      "pygments_lexer": "ipython3",
      "version": "3.6.3"
    },
    "colab": {
      "name": "Exemplo_Twitter_Streaming.ipynb",
      "provenance": [],
      "include_colab_link": true
    }
  },
  "cells": [
    {
      "cell_type": "markdown",
      "metadata": {
        "id": "view-in-github",
        "colab_type": "text"
      },
      "source": [
        "<a href=\"https://colab.research.google.com/github/nadjapereira/python-applications/blob/master/Exemplo_Twitter_Streaming.ipynb\" target=\"_parent\"><img src=\"https://colab.research.google.com/assets/colab-badge.svg\" alt=\"Open In Colab\"/></a>"
      ]
    },
    {
      "cell_type": "code",
      "metadata": {
        "id": "0B0MHQJ4Lrr7",
        "colab_type": "code",
        "colab": {}
      },
      "source": [
        "import tweepy\n",
        "import time"
      ],
      "execution_count": 0,
      "outputs": []
    },
    {
      "cell_type": "code",
      "metadata": {
        "id": "TzYH8FXsLrsL",
        "colab_type": "code",
        "colab": {}
      },
      "source": [
        "consumer_key = '1ZQG1zLaiCK2Mpjg3yylBqoeg'\n",
        "consumer_secret = 'YXFqFy4kIXyq5mZ4aXV9wFZ7m85cVzPyJxadoHnBpNNcBKfdfa'\n",
        "access_token = '1008087601893593088-HBpldwAM058tBhQrcjMDZuE8JRKFFp'\n",
        "access_token_secret = 'oCFOKRi2b1moh8jU8i4TBMGRPEsluCe7bpL0R28jwaQOw'"
      ],
      "execution_count": 0,
      "outputs": []
    },
    {
      "cell_type": "code",
      "metadata": {
        "id": "YTnkMk2dLrsZ",
        "colab_type": "code",
        "colab": {}
      },
      "source": [
        "autorizar = tweepy.OAuthHandler(consumer_key, consumer_secret)\n",
        "autorizar.set_access_token(access_token, access_token_secret)\n",
        "api = tweepy.API(autorizar)"
      ],
      "execution_count": 0,
      "outputs": []
    },
    {
      "cell_type": "code",
      "metadata": {
        "id": "FXkTGDT-Lrsk",
        "colab_type": "code",
        "colab": {}
      },
      "source": [
        "class DadosPublicosTwitter(tweepy.StreamListener):\n",
        "    def __init__(self, nome_arquivo, limite):\n",
        "        self.arquivo = open(nome_arquivo, 'a', newline='')\n",
        "        self.limite = limite\n",
        "        self.tempo_inicial = time.time()\n",
        "    \n",
        "    def on_data(self, dado):\n",
        "        if (time.time() - self.tempo_inicial < self.limite):\n",
        "            self.arquivo.write(dado)\n",
        "        else:\n",
        "            self.arquivo.close()\n",
        "            return False\n",
        "    \n",
        "    def on_error(self, erro):\n",
        "        print(erro)"
      ],
      "execution_count": 0,
      "outputs": []
    },
    {
      "cell_type": "code",
      "metadata": {
        "id": "4NFJn6JBLrsv",
        "colab_type": "code",
        "colab": {}
      },
      "source": [
        "dados = DadosPublicosTwitter(nome_arquivo='tweets_salvos.json', limite=30)"
      ],
      "execution_count": 0,
      "outputs": []
    },
    {
      "cell_type": "code",
      "metadata": {
        "id": "NzVrRv4LLrs3",
        "colab_type": "code",
        "colab": {}
      },
      "source": [
        "fluxo = tweepy.Stream(autorizar, dados)"
      ],
      "execution_count": 0,
      "outputs": []
    },
    {
      "cell_type": "code",
      "metadata": {
        "id": "igukk2P-LrtE",
        "colab_type": "code",
        "colab": {}
      },
      "source": [
        "try:\n",
        "    fluxo.filter(track=['Big Data', 'FIA', 'Python'])\n",
        "except keyboardInterrupt:\n",
        "    print(\"Finalizado via CTRL+C\")"
      ],
      "execution_count": 0,
      "outputs": []
    },
    {
      "cell_type": "code",
      "metadata": {
        "id": "pZsr2P3ELrtS",
        "colab_type": "code",
        "colab": {}
      },
      "source": [
        ""
      ],
      "execution_count": 0,
      "outputs": []
    }
  ]
}